{
 "cells": [
  {
   "cell_type": "markdown",
   "id": "c46e3cb3",
   "metadata": {},
   "source": [
    "# Python libraries"
   ]
  },
  {
   "cell_type": "code",
   "execution_count": 1,
   "id": "7ef3cab3",
   "metadata": {},
   "outputs": [],
   "source": [
    "#pip install kmodes"
   ]
  },
  {
   "cell_type": "code",
   "execution_count": 37,
   "id": "d7de00cd",
   "metadata": {},
   "outputs": [
    {
     "name": "stdout",
     "output_type": "stream",
     "text": [
      "Collecting kneed\n",
      "  Downloading kneed-0.8.5-py3-none-any.whl (10 kB)\n",
      "Requirement already satisfied: numpy>=1.14.2 in e:\\applications\\anaconda\\files\\lib\\site-packages (from kneed) (1.23.5)\n",
      "Requirement already satisfied: scipy>=1.0.0 in e:\\applications\\anaconda\\files\\lib\\site-packages (from kneed) (1.10.1)\n",
      "Installing collected packages: kneed\n",
      "Successfully installed kneed-0.8.5\n",
      "Note: you may need to restart the kernel to use updated packages.\n"
     ]
    },
    {
     "name": "stderr",
     "output_type": "stream",
     "text": [
      "WARNING: Ignoring invalid distribution -illow (e:\\applications\\anaconda\\files\\lib\\site-packages)\n",
      "WARNING: Ignoring invalid distribution -illow (e:\\applications\\anaconda\\files\\lib\\site-packages)\n",
      "WARNING: Ignoring invalid distribution -illow (e:\\applications\\anaconda\\files\\lib\\site-packages)\n",
      "WARNING: Ignoring invalid distribution -illow (e:\\applications\\anaconda\\files\\lib\\site-packages)\n",
      "WARNING: Ignoring invalid distribution -illow (e:\\applications\\anaconda\\files\\lib\\site-packages)\n",
      "WARNING: Ignoring invalid distribution -illow (e:\\applications\\anaconda\\files\\lib\\site-packages)\n",
      "WARNING: Ignoring invalid distribution -illow (e:\\applications\\anaconda\\files\\lib\\site-packages)\n"
     ]
    }
   ],
   "source": [
    "#pip install kneed"
   ]
  },
  {
   "cell_type": "code",
   "execution_count": 26,
   "id": "b229266c",
   "metadata": {},
   "outputs": [],
   "source": [
    "import pandas as pd \n",
    "import numpy as np\n",
    "import matplotlib\n",
    "import matplotlib.pyplot as plt\n",
    "import seaborn as sns\n",
    "\n",
    "%matplotlib inline\n",
    "\n",
    "from kmodes.kprototypes import KPrototypes\n",
    "from sklearn.metrics import silhouette_score\n",
    "from sklearn.model_selection import train_test_split, GridSearchCV\n",
    "from sklearn.metrics import accuracy_score, roc_auc_score, confusion_matrix, classification_report\n",
    "from sklearn.metrics import confusion_matrix\n",
    "from sklearn.metrics import f1_score"
   ]
  },
  {
   "cell_type": "markdown",
   "id": "ead49737",
   "metadata": {},
   "source": [
    "# Loading the Data set "
   ]
  },
  {
   "cell_type": "code",
   "execution_count": 43,
   "id": "5c9d6752",
   "metadata": {
    "scrolled": true
   },
   "outputs": [
    {
     "data": {
      "text/html": [
       "<div>\n",
       "<style scoped>\n",
       "    .dataframe tbody tr th:only-of-type {\n",
       "        vertical-align: middle;\n",
       "    }\n",
       "\n",
       "    .dataframe tbody tr th {\n",
       "        vertical-align: top;\n",
       "    }\n",
       "\n",
       "    .dataframe thead th {\n",
       "        text-align: right;\n",
       "    }\n",
       "</style>\n",
       "<table border=\"1\" class=\"dataframe\">\n",
       "  <thead>\n",
       "    <tr style=\"text-align: right;\">\n",
       "      <th></th>\n",
       "      <th>Temperature</th>\n",
       "      <th>Humidity</th>\n",
       "      <th>Wind Speed</th>\n",
       "      <th>Precipitation (%)</th>\n",
       "      <th>Cloud Cover</th>\n",
       "      <th>Atmospheric Pressure</th>\n",
       "      <th>UV Index</th>\n",
       "      <th>Season</th>\n",
       "      <th>Visibility (km)</th>\n",
       "      <th>Location</th>\n",
       "      <th>Weather Type</th>\n",
       "    </tr>\n",
       "  </thead>\n",
       "  <tbody>\n",
       "    <tr>\n",
       "      <th>0</th>\n",
       "      <td>14.0</td>\n",
       "      <td>73</td>\n",
       "      <td>9.5</td>\n",
       "      <td>82.0</td>\n",
       "      <td>partly cloudy</td>\n",
       "      <td>1010.82</td>\n",
       "      <td>2</td>\n",
       "      <td>Winter</td>\n",
       "      <td>3.5</td>\n",
       "      <td>inland</td>\n",
       "      <td>Rainy</td>\n",
       "    </tr>\n",
       "    <tr>\n",
       "      <th>1</th>\n",
       "      <td>39.0</td>\n",
       "      <td>96</td>\n",
       "      <td>8.5</td>\n",
       "      <td>71.0</td>\n",
       "      <td>partly cloudy</td>\n",
       "      <td>1011.43</td>\n",
       "      <td>7</td>\n",
       "      <td>Spring</td>\n",
       "      <td>10.0</td>\n",
       "      <td>inland</td>\n",
       "      <td>Cloudy</td>\n",
       "    </tr>\n",
       "    <tr>\n",
       "      <th>2</th>\n",
       "      <td>30.0</td>\n",
       "      <td>64</td>\n",
       "      <td>7.0</td>\n",
       "      <td>16.0</td>\n",
       "      <td>clear</td>\n",
       "      <td>1018.72</td>\n",
       "      <td>5</td>\n",
       "      <td>Spring</td>\n",
       "      <td>5.5</td>\n",
       "      <td>mountain</td>\n",
       "      <td>Sunny</td>\n",
       "    </tr>\n",
       "    <tr>\n",
       "      <th>3</th>\n",
       "      <td>38.0</td>\n",
       "      <td>83</td>\n",
       "      <td>1.5</td>\n",
       "      <td>82.0</td>\n",
       "      <td>clear</td>\n",
       "      <td>1026.25</td>\n",
       "      <td>7</td>\n",
       "      <td>Spring</td>\n",
       "      <td>1.0</td>\n",
       "      <td>coastal</td>\n",
       "      <td>Sunny</td>\n",
       "    </tr>\n",
       "    <tr>\n",
       "      <th>4</th>\n",
       "      <td>27.0</td>\n",
       "      <td>74</td>\n",
       "      <td>17.0</td>\n",
       "      <td>66.0</td>\n",
       "      <td>overcast</td>\n",
       "      <td>990.67</td>\n",
       "      <td>1</td>\n",
       "      <td>Winter</td>\n",
       "      <td>2.5</td>\n",
       "      <td>mountain</td>\n",
       "      <td>Rainy</td>\n",
       "    </tr>\n",
       "    <tr>\n",
       "      <th>...</th>\n",
       "      <td>...</td>\n",
       "      <td>...</td>\n",
       "      <td>...</td>\n",
       "      <td>...</td>\n",
       "      <td>...</td>\n",
       "      <td>...</td>\n",
       "      <td>...</td>\n",
       "      <td>...</td>\n",
       "      <td>...</td>\n",
       "      <td>...</td>\n",
       "      <td>...</td>\n",
       "    </tr>\n",
       "    <tr>\n",
       "      <th>13195</th>\n",
       "      <td>10.0</td>\n",
       "      <td>74</td>\n",
       "      <td>14.5</td>\n",
       "      <td>71.0</td>\n",
       "      <td>overcast</td>\n",
       "      <td>1003.15</td>\n",
       "      <td>1</td>\n",
       "      <td>Summer</td>\n",
       "      <td>1.0</td>\n",
       "      <td>mountain</td>\n",
       "      <td>Rainy</td>\n",
       "    </tr>\n",
       "    <tr>\n",
       "      <th>13196</th>\n",
       "      <td>-1.0</td>\n",
       "      <td>76</td>\n",
       "      <td>3.5</td>\n",
       "      <td>23.0</td>\n",
       "      <td>cloudy</td>\n",
       "      <td>1067.23</td>\n",
       "      <td>1</td>\n",
       "      <td>Winter</td>\n",
       "      <td>6.0</td>\n",
       "      <td>coastal</td>\n",
       "      <td>Snowy</td>\n",
       "    </tr>\n",
       "    <tr>\n",
       "      <th>13197</th>\n",
       "      <td>30.0</td>\n",
       "      <td>77</td>\n",
       "      <td>5.5</td>\n",
       "      <td>28.0</td>\n",
       "      <td>overcast</td>\n",
       "      <td>1012.69</td>\n",
       "      <td>3</td>\n",
       "      <td>Autumn</td>\n",
       "      <td>9.0</td>\n",
       "      <td>coastal</td>\n",
       "      <td>Cloudy</td>\n",
       "    </tr>\n",
       "    <tr>\n",
       "      <th>13198</th>\n",
       "      <td>3.0</td>\n",
       "      <td>76</td>\n",
       "      <td>10.0</td>\n",
       "      <td>94.0</td>\n",
       "      <td>overcast</td>\n",
       "      <td>984.27</td>\n",
       "      <td>0</td>\n",
       "      <td>Winter</td>\n",
       "      <td>2.0</td>\n",
       "      <td>inland</td>\n",
       "      <td>Snowy</td>\n",
       "    </tr>\n",
       "    <tr>\n",
       "      <th>13199</th>\n",
       "      <td>-5.0</td>\n",
       "      <td>38</td>\n",
       "      <td>0.0</td>\n",
       "      <td>92.0</td>\n",
       "      <td>overcast</td>\n",
       "      <td>1015.37</td>\n",
       "      <td>5</td>\n",
       "      <td>Autumn</td>\n",
       "      <td>10.0</td>\n",
       "      <td>mountain</td>\n",
       "      <td>Rainy</td>\n",
       "    </tr>\n",
       "  </tbody>\n",
       "</table>\n",
       "<p>13200 rows × 11 columns</p>\n",
       "</div>"
      ],
      "text/plain": [
       "       Temperature  Humidity  Wind Speed  Precipitation (%)    Cloud Cover  \\\n",
       "0             14.0        73         9.5               82.0  partly cloudy   \n",
       "1             39.0        96         8.5               71.0  partly cloudy   \n",
       "2             30.0        64         7.0               16.0          clear   \n",
       "3             38.0        83         1.5               82.0          clear   \n",
       "4             27.0        74        17.0               66.0       overcast   \n",
       "...            ...       ...         ...                ...            ...   \n",
       "13195         10.0        74        14.5               71.0       overcast   \n",
       "13196         -1.0        76         3.5               23.0         cloudy   \n",
       "13197         30.0        77         5.5               28.0       overcast   \n",
       "13198          3.0        76        10.0               94.0       overcast   \n",
       "13199         -5.0        38         0.0               92.0       overcast   \n",
       "\n",
       "       Atmospheric Pressure  UV Index  Season  Visibility (km)  Location  \\\n",
       "0                   1010.82         2  Winter              3.5    inland   \n",
       "1                   1011.43         7  Spring             10.0    inland   \n",
       "2                   1018.72         5  Spring              5.5  mountain   \n",
       "3                   1026.25         7  Spring              1.0   coastal   \n",
       "4                    990.67         1  Winter              2.5  mountain   \n",
       "...                     ...       ...     ...              ...       ...   \n",
       "13195               1003.15         1  Summer              1.0  mountain   \n",
       "13196               1067.23         1  Winter              6.0   coastal   \n",
       "13197               1012.69         3  Autumn              9.0   coastal   \n",
       "13198                984.27         0  Winter              2.0    inland   \n",
       "13199               1015.37         5  Autumn             10.0  mountain   \n",
       "\n",
       "      Weather Type  \n",
       "0            Rainy  \n",
       "1           Cloudy  \n",
       "2            Sunny  \n",
       "3            Sunny  \n",
       "4            Rainy  \n",
       "...            ...  \n",
       "13195        Rainy  \n",
       "13196        Snowy  \n",
       "13197       Cloudy  \n",
       "13198        Snowy  \n",
       "13199        Rainy  \n",
       "\n",
       "[13200 rows x 11 columns]"
      ]
     },
     "execution_count": 43,
     "metadata": {},
     "output_type": "execute_result"
    }
   ],
   "source": [
    "data = pd.read_csv(\"weather_classification_data.csv\")\n",
    "data "
   ]
  },
  {
   "cell_type": "markdown",
   "id": "78698c66",
   "metadata": {},
   "source": [
    "## Data Cleaning "
   ]
  },
  {
   "cell_type": "code",
   "execution_count": 44,
   "id": "36d98030",
   "metadata": {},
   "outputs": [
    {
     "data": {
      "text/plain": [
       "Temperature             0\n",
       "Humidity                0\n",
       "Wind Speed              0\n",
       "Precipitation (%)       0\n",
       "Cloud Cover             0\n",
       "Atmospheric Pressure    0\n",
       "UV Index                0\n",
       "Season                  0\n",
       "Visibility (km)         0\n",
       "Location                0\n",
       "Weather Type            0\n",
       "dtype: int64"
      ]
     },
     "execution_count": 44,
     "metadata": {},
     "output_type": "execute_result"
    }
   ],
   "source": [
    "data.isna().sum()"
   ]
  },
  {
   "cell_type": "code",
   "execution_count": 45,
   "id": "d14f66cf",
   "metadata": {
    "scrolled": true
   },
   "outputs": [
    {
     "data": {
      "text/plain": [
       "0"
      ]
     },
     "execution_count": 45,
     "metadata": {},
     "output_type": "execute_result"
    }
   ],
   "source": [
    "data.duplicated().sum()"
   ]
  },
  {
   "cell_type": "code",
   "execution_count": 46,
   "id": "3fcdf063",
   "metadata": {},
   "outputs": [],
   "source": [
    "data.rename(columns={\n",
    "    'Precipitation (%)': 'Precipitation_percent',\n",
    "    'Atmospheric Pressure': 'Atmospheric_Pressure',\n",
    "    'Visibility (km)': 'Visibility_km',\n",
    "    'Cloud Cover': 'Cloud_Cover',\n",
    "    'Weather Type': 'Weather_Type',\n",
    "    'Wind Speed': 'Wind_Speed',\n",
    "    'UV Index': 'UV_Index'\n",
    "    \n",
    "}, inplace=True)"
   ]
  },
  {
   "cell_type": "markdown",
   "id": "dac966a9",
   "metadata": {},
   "source": [
    "## Encoding "
   ]
  },
  {
   "cell_type": "code",
   "execution_count": 47,
   "id": "15098ddf",
   "metadata": {
    "scrolled": true
   },
   "outputs": [
    {
     "data": {
      "text/html": [
       "<div>\n",
       "<style scoped>\n",
       "    .dataframe tbody tr th:only-of-type {\n",
       "        vertical-align: middle;\n",
       "    }\n",
       "\n",
       "    .dataframe tbody tr th {\n",
       "        vertical-align: top;\n",
       "    }\n",
       "\n",
       "    .dataframe thead th {\n",
       "        text-align: right;\n",
       "    }\n",
       "</style>\n",
       "<table border=\"1\" class=\"dataframe\">\n",
       "  <thead>\n",
       "    <tr style=\"text-align: right;\">\n",
       "      <th></th>\n",
       "      <th>Temperature</th>\n",
       "      <th>Humidity</th>\n",
       "      <th>Wind_Speed</th>\n",
       "      <th>Precipitation_percent</th>\n",
       "      <th>Atmospheric_Pressure</th>\n",
       "      <th>UV_Index</th>\n",
       "      <th>Visibility_km</th>\n",
       "      <th>Weather_Type</th>\n",
       "      <th>Cloud_Cover_cloudy</th>\n",
       "      <th>Cloud_Cover_overcast</th>\n",
       "      <th>Cloud_Cover_partly cloudy</th>\n",
       "      <th>Season_Spring</th>\n",
       "      <th>Season_Summer</th>\n",
       "      <th>Season_Winter</th>\n",
       "      <th>Location_inland</th>\n",
       "      <th>Location_mountain</th>\n",
       "    </tr>\n",
       "  </thead>\n",
       "  <tbody>\n",
       "    <tr>\n",
       "      <th>0</th>\n",
       "      <td>14.0</td>\n",
       "      <td>73</td>\n",
       "      <td>9.5</td>\n",
       "      <td>82.0</td>\n",
       "      <td>1010.82</td>\n",
       "      <td>2</td>\n",
       "      <td>3.5</td>\n",
       "      <td>Rainy</td>\n",
       "      <td>0</td>\n",
       "      <td>0</td>\n",
       "      <td>1</td>\n",
       "      <td>0</td>\n",
       "      <td>0</td>\n",
       "      <td>1</td>\n",
       "      <td>1</td>\n",
       "      <td>0</td>\n",
       "    </tr>\n",
       "    <tr>\n",
       "      <th>1</th>\n",
       "      <td>39.0</td>\n",
       "      <td>96</td>\n",
       "      <td>8.5</td>\n",
       "      <td>71.0</td>\n",
       "      <td>1011.43</td>\n",
       "      <td>7</td>\n",
       "      <td>10.0</td>\n",
       "      <td>Cloudy</td>\n",
       "      <td>0</td>\n",
       "      <td>0</td>\n",
       "      <td>1</td>\n",
       "      <td>1</td>\n",
       "      <td>0</td>\n",
       "      <td>0</td>\n",
       "      <td>1</td>\n",
       "      <td>0</td>\n",
       "    </tr>\n",
       "    <tr>\n",
       "      <th>2</th>\n",
       "      <td>30.0</td>\n",
       "      <td>64</td>\n",
       "      <td>7.0</td>\n",
       "      <td>16.0</td>\n",
       "      <td>1018.72</td>\n",
       "      <td>5</td>\n",
       "      <td>5.5</td>\n",
       "      <td>Sunny</td>\n",
       "      <td>0</td>\n",
       "      <td>0</td>\n",
       "      <td>0</td>\n",
       "      <td>1</td>\n",
       "      <td>0</td>\n",
       "      <td>0</td>\n",
       "      <td>0</td>\n",
       "      <td>1</td>\n",
       "    </tr>\n",
       "    <tr>\n",
       "      <th>3</th>\n",
       "      <td>38.0</td>\n",
       "      <td>83</td>\n",
       "      <td>1.5</td>\n",
       "      <td>82.0</td>\n",
       "      <td>1026.25</td>\n",
       "      <td>7</td>\n",
       "      <td>1.0</td>\n",
       "      <td>Sunny</td>\n",
       "      <td>0</td>\n",
       "      <td>0</td>\n",
       "      <td>0</td>\n",
       "      <td>1</td>\n",
       "      <td>0</td>\n",
       "      <td>0</td>\n",
       "      <td>0</td>\n",
       "      <td>0</td>\n",
       "    </tr>\n",
       "    <tr>\n",
       "      <th>4</th>\n",
       "      <td>27.0</td>\n",
       "      <td>74</td>\n",
       "      <td>17.0</td>\n",
       "      <td>66.0</td>\n",
       "      <td>990.67</td>\n",
       "      <td>1</td>\n",
       "      <td>2.5</td>\n",
       "      <td>Rainy</td>\n",
       "      <td>0</td>\n",
       "      <td>1</td>\n",
       "      <td>0</td>\n",
       "      <td>0</td>\n",
       "      <td>0</td>\n",
       "      <td>1</td>\n",
       "      <td>0</td>\n",
       "      <td>1</td>\n",
       "    </tr>\n",
       "    <tr>\n",
       "      <th>...</th>\n",
       "      <td>...</td>\n",
       "      <td>...</td>\n",
       "      <td>...</td>\n",
       "      <td>...</td>\n",
       "      <td>...</td>\n",
       "      <td>...</td>\n",
       "      <td>...</td>\n",
       "      <td>...</td>\n",
       "      <td>...</td>\n",
       "      <td>...</td>\n",
       "      <td>...</td>\n",
       "      <td>...</td>\n",
       "      <td>...</td>\n",
       "      <td>...</td>\n",
       "      <td>...</td>\n",
       "      <td>...</td>\n",
       "    </tr>\n",
       "    <tr>\n",
       "      <th>13195</th>\n",
       "      <td>10.0</td>\n",
       "      <td>74</td>\n",
       "      <td>14.5</td>\n",
       "      <td>71.0</td>\n",
       "      <td>1003.15</td>\n",
       "      <td>1</td>\n",
       "      <td>1.0</td>\n",
       "      <td>Rainy</td>\n",
       "      <td>0</td>\n",
       "      <td>1</td>\n",
       "      <td>0</td>\n",
       "      <td>0</td>\n",
       "      <td>1</td>\n",
       "      <td>0</td>\n",
       "      <td>0</td>\n",
       "      <td>1</td>\n",
       "    </tr>\n",
       "    <tr>\n",
       "      <th>13196</th>\n",
       "      <td>-1.0</td>\n",
       "      <td>76</td>\n",
       "      <td>3.5</td>\n",
       "      <td>23.0</td>\n",
       "      <td>1067.23</td>\n",
       "      <td>1</td>\n",
       "      <td>6.0</td>\n",
       "      <td>Snowy</td>\n",
       "      <td>1</td>\n",
       "      <td>0</td>\n",
       "      <td>0</td>\n",
       "      <td>0</td>\n",
       "      <td>0</td>\n",
       "      <td>1</td>\n",
       "      <td>0</td>\n",
       "      <td>0</td>\n",
       "    </tr>\n",
       "    <tr>\n",
       "      <th>13197</th>\n",
       "      <td>30.0</td>\n",
       "      <td>77</td>\n",
       "      <td>5.5</td>\n",
       "      <td>28.0</td>\n",
       "      <td>1012.69</td>\n",
       "      <td>3</td>\n",
       "      <td>9.0</td>\n",
       "      <td>Cloudy</td>\n",
       "      <td>0</td>\n",
       "      <td>1</td>\n",
       "      <td>0</td>\n",
       "      <td>0</td>\n",
       "      <td>0</td>\n",
       "      <td>0</td>\n",
       "      <td>0</td>\n",
       "      <td>0</td>\n",
       "    </tr>\n",
       "    <tr>\n",
       "      <th>13198</th>\n",
       "      <td>3.0</td>\n",
       "      <td>76</td>\n",
       "      <td>10.0</td>\n",
       "      <td>94.0</td>\n",
       "      <td>984.27</td>\n",
       "      <td>0</td>\n",
       "      <td>2.0</td>\n",
       "      <td>Snowy</td>\n",
       "      <td>0</td>\n",
       "      <td>1</td>\n",
       "      <td>0</td>\n",
       "      <td>0</td>\n",
       "      <td>0</td>\n",
       "      <td>1</td>\n",
       "      <td>1</td>\n",
       "      <td>0</td>\n",
       "    </tr>\n",
       "    <tr>\n",
       "      <th>13199</th>\n",
       "      <td>-5.0</td>\n",
       "      <td>38</td>\n",
       "      <td>0.0</td>\n",
       "      <td>92.0</td>\n",
       "      <td>1015.37</td>\n",
       "      <td>5</td>\n",
       "      <td>10.0</td>\n",
       "      <td>Rainy</td>\n",
       "      <td>0</td>\n",
       "      <td>1</td>\n",
       "      <td>0</td>\n",
       "      <td>0</td>\n",
       "      <td>0</td>\n",
       "      <td>0</td>\n",
       "      <td>0</td>\n",
       "      <td>1</td>\n",
       "    </tr>\n",
       "  </tbody>\n",
       "</table>\n",
       "<p>13200 rows × 16 columns</p>\n",
       "</div>"
      ],
      "text/plain": [
       "       Temperature  Humidity  Wind_Speed  Precipitation_percent  \\\n",
       "0             14.0        73         9.5                   82.0   \n",
       "1             39.0        96         8.5                   71.0   \n",
       "2             30.0        64         7.0                   16.0   \n",
       "3             38.0        83         1.5                   82.0   \n",
       "4             27.0        74        17.0                   66.0   \n",
       "...            ...       ...         ...                    ...   \n",
       "13195         10.0        74        14.5                   71.0   \n",
       "13196         -1.0        76         3.5                   23.0   \n",
       "13197         30.0        77         5.5                   28.0   \n",
       "13198          3.0        76        10.0                   94.0   \n",
       "13199         -5.0        38         0.0                   92.0   \n",
       "\n",
       "       Atmospheric_Pressure  UV_Index  Visibility_km Weather_Type  \\\n",
       "0                   1010.82         2            3.5        Rainy   \n",
       "1                   1011.43         7           10.0       Cloudy   \n",
       "2                   1018.72         5            5.5        Sunny   \n",
       "3                   1026.25         7            1.0        Sunny   \n",
       "4                    990.67         1            2.5        Rainy   \n",
       "...                     ...       ...            ...          ...   \n",
       "13195               1003.15         1            1.0        Rainy   \n",
       "13196               1067.23         1            6.0        Snowy   \n",
       "13197               1012.69         3            9.0       Cloudy   \n",
       "13198                984.27         0            2.0        Snowy   \n",
       "13199               1015.37         5           10.0        Rainy   \n",
       "\n",
       "       Cloud_Cover_cloudy  Cloud_Cover_overcast  Cloud_Cover_partly cloudy  \\\n",
       "0                       0                     0                          1   \n",
       "1                       0                     0                          1   \n",
       "2                       0                     0                          0   \n",
       "3                       0                     0                          0   \n",
       "4                       0                     1                          0   \n",
       "...                   ...                   ...                        ...   \n",
       "13195                   0                     1                          0   \n",
       "13196                   1                     0                          0   \n",
       "13197                   0                     1                          0   \n",
       "13198                   0                     1                          0   \n",
       "13199                   0                     1                          0   \n",
       "\n",
       "       Season_Spring  Season_Summer  Season_Winter  Location_inland  \\\n",
       "0                  0              0              1                1   \n",
       "1                  1              0              0                1   \n",
       "2                  1              0              0                0   \n",
       "3                  1              0              0                0   \n",
       "4                  0              0              1                0   \n",
       "...              ...            ...            ...              ...   \n",
       "13195              0              1              0                0   \n",
       "13196              0              0              1                0   \n",
       "13197              0              0              0                0   \n",
       "13198              0              0              1                1   \n",
       "13199              0              0              0                0   \n",
       "\n",
       "       Location_mountain  \n",
       "0                      0  \n",
       "1                      0  \n",
       "2                      1  \n",
       "3                      0  \n",
       "4                      1  \n",
       "...                  ...  \n",
       "13195                  1  \n",
       "13196                  0  \n",
       "13197                  0  \n",
       "13198                  0  \n",
       "13199                  1  \n",
       "\n",
       "[13200 rows x 16 columns]"
      ]
     },
     "execution_count": 47,
     "metadata": {},
     "output_type": "execute_result"
    }
   ],
   "source": [
    "data_en = pd.get_dummies(data,columns=['Cloud_Cover','Season','Location'],drop_first=True) \n",
    "data_en"
   ]
  },
  {
   "cell_type": "code",
   "execution_count": 48,
   "id": "15a684ae",
   "metadata": {
    "scrolled": false
   },
   "outputs": [
    {
     "name": "stdout",
     "output_type": "stream",
     "text": [
      "0    0\n",
      "1    1\n",
      "2    1\n",
      "3    1\n",
      "4    0\n",
      "Name: Weather_Type, dtype: int64\n"
     ]
    }
   ],
   "source": [
    "data_en['Weather_Type'] = data_en['Weather_Type'].replace({'Cloudy': 1, 'Sunny': 1, 'Rainy': 0, 'Snowy': 0})\n",
    "\n",
    "# Check the result\n",
    "print(data_en['Weather_Type'].head())"
   ]
  },
  {
   "cell_type": "code",
   "execution_count": 49,
   "id": "1c0e2398",
   "metadata": {
    "scrolled": false
   },
   "outputs": [
    {
     "data": {
      "text/html": [
       "<div>\n",
       "<style scoped>\n",
       "    .dataframe tbody tr th:only-of-type {\n",
       "        vertical-align: middle;\n",
       "    }\n",
       "\n",
       "    .dataframe tbody tr th {\n",
       "        vertical-align: top;\n",
       "    }\n",
       "\n",
       "    .dataframe thead th {\n",
       "        text-align: right;\n",
       "    }\n",
       "</style>\n",
       "<table border=\"1\" class=\"dataframe\">\n",
       "  <thead>\n",
       "    <tr style=\"text-align: right;\">\n",
       "      <th></th>\n",
       "      <th>Temperature</th>\n",
       "      <th>Humidity</th>\n",
       "      <th>Wind_Speed</th>\n",
       "      <th>Precipitation_percent</th>\n",
       "      <th>Atmospheric_Pressure</th>\n",
       "      <th>UV_Index</th>\n",
       "      <th>Visibility_km</th>\n",
       "      <th>Weather_Type</th>\n",
       "      <th>Cloud_Cover_cloudy</th>\n",
       "      <th>Cloud_Cover_overcast</th>\n",
       "      <th>Cloud_Cover_partly cloudy</th>\n",
       "      <th>Season_Spring</th>\n",
       "      <th>Season_Summer</th>\n",
       "      <th>Season_Winter</th>\n",
       "      <th>Location_inland</th>\n",
       "      <th>Location_mountain</th>\n",
       "    </tr>\n",
       "  </thead>\n",
       "  <tbody>\n",
       "    <tr>\n",
       "      <th>0</th>\n",
       "      <td>14.0</td>\n",
       "      <td>73</td>\n",
       "      <td>9.5</td>\n",
       "      <td>82.0</td>\n",
       "      <td>1010.82</td>\n",
       "      <td>2</td>\n",
       "      <td>3.5</td>\n",
       "      <td>0</td>\n",
       "      <td>0</td>\n",
       "      <td>0</td>\n",
       "      <td>1</td>\n",
       "      <td>0</td>\n",
       "      <td>0</td>\n",
       "      <td>1</td>\n",
       "      <td>1</td>\n",
       "      <td>0</td>\n",
       "    </tr>\n",
       "    <tr>\n",
       "      <th>1</th>\n",
       "      <td>39.0</td>\n",
       "      <td>96</td>\n",
       "      <td>8.5</td>\n",
       "      <td>71.0</td>\n",
       "      <td>1011.43</td>\n",
       "      <td>7</td>\n",
       "      <td>10.0</td>\n",
       "      <td>1</td>\n",
       "      <td>0</td>\n",
       "      <td>0</td>\n",
       "      <td>1</td>\n",
       "      <td>1</td>\n",
       "      <td>0</td>\n",
       "      <td>0</td>\n",
       "      <td>1</td>\n",
       "      <td>0</td>\n",
       "    </tr>\n",
       "    <tr>\n",
       "      <th>2</th>\n",
       "      <td>30.0</td>\n",
       "      <td>64</td>\n",
       "      <td>7.0</td>\n",
       "      <td>16.0</td>\n",
       "      <td>1018.72</td>\n",
       "      <td>5</td>\n",
       "      <td>5.5</td>\n",
       "      <td>1</td>\n",
       "      <td>0</td>\n",
       "      <td>0</td>\n",
       "      <td>0</td>\n",
       "      <td>1</td>\n",
       "      <td>0</td>\n",
       "      <td>0</td>\n",
       "      <td>0</td>\n",
       "      <td>1</td>\n",
       "    </tr>\n",
       "    <tr>\n",
       "      <th>3</th>\n",
       "      <td>38.0</td>\n",
       "      <td>83</td>\n",
       "      <td>1.5</td>\n",
       "      <td>82.0</td>\n",
       "      <td>1026.25</td>\n",
       "      <td>7</td>\n",
       "      <td>1.0</td>\n",
       "      <td>1</td>\n",
       "      <td>0</td>\n",
       "      <td>0</td>\n",
       "      <td>0</td>\n",
       "      <td>1</td>\n",
       "      <td>0</td>\n",
       "      <td>0</td>\n",
       "      <td>0</td>\n",
       "      <td>0</td>\n",
       "    </tr>\n",
       "    <tr>\n",
       "      <th>4</th>\n",
       "      <td>27.0</td>\n",
       "      <td>74</td>\n",
       "      <td>17.0</td>\n",
       "      <td>66.0</td>\n",
       "      <td>990.67</td>\n",
       "      <td>1</td>\n",
       "      <td>2.5</td>\n",
       "      <td>0</td>\n",
       "      <td>0</td>\n",
       "      <td>1</td>\n",
       "      <td>0</td>\n",
       "      <td>0</td>\n",
       "      <td>0</td>\n",
       "      <td>1</td>\n",
       "      <td>0</td>\n",
       "      <td>1</td>\n",
       "    </tr>\n",
       "    <tr>\n",
       "      <th>...</th>\n",
       "      <td>...</td>\n",
       "      <td>...</td>\n",
       "      <td>...</td>\n",
       "      <td>...</td>\n",
       "      <td>...</td>\n",
       "      <td>...</td>\n",
       "      <td>...</td>\n",
       "      <td>...</td>\n",
       "      <td>...</td>\n",
       "      <td>...</td>\n",
       "      <td>...</td>\n",
       "      <td>...</td>\n",
       "      <td>...</td>\n",
       "      <td>...</td>\n",
       "      <td>...</td>\n",
       "      <td>...</td>\n",
       "    </tr>\n",
       "    <tr>\n",
       "      <th>13195</th>\n",
       "      <td>10.0</td>\n",
       "      <td>74</td>\n",
       "      <td>14.5</td>\n",
       "      <td>71.0</td>\n",
       "      <td>1003.15</td>\n",
       "      <td>1</td>\n",
       "      <td>1.0</td>\n",
       "      <td>0</td>\n",
       "      <td>0</td>\n",
       "      <td>1</td>\n",
       "      <td>0</td>\n",
       "      <td>0</td>\n",
       "      <td>1</td>\n",
       "      <td>0</td>\n",
       "      <td>0</td>\n",
       "      <td>1</td>\n",
       "    </tr>\n",
       "    <tr>\n",
       "      <th>13196</th>\n",
       "      <td>-1.0</td>\n",
       "      <td>76</td>\n",
       "      <td>3.5</td>\n",
       "      <td>23.0</td>\n",
       "      <td>1067.23</td>\n",
       "      <td>1</td>\n",
       "      <td>6.0</td>\n",
       "      <td>0</td>\n",
       "      <td>1</td>\n",
       "      <td>0</td>\n",
       "      <td>0</td>\n",
       "      <td>0</td>\n",
       "      <td>0</td>\n",
       "      <td>1</td>\n",
       "      <td>0</td>\n",
       "      <td>0</td>\n",
       "    </tr>\n",
       "    <tr>\n",
       "      <th>13197</th>\n",
       "      <td>30.0</td>\n",
       "      <td>77</td>\n",
       "      <td>5.5</td>\n",
       "      <td>28.0</td>\n",
       "      <td>1012.69</td>\n",
       "      <td>3</td>\n",
       "      <td>9.0</td>\n",
       "      <td>1</td>\n",
       "      <td>0</td>\n",
       "      <td>1</td>\n",
       "      <td>0</td>\n",
       "      <td>0</td>\n",
       "      <td>0</td>\n",
       "      <td>0</td>\n",
       "      <td>0</td>\n",
       "      <td>0</td>\n",
       "    </tr>\n",
       "    <tr>\n",
       "      <th>13198</th>\n",
       "      <td>3.0</td>\n",
       "      <td>76</td>\n",
       "      <td>10.0</td>\n",
       "      <td>94.0</td>\n",
       "      <td>984.27</td>\n",
       "      <td>0</td>\n",
       "      <td>2.0</td>\n",
       "      <td>0</td>\n",
       "      <td>0</td>\n",
       "      <td>1</td>\n",
       "      <td>0</td>\n",
       "      <td>0</td>\n",
       "      <td>0</td>\n",
       "      <td>1</td>\n",
       "      <td>1</td>\n",
       "      <td>0</td>\n",
       "    </tr>\n",
       "    <tr>\n",
       "      <th>13199</th>\n",
       "      <td>-5.0</td>\n",
       "      <td>38</td>\n",
       "      <td>0.0</td>\n",
       "      <td>92.0</td>\n",
       "      <td>1015.37</td>\n",
       "      <td>5</td>\n",
       "      <td>10.0</td>\n",
       "      <td>0</td>\n",
       "      <td>0</td>\n",
       "      <td>1</td>\n",
       "      <td>0</td>\n",
       "      <td>0</td>\n",
       "      <td>0</td>\n",
       "      <td>0</td>\n",
       "      <td>0</td>\n",
       "      <td>1</td>\n",
       "    </tr>\n",
       "  </tbody>\n",
       "</table>\n",
       "<p>13200 rows × 16 columns</p>\n",
       "</div>"
      ],
      "text/plain": [
       "       Temperature  Humidity  Wind_Speed  Precipitation_percent  \\\n",
       "0             14.0        73         9.5                   82.0   \n",
       "1             39.0        96         8.5                   71.0   \n",
       "2             30.0        64         7.0                   16.0   \n",
       "3             38.0        83         1.5                   82.0   \n",
       "4             27.0        74        17.0                   66.0   \n",
       "...            ...       ...         ...                    ...   \n",
       "13195         10.0        74        14.5                   71.0   \n",
       "13196         -1.0        76         3.5                   23.0   \n",
       "13197         30.0        77         5.5                   28.0   \n",
       "13198          3.0        76        10.0                   94.0   \n",
       "13199         -5.0        38         0.0                   92.0   \n",
       "\n",
       "       Atmospheric_Pressure  UV_Index  Visibility_km  Weather_Type  \\\n",
       "0                   1010.82         2            3.5             0   \n",
       "1                   1011.43         7           10.0             1   \n",
       "2                   1018.72         5            5.5             1   \n",
       "3                   1026.25         7            1.0             1   \n",
       "4                    990.67         1            2.5             0   \n",
       "...                     ...       ...            ...           ...   \n",
       "13195               1003.15         1            1.0             0   \n",
       "13196               1067.23         1            6.0             0   \n",
       "13197               1012.69         3            9.0             1   \n",
       "13198                984.27         0            2.0             0   \n",
       "13199               1015.37         5           10.0             0   \n",
       "\n",
       "       Cloud_Cover_cloudy  Cloud_Cover_overcast  Cloud_Cover_partly cloudy  \\\n",
       "0                       0                     0                          1   \n",
       "1                       0                     0                          1   \n",
       "2                       0                     0                          0   \n",
       "3                       0                     0                          0   \n",
       "4                       0                     1                          0   \n",
       "...                   ...                   ...                        ...   \n",
       "13195                   0                     1                          0   \n",
       "13196                   1                     0                          0   \n",
       "13197                   0                     1                          0   \n",
       "13198                   0                     1                          0   \n",
       "13199                   0                     1                          0   \n",
       "\n",
       "       Season_Spring  Season_Summer  Season_Winter  Location_inland  \\\n",
       "0                  0              0              1                1   \n",
       "1                  1              0              0                1   \n",
       "2                  1              0              0                0   \n",
       "3                  1              0              0                0   \n",
       "4                  0              0              1                0   \n",
       "...              ...            ...            ...              ...   \n",
       "13195              0              1              0                0   \n",
       "13196              0              0              1                0   \n",
       "13197              0              0              0                0   \n",
       "13198              0              0              1                1   \n",
       "13199              0              0              0                0   \n",
       "\n",
       "       Location_mountain  \n",
       "0                      0  \n",
       "1                      0  \n",
       "2                      1  \n",
       "3                      0  \n",
       "4                      1  \n",
       "...                  ...  \n",
       "13195                  1  \n",
       "13196                  0  \n",
       "13197                  0  \n",
       "13198                  0  \n",
       "13199                  1  \n",
       "\n",
       "[13200 rows x 16 columns]"
      ]
     },
     "execution_count": 49,
     "metadata": {},
     "output_type": "execute_result"
    }
   ],
   "source": [
    "data_en"
   ]
  },
  {
   "cell_type": "code",
   "execution_count": 18,
   "id": "2fcfbb2e",
   "metadata": {},
   "outputs": [],
   "source": [
    "#from sklearn.preprocessing import LabelEncoder\n",
    "#le = LabelEncoder()\n",
    "#le.fit(data['Weather_Type'])\n",
    "#data_en['Weather_Type'] = le.transform(data_en['Weather_Type'])"
   ]
  },
  {
   "cell_type": "code",
   "execution_count": 95,
   "id": "3fe70f9e",
   "metadata": {
    "scrolled": true
   },
   "outputs": [],
   "source": [
    "#for i, class_ in enumerate(le.classes_):\n",
    "    #print(f'{class_} is encoded as {i}')\n",
    "    \n",
    "#inverse_transformed = list(le.inverse_transform([0, 1, 2, 3]))\n",
    "#print(\"Inverse Transformed:\", inverse_transformed)"
   ]
  },
  {
   "cell_type": "code",
   "execution_count": 51,
   "id": "64639693",
   "metadata": {
    "scrolled": true
   },
   "outputs": [
    {
     "data": {
      "text/html": [
       "<div>\n",
       "<style scoped>\n",
       "    .dataframe tbody tr th:only-of-type {\n",
       "        vertical-align: middle;\n",
       "    }\n",
       "\n",
       "    .dataframe tbody tr th {\n",
       "        vertical-align: top;\n",
       "    }\n",
       "\n",
       "    .dataframe thead th {\n",
       "        text-align: right;\n",
       "    }\n",
       "</style>\n",
       "<table border=\"1\" class=\"dataframe\">\n",
       "  <thead>\n",
       "    <tr style=\"text-align: right;\">\n",
       "      <th></th>\n",
       "      <th>Temperature</th>\n",
       "      <th>Humidity</th>\n",
       "      <th>Wind_Speed</th>\n",
       "      <th>Precipitation_percent</th>\n",
       "      <th>Atmospheric_Pressure</th>\n",
       "      <th>UV_Index</th>\n",
       "      <th>Visibility_km</th>\n",
       "      <th>Weather_Type</th>\n",
       "      <th>Cloud_Cover_cloudy</th>\n",
       "      <th>Cloud_Cover_overcast</th>\n",
       "      <th>Cloud_Cover_partly cloudy</th>\n",
       "      <th>Season_Spring</th>\n",
       "      <th>Season_Summer</th>\n",
       "      <th>Season_Winter</th>\n",
       "      <th>Location_inland</th>\n",
       "      <th>Location_mountain</th>\n",
       "    </tr>\n",
       "  </thead>\n",
       "  <tbody>\n",
       "    <tr>\n",
       "      <th>0</th>\n",
       "      <td>14.0</td>\n",
       "      <td>73</td>\n",
       "      <td>9.5</td>\n",
       "      <td>82.0</td>\n",
       "      <td>1010.82</td>\n",
       "      <td>2</td>\n",
       "      <td>3.5</td>\n",
       "      <td>0</td>\n",
       "      <td>0</td>\n",
       "      <td>0</td>\n",
       "      <td>1</td>\n",
       "      <td>0</td>\n",
       "      <td>0</td>\n",
       "      <td>1</td>\n",
       "      <td>1</td>\n",
       "      <td>0</td>\n",
       "    </tr>\n",
       "    <tr>\n",
       "      <th>1</th>\n",
       "      <td>39.0</td>\n",
       "      <td>96</td>\n",
       "      <td>8.5</td>\n",
       "      <td>71.0</td>\n",
       "      <td>1011.43</td>\n",
       "      <td>7</td>\n",
       "      <td>10.0</td>\n",
       "      <td>1</td>\n",
       "      <td>0</td>\n",
       "      <td>0</td>\n",
       "      <td>1</td>\n",
       "      <td>1</td>\n",
       "      <td>0</td>\n",
       "      <td>0</td>\n",
       "      <td>1</td>\n",
       "      <td>0</td>\n",
       "    </tr>\n",
       "    <tr>\n",
       "      <th>2</th>\n",
       "      <td>30.0</td>\n",
       "      <td>64</td>\n",
       "      <td>7.0</td>\n",
       "      <td>16.0</td>\n",
       "      <td>1018.72</td>\n",
       "      <td>5</td>\n",
       "      <td>5.5</td>\n",
       "      <td>1</td>\n",
       "      <td>0</td>\n",
       "      <td>0</td>\n",
       "      <td>0</td>\n",
       "      <td>1</td>\n",
       "      <td>0</td>\n",
       "      <td>0</td>\n",
       "      <td>0</td>\n",
       "      <td>1</td>\n",
       "    </tr>\n",
       "    <tr>\n",
       "      <th>3</th>\n",
       "      <td>38.0</td>\n",
       "      <td>83</td>\n",
       "      <td>1.5</td>\n",
       "      <td>82.0</td>\n",
       "      <td>1026.25</td>\n",
       "      <td>7</td>\n",
       "      <td>1.0</td>\n",
       "      <td>1</td>\n",
       "      <td>0</td>\n",
       "      <td>0</td>\n",
       "      <td>0</td>\n",
       "      <td>1</td>\n",
       "      <td>0</td>\n",
       "      <td>0</td>\n",
       "      <td>0</td>\n",
       "      <td>0</td>\n",
       "    </tr>\n",
       "    <tr>\n",
       "      <th>4</th>\n",
       "      <td>27.0</td>\n",
       "      <td>74</td>\n",
       "      <td>17.0</td>\n",
       "      <td>66.0</td>\n",
       "      <td>990.67</td>\n",
       "      <td>1</td>\n",
       "      <td>2.5</td>\n",
       "      <td>0</td>\n",
       "      <td>0</td>\n",
       "      <td>1</td>\n",
       "      <td>0</td>\n",
       "      <td>0</td>\n",
       "      <td>0</td>\n",
       "      <td>1</td>\n",
       "      <td>0</td>\n",
       "      <td>1</td>\n",
       "    </tr>\n",
       "    <tr>\n",
       "      <th>...</th>\n",
       "      <td>...</td>\n",
       "      <td>...</td>\n",
       "      <td>...</td>\n",
       "      <td>...</td>\n",
       "      <td>...</td>\n",
       "      <td>...</td>\n",
       "      <td>...</td>\n",
       "      <td>...</td>\n",
       "      <td>...</td>\n",
       "      <td>...</td>\n",
       "      <td>...</td>\n",
       "      <td>...</td>\n",
       "      <td>...</td>\n",
       "      <td>...</td>\n",
       "      <td>...</td>\n",
       "      <td>...</td>\n",
       "    </tr>\n",
       "    <tr>\n",
       "      <th>13195</th>\n",
       "      <td>10.0</td>\n",
       "      <td>74</td>\n",
       "      <td>14.5</td>\n",
       "      <td>71.0</td>\n",
       "      <td>1003.15</td>\n",
       "      <td>1</td>\n",
       "      <td>1.0</td>\n",
       "      <td>0</td>\n",
       "      <td>0</td>\n",
       "      <td>1</td>\n",
       "      <td>0</td>\n",
       "      <td>0</td>\n",
       "      <td>1</td>\n",
       "      <td>0</td>\n",
       "      <td>0</td>\n",
       "      <td>1</td>\n",
       "    </tr>\n",
       "    <tr>\n",
       "      <th>13196</th>\n",
       "      <td>-1.0</td>\n",
       "      <td>76</td>\n",
       "      <td>3.5</td>\n",
       "      <td>23.0</td>\n",
       "      <td>1067.23</td>\n",
       "      <td>1</td>\n",
       "      <td>6.0</td>\n",
       "      <td>0</td>\n",
       "      <td>1</td>\n",
       "      <td>0</td>\n",
       "      <td>0</td>\n",
       "      <td>0</td>\n",
       "      <td>0</td>\n",
       "      <td>1</td>\n",
       "      <td>0</td>\n",
       "      <td>0</td>\n",
       "    </tr>\n",
       "    <tr>\n",
       "      <th>13197</th>\n",
       "      <td>30.0</td>\n",
       "      <td>77</td>\n",
       "      <td>5.5</td>\n",
       "      <td>28.0</td>\n",
       "      <td>1012.69</td>\n",
       "      <td>3</td>\n",
       "      <td>9.0</td>\n",
       "      <td>1</td>\n",
       "      <td>0</td>\n",
       "      <td>1</td>\n",
       "      <td>0</td>\n",
       "      <td>0</td>\n",
       "      <td>0</td>\n",
       "      <td>0</td>\n",
       "      <td>0</td>\n",
       "      <td>0</td>\n",
       "    </tr>\n",
       "    <tr>\n",
       "      <th>13198</th>\n",
       "      <td>3.0</td>\n",
       "      <td>76</td>\n",
       "      <td>10.0</td>\n",
       "      <td>94.0</td>\n",
       "      <td>984.27</td>\n",
       "      <td>0</td>\n",
       "      <td>2.0</td>\n",
       "      <td>0</td>\n",
       "      <td>0</td>\n",
       "      <td>1</td>\n",
       "      <td>0</td>\n",
       "      <td>0</td>\n",
       "      <td>0</td>\n",
       "      <td>1</td>\n",
       "      <td>1</td>\n",
       "      <td>0</td>\n",
       "    </tr>\n",
       "    <tr>\n",
       "      <th>13199</th>\n",
       "      <td>-5.0</td>\n",
       "      <td>38</td>\n",
       "      <td>0.0</td>\n",
       "      <td>92.0</td>\n",
       "      <td>1015.37</td>\n",
       "      <td>5</td>\n",
       "      <td>10.0</td>\n",
       "      <td>0</td>\n",
       "      <td>0</td>\n",
       "      <td>1</td>\n",
       "      <td>0</td>\n",
       "      <td>0</td>\n",
       "      <td>0</td>\n",
       "      <td>0</td>\n",
       "      <td>0</td>\n",
       "      <td>1</td>\n",
       "    </tr>\n",
       "  </tbody>\n",
       "</table>\n",
       "<p>13200 rows × 16 columns</p>\n",
       "</div>"
      ],
      "text/plain": [
       "       Temperature  Humidity  Wind_Speed  Precipitation_percent  \\\n",
       "0             14.0        73         9.5                   82.0   \n",
       "1             39.0        96         8.5                   71.0   \n",
       "2             30.0        64         7.0                   16.0   \n",
       "3             38.0        83         1.5                   82.0   \n",
       "4             27.0        74        17.0                   66.0   \n",
       "...            ...       ...         ...                    ...   \n",
       "13195         10.0        74        14.5                   71.0   \n",
       "13196         -1.0        76         3.5                   23.0   \n",
       "13197         30.0        77         5.5                   28.0   \n",
       "13198          3.0        76        10.0                   94.0   \n",
       "13199         -5.0        38         0.0                   92.0   \n",
       "\n",
       "       Atmospheric_Pressure  UV_Index  Visibility_km  Weather_Type  \\\n",
       "0                   1010.82         2            3.5             0   \n",
       "1                   1011.43         7           10.0             1   \n",
       "2                   1018.72         5            5.5             1   \n",
       "3                   1026.25         7            1.0             1   \n",
       "4                    990.67         1            2.5             0   \n",
       "...                     ...       ...            ...           ...   \n",
       "13195               1003.15         1            1.0             0   \n",
       "13196               1067.23         1            6.0             0   \n",
       "13197               1012.69         3            9.0             1   \n",
       "13198                984.27         0            2.0             0   \n",
       "13199               1015.37         5           10.0             0   \n",
       "\n",
       "       Cloud_Cover_cloudy  Cloud_Cover_overcast  Cloud_Cover_partly cloudy  \\\n",
       "0                       0                     0                          1   \n",
       "1                       0                     0                          1   \n",
       "2                       0                     0                          0   \n",
       "3                       0                     0                          0   \n",
       "4                       0                     1                          0   \n",
       "...                   ...                   ...                        ...   \n",
       "13195                   0                     1                          0   \n",
       "13196                   1                     0                          0   \n",
       "13197                   0                     1                          0   \n",
       "13198                   0                     1                          0   \n",
       "13199                   0                     1                          0   \n",
       "\n",
       "       Season_Spring  Season_Summer  Season_Winter  Location_inland  \\\n",
       "0                  0              0              1                1   \n",
       "1                  1              0              0                1   \n",
       "2                  1              0              0                0   \n",
       "3                  1              0              0                0   \n",
       "4                  0              0              1                0   \n",
       "...              ...            ...            ...              ...   \n",
       "13195              0              1              0                0   \n",
       "13196              0              0              1                0   \n",
       "13197              0              0              0                0   \n",
       "13198              0              0              1                1   \n",
       "13199              0              0              0                0   \n",
       "\n",
       "       Location_mountain  \n",
       "0                      0  \n",
       "1                      0  \n",
       "2                      1  \n",
       "3                      0  \n",
       "4                      1  \n",
       "...                  ...  \n",
       "13195                  1  \n",
       "13196                  0  \n",
       "13197                  0  \n",
       "13198                  0  \n",
       "13199                  1  \n",
       "\n",
       "[13200 rows x 16 columns]"
      ]
     },
     "execution_count": 51,
     "metadata": {},
     "output_type": "execute_result"
    }
   ],
   "source": [
    "data_en"
   ]
  },
  {
   "cell_type": "markdown",
   "id": "c34d9c16",
   "metadata": {},
   "source": [
    "## Standardize the numerical features"
   ]
  },
  {
   "cell_type": "code",
   "execution_count": 52,
   "id": "624ec75b",
   "metadata": {},
   "outputs": [],
   "source": [
    "numerical_columns = ['Temperature', 'Humidity', 'Wind_Speed','Precipitation_percent','UV_Index','Visibility_km','Atmospheric_Pressure']\n",
    "categorical_columns = [col for col in data.columns if col not in numerical_columns]"
   ]
  },
  {
   "cell_type": "code",
   "execution_count": 53,
   "id": "d219dd6a",
   "metadata": {},
   "outputs": [
    {
     "data": {
      "text/plain": [
       "['Cloud_Cover', 'Season', 'Location', 'Weather_Type']"
      ]
     },
     "execution_count": 53,
     "metadata": {},
     "output_type": "execute_result"
    }
   ],
   "source": [
    "categorical_columns"
   ]
  },
  {
   "cell_type": "code",
   "execution_count": 54,
   "id": "1b37f6b8",
   "metadata": {},
   "outputs": [],
   "source": [
    "from sklearn.preprocessing import StandardScaler "
   ]
  },
  {
   "cell_type": "code",
   "execution_count": 55,
   "id": "14453f74",
   "metadata": {},
   "outputs": [],
   "source": [
    "scaler = StandardScaler()\n",
    "\n",
    "data_en_s = scaler.fit_transform(data_en[numerical_columns])"
   ]
  },
  {
   "cell_type": "code",
   "execution_count": 56,
   "id": "3ea10e0e",
   "metadata": {
    "scrolled": true
   },
   "outputs": [
    {
     "data": {
      "text/plain": [
       "array([[-0.29493119,  0.21240351, -0.04808565, ..., -0.52010407,\n",
       "        -0.58223095,  0.13420291],\n",
       "       [ 1.14303484,  1.35138482, -0.19283608, ...,  0.77642368,\n",
       "         1.34576796,  0.15060156],\n",
       "       [ 0.62536707, -0.23328483, -0.40996172, ...,  0.25781258,\n",
       "         0.01099948,  0.34657889],\n",
       "       ...,\n",
       "       [ 0.62536707,  0.41048722, -0.62708737, ..., -0.26079852,\n",
       "         1.04915274,  0.18447418],\n",
       "       [-0.92763624,  0.36096629,  0.02428956, ..., -1.03871517,\n",
       "        -1.02715378, -0.5795417 ],\n",
       "       [-1.38778537, -1.52082893, -1.42321472, ...,  0.25781258,\n",
       "         1.34576796,  0.25652072]])"
      ]
     },
     "execution_count": 56,
     "metadata": {},
     "output_type": "execute_result"
    }
   ],
   "source": [
    "data_en_s"
   ]
  },
  {
   "cell_type": "code",
   "execution_count": 57,
   "id": "84da0ab2",
   "metadata": {},
   "outputs": [],
   "source": [
    "DS = pd.DataFrame(data_en_s, columns=numerical_columns, index=data_en.index)\n",
    "onehotdf = data_en.drop(columns=numerical_columns)\n",
    "DS = pd.concat([DS, onehotdf], axis=1)"
   ]
  },
  {
   "cell_type": "code",
   "execution_count": 58,
   "id": "590ac04a",
   "metadata": {},
   "outputs": [
    {
     "data": {
      "text/html": [
       "<div>\n",
       "<style scoped>\n",
       "    .dataframe tbody tr th:only-of-type {\n",
       "        vertical-align: middle;\n",
       "    }\n",
       "\n",
       "    .dataframe tbody tr th {\n",
       "        vertical-align: top;\n",
       "    }\n",
       "\n",
       "    .dataframe thead th {\n",
       "        text-align: right;\n",
       "    }\n",
       "</style>\n",
       "<table border=\"1\" class=\"dataframe\">\n",
       "  <thead>\n",
       "    <tr style=\"text-align: right;\">\n",
       "      <th></th>\n",
       "      <th>Temperature</th>\n",
       "      <th>Humidity</th>\n",
       "      <th>Wind_Speed</th>\n",
       "      <th>Precipitation_percent</th>\n",
       "      <th>UV_Index</th>\n",
       "      <th>Visibility_km</th>\n",
       "      <th>Atmospheric_Pressure</th>\n",
       "      <th>Weather_Type</th>\n",
       "      <th>Cloud_Cover_cloudy</th>\n",
       "      <th>Cloud_Cover_overcast</th>\n",
       "      <th>Cloud_Cover_partly cloudy</th>\n",
       "      <th>Season_Spring</th>\n",
       "      <th>Season_Summer</th>\n",
       "      <th>Season_Winter</th>\n",
       "      <th>Location_inland</th>\n",
       "      <th>Location_mountain</th>\n",
       "    </tr>\n",
       "  </thead>\n",
       "  <tbody>\n",
       "    <tr>\n",
       "      <th>0</th>\n",
       "      <td>-0.294931</td>\n",
       "      <td>0.212404</td>\n",
       "      <td>-0.048086</td>\n",
       "      <td>0.887629</td>\n",
       "      <td>-0.520104</td>\n",
       "      <td>-0.582231</td>\n",
       "      <td>0.134203</td>\n",
       "      <td>0</td>\n",
       "      <td>0</td>\n",
       "      <td>0</td>\n",
       "      <td>1</td>\n",
       "      <td>0</td>\n",
       "      <td>0</td>\n",
       "      <td>1</td>\n",
       "      <td>1</td>\n",
       "      <td>0</td>\n",
       "    </tr>\n",
       "    <tr>\n",
       "      <th>1</th>\n",
       "      <td>1.143035</td>\n",
       "      <td>1.351385</td>\n",
       "      <td>-0.192836</td>\n",
       "      <td>0.543291</td>\n",
       "      <td>0.776424</td>\n",
       "      <td>1.345768</td>\n",
       "      <td>0.150602</td>\n",
       "      <td>1</td>\n",
       "      <td>0</td>\n",
       "      <td>0</td>\n",
       "      <td>1</td>\n",
       "      <td>1</td>\n",
       "      <td>0</td>\n",
       "      <td>0</td>\n",
       "      <td>1</td>\n",
       "      <td>0</td>\n",
       "    </tr>\n",
       "    <tr>\n",
       "      <th>2</th>\n",
       "      <td>0.625367</td>\n",
       "      <td>-0.233285</td>\n",
       "      <td>-0.409962</td>\n",
       "      <td>-1.178401</td>\n",
       "      <td>0.257813</td>\n",
       "      <td>0.010999</td>\n",
       "      <td>0.346579</td>\n",
       "      <td>1</td>\n",
       "      <td>0</td>\n",
       "      <td>0</td>\n",
       "      <td>0</td>\n",
       "      <td>1</td>\n",
       "      <td>0</td>\n",
       "      <td>0</td>\n",
       "      <td>0</td>\n",
       "      <td>1</td>\n",
       "    </tr>\n",
       "    <tr>\n",
       "      <th>3</th>\n",
       "      <td>1.085516</td>\n",
       "      <td>0.707613</td>\n",
       "      <td>-1.206089</td>\n",
       "      <td>0.887629</td>\n",
       "      <td>0.776424</td>\n",
       "      <td>-1.323769</td>\n",
       "      <td>0.549008</td>\n",
       "      <td>1</td>\n",
       "      <td>0</td>\n",
       "      <td>0</td>\n",
       "      <td>0</td>\n",
       "      <td>1</td>\n",
       "      <td>0</td>\n",
       "      <td>0</td>\n",
       "      <td>0</td>\n",
       "      <td>0</td>\n",
       "    </tr>\n",
       "    <tr>\n",
       "      <th>4</th>\n",
       "      <td>0.452811</td>\n",
       "      <td>0.261924</td>\n",
       "      <td>1.037543</td>\n",
       "      <td>0.386773</td>\n",
       "      <td>-0.779410</td>\n",
       "      <td>-0.878846</td>\n",
       "      <td>-0.407490</td>\n",
       "      <td>0</td>\n",
       "      <td>0</td>\n",
       "      <td>1</td>\n",
       "      <td>0</td>\n",
       "      <td>0</td>\n",
       "      <td>0</td>\n",
       "      <td>1</td>\n",
       "      <td>0</td>\n",
       "      <td>1</td>\n",
       "    </tr>\n",
       "    <tr>\n",
       "      <th>...</th>\n",
       "      <td>...</td>\n",
       "      <td>...</td>\n",
       "      <td>...</td>\n",
       "      <td>...</td>\n",
       "      <td>...</td>\n",
       "      <td>...</td>\n",
       "      <td>...</td>\n",
       "      <td>...</td>\n",
       "      <td>...</td>\n",
       "      <td>...</td>\n",
       "      <td>...</td>\n",
       "      <td>...</td>\n",
       "      <td>...</td>\n",
       "      <td>...</td>\n",
       "      <td>...</td>\n",
       "      <td>...</td>\n",
       "    </tr>\n",
       "    <tr>\n",
       "      <th>13195</th>\n",
       "      <td>-0.525006</td>\n",
       "      <td>0.261924</td>\n",
       "      <td>0.675666</td>\n",
       "      <td>0.543291</td>\n",
       "      <td>-0.779410</td>\n",
       "      <td>-1.323769</td>\n",
       "      <td>-0.071990</td>\n",
       "      <td>0</td>\n",
       "      <td>0</td>\n",
       "      <td>1</td>\n",
       "      <td>0</td>\n",
       "      <td>0</td>\n",
       "      <td>1</td>\n",
       "      <td>0</td>\n",
       "      <td>0</td>\n",
       "      <td>1</td>\n",
       "    </tr>\n",
       "    <tr>\n",
       "      <th>13196</th>\n",
       "      <td>-1.157711</td>\n",
       "      <td>0.360966</td>\n",
       "      <td>-0.916588</td>\n",
       "      <td>-0.959276</td>\n",
       "      <td>-0.779410</td>\n",
       "      <td>0.159307</td>\n",
       "      <td>1.650675</td>\n",
       "      <td>0</td>\n",
       "      <td>1</td>\n",
       "      <td>0</td>\n",
       "      <td>0</td>\n",
       "      <td>0</td>\n",
       "      <td>0</td>\n",
       "      <td>1</td>\n",
       "      <td>0</td>\n",
       "      <td>0</td>\n",
       "    </tr>\n",
       "    <tr>\n",
       "      <th>13197</th>\n",
       "      <td>0.625367</td>\n",
       "      <td>0.410487</td>\n",
       "      <td>-0.627087</td>\n",
       "      <td>-0.802759</td>\n",
       "      <td>-0.260799</td>\n",
       "      <td>1.049153</td>\n",
       "      <td>0.184474</td>\n",
       "      <td>1</td>\n",
       "      <td>0</td>\n",
       "      <td>1</td>\n",
       "      <td>0</td>\n",
       "      <td>0</td>\n",
       "      <td>0</td>\n",
       "      <td>0</td>\n",
       "      <td>0</td>\n",
       "      <td>0</td>\n",
       "    </tr>\n",
       "    <tr>\n",
       "      <th>13198</th>\n",
       "      <td>-0.927636</td>\n",
       "      <td>0.360966</td>\n",
       "      <td>0.024290</td>\n",
       "      <td>1.263271</td>\n",
       "      <td>-1.038715</td>\n",
       "      <td>-1.027154</td>\n",
       "      <td>-0.579542</td>\n",
       "      <td>0</td>\n",
       "      <td>0</td>\n",
       "      <td>1</td>\n",
       "      <td>0</td>\n",
       "      <td>0</td>\n",
       "      <td>0</td>\n",
       "      <td>1</td>\n",
       "      <td>1</td>\n",
       "      <td>0</td>\n",
       "    </tr>\n",
       "    <tr>\n",
       "      <th>13199</th>\n",
       "      <td>-1.387785</td>\n",
       "      <td>-1.520829</td>\n",
       "      <td>-1.423215</td>\n",
       "      <td>1.200664</td>\n",
       "      <td>0.257813</td>\n",
       "      <td>1.345768</td>\n",
       "      <td>0.256521</td>\n",
       "      <td>0</td>\n",
       "      <td>0</td>\n",
       "      <td>1</td>\n",
       "      <td>0</td>\n",
       "      <td>0</td>\n",
       "      <td>0</td>\n",
       "      <td>0</td>\n",
       "      <td>0</td>\n",
       "      <td>1</td>\n",
       "    </tr>\n",
       "  </tbody>\n",
       "</table>\n",
       "<p>13200 rows × 16 columns</p>\n",
       "</div>"
      ],
      "text/plain": [
       "       Temperature  Humidity  Wind_Speed  Precipitation_percent  UV_Index  \\\n",
       "0        -0.294931  0.212404   -0.048086               0.887629 -0.520104   \n",
       "1         1.143035  1.351385   -0.192836               0.543291  0.776424   \n",
       "2         0.625367 -0.233285   -0.409962              -1.178401  0.257813   \n",
       "3         1.085516  0.707613   -1.206089               0.887629  0.776424   \n",
       "4         0.452811  0.261924    1.037543               0.386773 -0.779410   \n",
       "...            ...       ...         ...                    ...       ...   \n",
       "13195    -0.525006  0.261924    0.675666               0.543291 -0.779410   \n",
       "13196    -1.157711  0.360966   -0.916588              -0.959276 -0.779410   \n",
       "13197     0.625367  0.410487   -0.627087              -0.802759 -0.260799   \n",
       "13198    -0.927636  0.360966    0.024290               1.263271 -1.038715   \n",
       "13199    -1.387785 -1.520829   -1.423215               1.200664  0.257813   \n",
       "\n",
       "       Visibility_km  Atmospheric_Pressure  Weather_Type  Cloud_Cover_cloudy  \\\n",
       "0          -0.582231              0.134203             0                   0   \n",
       "1           1.345768              0.150602             1                   0   \n",
       "2           0.010999              0.346579             1                   0   \n",
       "3          -1.323769              0.549008             1                   0   \n",
       "4          -0.878846             -0.407490             0                   0   \n",
       "...              ...                   ...           ...                 ...   \n",
       "13195      -1.323769             -0.071990             0                   0   \n",
       "13196       0.159307              1.650675             0                   1   \n",
       "13197       1.049153              0.184474             1                   0   \n",
       "13198      -1.027154             -0.579542             0                   0   \n",
       "13199       1.345768              0.256521             0                   0   \n",
       "\n",
       "       Cloud_Cover_overcast  Cloud_Cover_partly cloudy  Season_Spring  \\\n",
       "0                         0                          1              0   \n",
       "1                         0                          1              1   \n",
       "2                         0                          0              1   \n",
       "3                         0                          0              1   \n",
       "4                         1                          0              0   \n",
       "...                     ...                        ...            ...   \n",
       "13195                     1                          0              0   \n",
       "13196                     0                          0              0   \n",
       "13197                     1                          0              0   \n",
       "13198                     1                          0              0   \n",
       "13199                     1                          0              0   \n",
       "\n",
       "       Season_Summer  Season_Winter  Location_inland  Location_mountain  \n",
       "0                  0              1                1                  0  \n",
       "1                  0              0                1                  0  \n",
       "2                  0              0                0                  1  \n",
       "3                  0              0                0                  0  \n",
       "4                  0              1                0                  1  \n",
       "...              ...            ...              ...                ...  \n",
       "13195              1              0                0                  1  \n",
       "13196              0              1                0                  0  \n",
       "13197              0              0                0                  0  \n",
       "13198              0              1                1                  0  \n",
       "13199              0              0                0                  1  \n",
       "\n",
       "[13200 rows x 16 columns]"
      ]
     },
     "execution_count": 58,
     "metadata": {},
     "output_type": "execute_result"
    }
   ],
   "source": [
    "DS"
   ]
  },
  {
   "cell_type": "markdown",
   "id": "15ec99a9",
   "metadata": {},
   "source": [
    "# Splitting The Data set "
   ]
  },
  {
   "cell_type": "markdown",
   "id": "9dc52ad1",
   "metadata": {},
   "source": [
    "## With out standardizing"
   ]
  },
  {
   "cell_type": "code",
   "execution_count": 59,
   "id": "a99069c3",
   "metadata": {},
   "outputs": [],
   "source": [
    "Y  = data_en['Weather_Type']\n",
    "X = data_en.drop('Weather_Type',axis=1)"
   ]
  },
  {
   "cell_type": "code",
   "execution_count": 60,
   "id": "30a61f29",
   "metadata": {},
   "outputs": [],
   "source": [
    "X_train, X_test, Y_train, Y_test = train_test_split(X, Y, test_size=0.2, random_state=10)"
   ]
  },
  {
   "cell_type": "code",
   "execution_count": 61,
   "id": "c860f174",
   "metadata": {},
   "outputs": [
    {
     "data": {
      "text/html": [
       "<div>\n",
       "<style scoped>\n",
       "    .dataframe tbody tr th:only-of-type {\n",
       "        vertical-align: middle;\n",
       "    }\n",
       "\n",
       "    .dataframe tbody tr th {\n",
       "        vertical-align: top;\n",
       "    }\n",
       "\n",
       "    .dataframe thead th {\n",
       "        text-align: right;\n",
       "    }\n",
       "</style>\n",
       "<table border=\"1\" class=\"dataframe\">\n",
       "  <thead>\n",
       "    <tr style=\"text-align: right;\">\n",
       "      <th></th>\n",
       "      <th>Temperature</th>\n",
       "      <th>Humidity</th>\n",
       "      <th>Wind_Speed</th>\n",
       "      <th>Precipitation_percent</th>\n",
       "      <th>Atmospheric_Pressure</th>\n",
       "      <th>UV_Index</th>\n",
       "      <th>Visibility_km</th>\n",
       "      <th>Cloud_Cover_cloudy</th>\n",
       "      <th>Cloud_Cover_overcast</th>\n",
       "      <th>Cloud_Cover_partly cloudy</th>\n",
       "      <th>Season_Spring</th>\n",
       "      <th>Season_Summer</th>\n",
       "      <th>Season_Winter</th>\n",
       "      <th>Location_inland</th>\n",
       "      <th>Location_mountain</th>\n",
       "    </tr>\n",
       "  </thead>\n",
       "  <tbody>\n",
       "    <tr>\n",
       "      <th>9645</th>\n",
       "      <td>32.0</td>\n",
       "      <td>64</td>\n",
       "      <td>6.0</td>\n",
       "      <td>86.0</td>\n",
       "      <td>1007.86</td>\n",
       "      <td>0</td>\n",
       "      <td>3.0</td>\n",
       "      <td>0</td>\n",
       "      <td>1</td>\n",
       "      <td>0</td>\n",
       "      <td>0</td>\n",
       "      <td>0</td>\n",
       "      <td>0</td>\n",
       "      <td>0</td>\n",
       "      <td>0</td>\n",
       "    </tr>\n",
       "    <tr>\n",
       "      <th>8002</th>\n",
       "      <td>34.0</td>\n",
       "      <td>79</td>\n",
       "      <td>12.0</td>\n",
       "      <td>95.0</td>\n",
       "      <td>1000.16</td>\n",
       "      <td>2</td>\n",
       "      <td>3.5</td>\n",
       "      <td>0</td>\n",
       "      <td>1</td>\n",
       "      <td>0</td>\n",
       "      <td>1</td>\n",
       "      <td>0</td>\n",
       "      <td>0</td>\n",
       "      <td>1</td>\n",
       "      <td>0</td>\n",
       "    </tr>\n",
       "    <tr>\n",
       "      <th>6329</th>\n",
       "      <td>-4.0</td>\n",
       "      <td>83</td>\n",
       "      <td>37.5</td>\n",
       "      <td>72.0</td>\n",
       "      <td>991.22</td>\n",
       "      <td>3</td>\n",
       "      <td>1.0</td>\n",
       "      <td>0</td>\n",
       "      <td>0</td>\n",
       "      <td>1</td>\n",
       "      <td>0</td>\n",
       "      <td>0</td>\n",
       "      <td>1</td>\n",
       "      <td>1</td>\n",
       "      <td>0</td>\n",
       "    </tr>\n",
       "    <tr>\n",
       "      <th>11103</th>\n",
       "      <td>17.0</td>\n",
       "      <td>66</td>\n",
       "      <td>19.5</td>\n",
       "      <td>71.0</td>\n",
       "      <td>1017.39</td>\n",
       "      <td>0</td>\n",
       "      <td>4.0</td>\n",
       "      <td>0</td>\n",
       "      <td>1</td>\n",
       "      <td>0</td>\n",
       "      <td>1</td>\n",
       "      <td>0</td>\n",
       "      <td>0</td>\n",
       "      <td>0</td>\n",
       "      <td>1</td>\n",
       "    </tr>\n",
       "    <tr>\n",
       "      <th>3600</th>\n",
       "      <td>-3.0</td>\n",
       "      <td>86</td>\n",
       "      <td>3.0</td>\n",
       "      <td>82.0</td>\n",
       "      <td>996.59</td>\n",
       "      <td>1</td>\n",
       "      <td>4.0</td>\n",
       "      <td>0</td>\n",
       "      <td>1</td>\n",
       "      <td>0</td>\n",
       "      <td>0</td>\n",
       "      <td>0</td>\n",
       "      <td>1</td>\n",
       "      <td>0</td>\n",
       "      <td>1</td>\n",
       "    </tr>\n",
       "  </tbody>\n",
       "</table>\n",
       "</div>"
      ],
      "text/plain": [
       "       Temperature  Humidity  Wind_Speed  Precipitation_percent  \\\n",
       "9645          32.0        64         6.0                   86.0   \n",
       "8002          34.0        79        12.0                   95.0   \n",
       "6329          -4.0        83        37.5                   72.0   \n",
       "11103         17.0        66        19.5                   71.0   \n",
       "3600          -3.0        86         3.0                   82.0   \n",
       "\n",
       "       Atmospheric_Pressure  UV_Index  Visibility_km  Cloud_Cover_cloudy  \\\n",
       "9645                1007.86         0            3.0                   0   \n",
       "8002                1000.16         2            3.5                   0   \n",
       "6329                 991.22         3            1.0                   0   \n",
       "11103               1017.39         0            4.0                   0   \n",
       "3600                 996.59         1            4.0                   0   \n",
       "\n",
       "       Cloud_Cover_overcast  Cloud_Cover_partly cloudy  Season_Spring  \\\n",
       "9645                      1                          0              0   \n",
       "8002                      1                          0              1   \n",
       "6329                      0                          1              0   \n",
       "11103                     1                          0              1   \n",
       "3600                      1                          0              0   \n",
       "\n",
       "       Season_Summer  Season_Winter  Location_inland  Location_mountain  \n",
       "9645               0              0                0                  0  \n",
       "8002               0              0                1                  0  \n",
       "6329               0              1                1                  0  \n",
       "11103              0              0                0                  1  \n",
       "3600               0              1                0                  1  "
      ]
     },
     "execution_count": 61,
     "metadata": {},
     "output_type": "execute_result"
    }
   ],
   "source": [
    "X_train.head()"
   ]
  },
  {
   "cell_type": "code",
   "execution_count": 62,
   "id": "cf7c6338",
   "metadata": {},
   "outputs": [
    {
     "data": {
      "text/html": [
       "<div>\n",
       "<style scoped>\n",
       "    .dataframe tbody tr th:only-of-type {\n",
       "        vertical-align: middle;\n",
       "    }\n",
       "\n",
       "    .dataframe tbody tr th {\n",
       "        vertical-align: top;\n",
       "    }\n",
       "\n",
       "    .dataframe thead th {\n",
       "        text-align: right;\n",
       "    }\n",
       "</style>\n",
       "<table border=\"1\" class=\"dataframe\">\n",
       "  <thead>\n",
       "    <tr style=\"text-align: right;\">\n",
       "      <th></th>\n",
       "      <th>Temperature</th>\n",
       "      <th>Humidity</th>\n",
       "      <th>Wind_Speed</th>\n",
       "      <th>Precipitation_percent</th>\n",
       "      <th>Atmospheric_Pressure</th>\n",
       "      <th>UV_Index</th>\n",
       "      <th>Visibility_km</th>\n",
       "      <th>Cloud_Cover_cloudy</th>\n",
       "      <th>Cloud_Cover_overcast</th>\n",
       "      <th>Cloud_Cover_partly cloudy</th>\n",
       "      <th>Season_Spring</th>\n",
       "      <th>Season_Summer</th>\n",
       "      <th>Season_Winter</th>\n",
       "      <th>Location_inland</th>\n",
       "      <th>Location_mountain</th>\n",
       "      <th>Weather_Type</th>\n",
       "    </tr>\n",
       "  </thead>\n",
       "  <tbody>\n",
       "    <tr>\n",
       "      <th>9645</th>\n",
       "      <td>32.0</td>\n",
       "      <td>64</td>\n",
       "      <td>6.0</td>\n",
       "      <td>86.0</td>\n",
       "      <td>1007.86</td>\n",
       "      <td>0</td>\n",
       "      <td>3.0</td>\n",
       "      <td>0</td>\n",
       "      <td>1</td>\n",
       "      <td>0</td>\n",
       "      <td>0</td>\n",
       "      <td>0</td>\n",
       "      <td>0</td>\n",
       "      <td>0</td>\n",
       "      <td>0</td>\n",
       "      <td>0</td>\n",
       "    </tr>\n",
       "    <tr>\n",
       "      <th>8002</th>\n",
       "      <td>34.0</td>\n",
       "      <td>79</td>\n",
       "      <td>12.0</td>\n",
       "      <td>95.0</td>\n",
       "      <td>1000.16</td>\n",
       "      <td>2</td>\n",
       "      <td>3.5</td>\n",
       "      <td>0</td>\n",
       "      <td>1</td>\n",
       "      <td>0</td>\n",
       "      <td>1</td>\n",
       "      <td>0</td>\n",
       "      <td>0</td>\n",
       "      <td>1</td>\n",
       "      <td>0</td>\n",
       "      <td>0</td>\n",
       "    </tr>\n",
       "    <tr>\n",
       "      <th>6329</th>\n",
       "      <td>-4.0</td>\n",
       "      <td>83</td>\n",
       "      <td>37.5</td>\n",
       "      <td>72.0</td>\n",
       "      <td>991.22</td>\n",
       "      <td>3</td>\n",
       "      <td>1.0</td>\n",
       "      <td>0</td>\n",
       "      <td>0</td>\n",
       "      <td>1</td>\n",
       "      <td>0</td>\n",
       "      <td>0</td>\n",
       "      <td>1</td>\n",
       "      <td>1</td>\n",
       "      <td>0</td>\n",
       "      <td>0</td>\n",
       "    </tr>\n",
       "    <tr>\n",
       "      <th>11103</th>\n",
       "      <td>17.0</td>\n",
       "      <td>66</td>\n",
       "      <td>19.5</td>\n",
       "      <td>71.0</td>\n",
       "      <td>1017.39</td>\n",
       "      <td>0</td>\n",
       "      <td>4.0</td>\n",
       "      <td>0</td>\n",
       "      <td>1</td>\n",
       "      <td>0</td>\n",
       "      <td>1</td>\n",
       "      <td>0</td>\n",
       "      <td>0</td>\n",
       "      <td>0</td>\n",
       "      <td>1</td>\n",
       "      <td>0</td>\n",
       "    </tr>\n",
       "    <tr>\n",
       "      <th>3600</th>\n",
       "      <td>-3.0</td>\n",
       "      <td>86</td>\n",
       "      <td>3.0</td>\n",
       "      <td>82.0</td>\n",
       "      <td>996.59</td>\n",
       "      <td>1</td>\n",
       "      <td>4.0</td>\n",
       "      <td>0</td>\n",
       "      <td>1</td>\n",
       "      <td>0</td>\n",
       "      <td>0</td>\n",
       "      <td>0</td>\n",
       "      <td>1</td>\n",
       "      <td>0</td>\n",
       "      <td>1</td>\n",
       "      <td>0</td>\n",
       "    </tr>\n",
       "    <tr>\n",
       "      <th>...</th>\n",
       "      <td>...</td>\n",
       "      <td>...</td>\n",
       "      <td>...</td>\n",
       "      <td>...</td>\n",
       "      <td>...</td>\n",
       "      <td>...</td>\n",
       "      <td>...</td>\n",
       "      <td>...</td>\n",
       "      <td>...</td>\n",
       "      <td>...</td>\n",
       "      <td>...</td>\n",
       "      <td>...</td>\n",
       "      <td>...</td>\n",
       "      <td>...</td>\n",
       "      <td>...</td>\n",
       "      <td>...</td>\n",
       "    </tr>\n",
       "    <tr>\n",
       "      <th>11633</th>\n",
       "      <td>3.0</td>\n",
       "      <td>68</td>\n",
       "      <td>2.5</td>\n",
       "      <td>93.0</td>\n",
       "      <td>983.14</td>\n",
       "      <td>1</td>\n",
       "      <td>1.0</td>\n",
       "      <td>0</td>\n",
       "      <td>1</td>\n",
       "      <td>0</td>\n",
       "      <td>0</td>\n",
       "      <td>0</td>\n",
       "      <td>1</td>\n",
       "      <td>1</td>\n",
       "      <td>0</td>\n",
       "      <td>0</td>\n",
       "    </tr>\n",
       "    <tr>\n",
       "      <th>1344</th>\n",
       "      <td>24.0</td>\n",
       "      <td>98</td>\n",
       "      <td>11.5</td>\n",
       "      <td>63.0</td>\n",
       "      <td>1017.39</td>\n",
       "      <td>2</td>\n",
       "      <td>1.5</td>\n",
       "      <td>0</td>\n",
       "      <td>0</td>\n",
       "      <td>1</td>\n",
       "      <td>0</td>\n",
       "      <td>0</td>\n",
       "      <td>0</td>\n",
       "      <td>1</td>\n",
       "      <td>0</td>\n",
       "      <td>0</td>\n",
       "    </tr>\n",
       "    <tr>\n",
       "      <th>12815</th>\n",
       "      <td>24.0</td>\n",
       "      <td>73</td>\n",
       "      <td>7.5</td>\n",
       "      <td>82.0</td>\n",
       "      <td>1015.08</td>\n",
       "      <td>3</td>\n",
       "      <td>4.0</td>\n",
       "      <td>0</td>\n",
       "      <td>1</td>\n",
       "      <td>0</td>\n",
       "      <td>0</td>\n",
       "      <td>0</td>\n",
       "      <td>0</td>\n",
       "      <td>1</td>\n",
       "      <td>0</td>\n",
       "      <td>0</td>\n",
       "    </tr>\n",
       "    <tr>\n",
       "      <th>7293</th>\n",
       "      <td>19.0</td>\n",
       "      <td>33</td>\n",
       "      <td>14.0</td>\n",
       "      <td>18.0</td>\n",
       "      <td>1091.81</td>\n",
       "      <td>6</td>\n",
       "      <td>10.5</td>\n",
       "      <td>1</td>\n",
       "      <td>0</td>\n",
       "      <td>0</td>\n",
       "      <td>0</td>\n",
       "      <td>0</td>\n",
       "      <td>1</td>\n",
       "      <td>0</td>\n",
       "      <td>1</td>\n",
       "      <td>1</td>\n",
       "    </tr>\n",
       "    <tr>\n",
       "      <th>1289</th>\n",
       "      <td>27.0</td>\n",
       "      <td>63</td>\n",
       "      <td>6.0</td>\n",
       "      <td>80.0</td>\n",
       "      <td>1005.80</td>\n",
       "      <td>0</td>\n",
       "      <td>3.5</td>\n",
       "      <td>0</td>\n",
       "      <td>1</td>\n",
       "      <td>0</td>\n",
       "      <td>0</td>\n",
       "      <td>0</td>\n",
       "      <td>1</td>\n",
       "      <td>0</td>\n",
       "      <td>0</td>\n",
       "      <td>0</td>\n",
       "    </tr>\n",
       "  </tbody>\n",
       "</table>\n",
       "<p>10560 rows × 16 columns</p>\n",
       "</div>"
      ],
      "text/plain": [
       "       Temperature  Humidity  Wind_Speed  Precipitation_percent  \\\n",
       "9645          32.0        64         6.0                   86.0   \n",
       "8002          34.0        79        12.0                   95.0   \n",
       "6329          -4.0        83        37.5                   72.0   \n",
       "11103         17.0        66        19.5                   71.0   \n",
       "3600          -3.0        86         3.0                   82.0   \n",
       "...            ...       ...         ...                    ...   \n",
       "11633          3.0        68         2.5                   93.0   \n",
       "1344          24.0        98        11.5                   63.0   \n",
       "12815         24.0        73         7.5                   82.0   \n",
       "7293          19.0        33        14.0                   18.0   \n",
       "1289          27.0        63         6.0                   80.0   \n",
       "\n",
       "       Atmospheric_Pressure  UV_Index  Visibility_km  Cloud_Cover_cloudy  \\\n",
       "9645                1007.86         0            3.0                   0   \n",
       "8002                1000.16         2            3.5                   0   \n",
       "6329                 991.22         3            1.0                   0   \n",
       "11103               1017.39         0            4.0                   0   \n",
       "3600                 996.59         1            4.0                   0   \n",
       "...                     ...       ...            ...                 ...   \n",
       "11633                983.14         1            1.0                   0   \n",
       "1344                1017.39         2            1.5                   0   \n",
       "12815               1015.08         3            4.0                   0   \n",
       "7293                1091.81         6           10.5                   1   \n",
       "1289                1005.80         0            3.5                   0   \n",
       "\n",
       "       Cloud_Cover_overcast  Cloud_Cover_partly cloudy  Season_Spring  \\\n",
       "9645                      1                          0              0   \n",
       "8002                      1                          0              1   \n",
       "6329                      0                          1              0   \n",
       "11103                     1                          0              1   \n",
       "3600                      1                          0              0   \n",
       "...                     ...                        ...            ...   \n",
       "11633                     1                          0              0   \n",
       "1344                      0                          1              0   \n",
       "12815                     1                          0              0   \n",
       "7293                      0                          0              0   \n",
       "1289                      1                          0              0   \n",
       "\n",
       "       Season_Summer  Season_Winter  Location_inland  Location_mountain  \\\n",
       "9645               0              0                0                  0   \n",
       "8002               0              0                1                  0   \n",
       "6329               0              1                1                  0   \n",
       "11103              0              0                0                  1   \n",
       "3600               0              1                0                  1   \n",
       "...              ...            ...              ...                ...   \n",
       "11633              0              1                1                  0   \n",
       "1344               0              0                1                  0   \n",
       "12815              0              0                1                  0   \n",
       "7293               0              1                0                  1   \n",
       "1289               0              1                0                  0   \n",
       "\n",
       "       Weather_Type  \n",
       "9645              0  \n",
       "8002              0  \n",
       "6329              0  \n",
       "11103             0  \n",
       "3600              0  \n",
       "...             ...  \n",
       "11633             0  \n",
       "1344              0  \n",
       "12815             0  \n",
       "7293              1  \n",
       "1289              0  \n",
       "\n",
       "[10560 rows x 16 columns]"
      ]
     },
     "execution_count": 62,
     "metadata": {},
     "output_type": "execute_result"
    }
   ],
   "source": [
    "train_set = pd.concat([X_train,Y_train],axis=1)\n",
    "train_set"
   ]
  },
  {
   "cell_type": "code",
   "execution_count": 63,
   "id": "df0062a9",
   "metadata": {
    "scrolled": true
   },
   "outputs": [
    {
     "data": {
      "text/html": [
       "<div>\n",
       "<style scoped>\n",
       "    .dataframe tbody tr th:only-of-type {\n",
       "        vertical-align: middle;\n",
       "    }\n",
       "\n",
       "    .dataframe tbody tr th {\n",
       "        vertical-align: top;\n",
       "    }\n",
       "\n",
       "    .dataframe thead th {\n",
       "        text-align: right;\n",
       "    }\n",
       "</style>\n",
       "<table border=\"1\" class=\"dataframe\">\n",
       "  <thead>\n",
       "    <tr style=\"text-align: right;\">\n",
       "      <th></th>\n",
       "      <th>Temperature</th>\n",
       "      <th>Humidity</th>\n",
       "      <th>Wind_Speed</th>\n",
       "      <th>Precipitation_percent</th>\n",
       "      <th>Atmospheric_Pressure</th>\n",
       "      <th>UV_Index</th>\n",
       "      <th>Visibility_km</th>\n",
       "      <th>Cloud_Cover_cloudy</th>\n",
       "      <th>Cloud_Cover_overcast</th>\n",
       "      <th>Cloud_Cover_partly cloudy</th>\n",
       "      <th>Season_Spring</th>\n",
       "      <th>Season_Summer</th>\n",
       "      <th>Season_Winter</th>\n",
       "      <th>Location_inland</th>\n",
       "      <th>Location_mountain</th>\n",
       "      <th>Weather_Type</th>\n",
       "    </tr>\n",
       "  </thead>\n",
       "  <tbody>\n",
       "    <tr>\n",
       "      <th>11923</th>\n",
       "      <td>13.0</td>\n",
       "      <td>75</td>\n",
       "      <td>9.0</td>\n",
       "      <td>58.0</td>\n",
       "      <td>1000.52</td>\n",
       "      <td>1</td>\n",
       "      <td>3.0</td>\n",
       "      <td>0</td>\n",
       "      <td>0</td>\n",
       "      <td>1</td>\n",
       "      <td>0</td>\n",
       "      <td>1</td>\n",
       "      <td>0</td>\n",
       "      <td>1</td>\n",
       "      <td>0</td>\n",
       "      <td>0</td>\n",
       "    </tr>\n",
       "    <tr>\n",
       "      <th>2331</th>\n",
       "      <td>3.0</td>\n",
       "      <td>73</td>\n",
       "      <td>9.5</td>\n",
       "      <td>59.0</td>\n",
       "      <td>983.56</td>\n",
       "      <td>0</td>\n",
       "      <td>2.5</td>\n",
       "      <td>0</td>\n",
       "      <td>1</td>\n",
       "      <td>0</td>\n",
       "      <td>0</td>\n",
       "      <td>0</td>\n",
       "      <td>1</td>\n",
       "      <td>1</td>\n",
       "      <td>0</td>\n",
       "      <td>0</td>\n",
       "    </tr>\n",
       "    <tr>\n",
       "      <th>217</th>\n",
       "      <td>18.0</td>\n",
       "      <td>74</td>\n",
       "      <td>0.5</td>\n",
       "      <td>39.0</td>\n",
       "      <td>1007.53</td>\n",
       "      <td>1</td>\n",
       "      <td>8.5</td>\n",
       "      <td>0</td>\n",
       "      <td>1</td>\n",
       "      <td>0</td>\n",
       "      <td>0</td>\n",
       "      <td>0</td>\n",
       "      <td>0</td>\n",
       "      <td>0</td>\n",
       "      <td>1</td>\n",
       "      <td>1</td>\n",
       "    </tr>\n",
       "    <tr>\n",
       "      <th>1760</th>\n",
       "      <td>38.0</td>\n",
       "      <td>88</td>\n",
       "      <td>19.5</td>\n",
       "      <td>85.0</td>\n",
       "      <td>1009.03</td>\n",
       "      <td>0</td>\n",
       "      <td>4.5</td>\n",
       "      <td>0</td>\n",
       "      <td>0</td>\n",
       "      <td>1</td>\n",
       "      <td>1</td>\n",
       "      <td>0</td>\n",
       "      <td>0</td>\n",
       "      <td>1</td>\n",
       "      <td>0</td>\n",
       "      <td>1</td>\n",
       "    </tr>\n",
       "    <tr>\n",
       "      <th>3963</th>\n",
       "      <td>24.0</td>\n",
       "      <td>38</td>\n",
       "      <td>4.5</td>\n",
       "      <td>15.0</td>\n",
       "      <td>1029.37</td>\n",
       "      <td>9</td>\n",
       "      <td>7.0</td>\n",
       "      <td>0</td>\n",
       "      <td>0</td>\n",
       "      <td>1</td>\n",
       "      <td>1</td>\n",
       "      <td>0</td>\n",
       "      <td>0</td>\n",
       "      <td>0</td>\n",
       "      <td>1</td>\n",
       "      <td>1</td>\n",
       "    </tr>\n",
       "    <tr>\n",
       "      <th>...</th>\n",
       "      <td>...</td>\n",
       "      <td>...</td>\n",
       "      <td>...</td>\n",
       "      <td>...</td>\n",
       "      <td>...</td>\n",
       "      <td>...</td>\n",
       "      <td>...</td>\n",
       "      <td>...</td>\n",
       "      <td>...</td>\n",
       "      <td>...</td>\n",
       "      <td>...</td>\n",
       "      <td>...</td>\n",
       "      <td>...</td>\n",
       "      <td>...</td>\n",
       "      <td>...</td>\n",
       "      <td>...</td>\n",
       "    </tr>\n",
       "    <tr>\n",
       "      <th>9950</th>\n",
       "      <td>-5.0</td>\n",
       "      <td>97</td>\n",
       "      <td>10.0</td>\n",
       "      <td>78.0</td>\n",
       "      <td>980.14</td>\n",
       "      <td>1</td>\n",
       "      <td>1.5</td>\n",
       "      <td>0</td>\n",
       "      <td>1</td>\n",
       "      <td>0</td>\n",
       "      <td>0</td>\n",
       "      <td>0</td>\n",
       "      <td>1</td>\n",
       "      <td>1</td>\n",
       "      <td>0</td>\n",
       "      <td>0</td>\n",
       "    </tr>\n",
       "    <tr>\n",
       "      <th>4515</th>\n",
       "      <td>24.0</td>\n",
       "      <td>56</td>\n",
       "      <td>8.5</td>\n",
       "      <td>48.0</td>\n",
       "      <td>1012.30</td>\n",
       "      <td>4</td>\n",
       "      <td>7.0</td>\n",
       "      <td>0</td>\n",
       "      <td>1</td>\n",
       "      <td>0</td>\n",
       "      <td>0</td>\n",
       "      <td>0</td>\n",
       "      <td>0</td>\n",
       "      <td>0</td>\n",
       "      <td>0</td>\n",
       "      <td>1</td>\n",
       "    </tr>\n",
       "    <tr>\n",
       "      <th>1996</th>\n",
       "      <td>12.0</td>\n",
       "      <td>89</td>\n",
       "      <td>6.5</td>\n",
       "      <td>86.0</td>\n",
       "      <td>992.27</td>\n",
       "      <td>2</td>\n",
       "      <td>1.5</td>\n",
       "      <td>0</td>\n",
       "      <td>1</td>\n",
       "      <td>0</td>\n",
       "      <td>0</td>\n",
       "      <td>1</td>\n",
       "      <td>0</td>\n",
       "      <td>0</td>\n",
       "      <td>0</td>\n",
       "      <td>0</td>\n",
       "    </tr>\n",
       "    <tr>\n",
       "      <th>1457</th>\n",
       "      <td>28.0</td>\n",
       "      <td>62</td>\n",
       "      <td>6.5</td>\n",
       "      <td>69.0</td>\n",
       "      <td>994.82</td>\n",
       "      <td>1</td>\n",
       "      <td>3.0</td>\n",
       "      <td>0</td>\n",
       "      <td>1</td>\n",
       "      <td>0</td>\n",
       "      <td>0</td>\n",
       "      <td>0</td>\n",
       "      <td>1</td>\n",
       "      <td>0</td>\n",
       "      <td>1</td>\n",
       "      <td>0</td>\n",
       "    </tr>\n",
       "    <tr>\n",
       "      <th>12025</th>\n",
       "      <td>29.0</td>\n",
       "      <td>45</td>\n",
       "      <td>3.5</td>\n",
       "      <td>1.0</td>\n",
       "      <td>1029.92</td>\n",
       "      <td>11</td>\n",
       "      <td>8.5</td>\n",
       "      <td>0</td>\n",
       "      <td>0</td>\n",
       "      <td>0</td>\n",
       "      <td>0</td>\n",
       "      <td>0</td>\n",
       "      <td>0</td>\n",
       "      <td>0</td>\n",
       "      <td>0</td>\n",
       "      <td>1</td>\n",
       "    </tr>\n",
       "  </tbody>\n",
       "</table>\n",
       "<p>2640 rows × 16 columns</p>\n",
       "</div>"
      ],
      "text/plain": [
       "       Temperature  Humidity  Wind_Speed  Precipitation_percent  \\\n",
       "11923         13.0        75         9.0                   58.0   \n",
       "2331           3.0        73         9.5                   59.0   \n",
       "217           18.0        74         0.5                   39.0   \n",
       "1760          38.0        88        19.5                   85.0   \n",
       "3963          24.0        38         4.5                   15.0   \n",
       "...            ...       ...         ...                    ...   \n",
       "9950          -5.0        97        10.0                   78.0   \n",
       "4515          24.0        56         8.5                   48.0   \n",
       "1996          12.0        89         6.5                   86.0   \n",
       "1457          28.0        62         6.5                   69.0   \n",
       "12025         29.0        45         3.5                    1.0   \n",
       "\n",
       "       Atmospheric_Pressure  UV_Index  Visibility_km  Cloud_Cover_cloudy  \\\n",
       "11923               1000.52         1            3.0                   0   \n",
       "2331                 983.56         0            2.5                   0   \n",
       "217                 1007.53         1            8.5                   0   \n",
       "1760                1009.03         0            4.5                   0   \n",
       "3963                1029.37         9            7.0                   0   \n",
       "...                     ...       ...            ...                 ...   \n",
       "9950                 980.14         1            1.5                   0   \n",
       "4515                1012.30         4            7.0                   0   \n",
       "1996                 992.27         2            1.5                   0   \n",
       "1457                 994.82         1            3.0                   0   \n",
       "12025               1029.92        11            8.5                   0   \n",
       "\n",
       "       Cloud_Cover_overcast  Cloud_Cover_partly cloudy  Season_Spring  \\\n",
       "11923                     0                          1              0   \n",
       "2331                      1                          0              0   \n",
       "217                       1                          0              0   \n",
       "1760                      0                          1              1   \n",
       "3963                      0                          1              1   \n",
       "...                     ...                        ...            ...   \n",
       "9950                      1                          0              0   \n",
       "4515                      1                          0              0   \n",
       "1996                      1                          0              0   \n",
       "1457                      1                          0              0   \n",
       "12025                     0                          0              0   \n",
       "\n",
       "       Season_Summer  Season_Winter  Location_inland  Location_mountain  \\\n",
       "11923              1              0                1                  0   \n",
       "2331               0              1                1                  0   \n",
       "217                0              0                0                  1   \n",
       "1760               0              0                1                  0   \n",
       "3963               0              0                0                  1   \n",
       "...              ...            ...              ...                ...   \n",
       "9950               0              1                1                  0   \n",
       "4515               0              0                0                  0   \n",
       "1996               1              0                0                  0   \n",
       "1457               0              1                0                  1   \n",
       "12025              0              0                0                  0   \n",
       "\n",
       "       Weather_Type  \n",
       "11923             0  \n",
       "2331              0  \n",
       "217               1  \n",
       "1760              1  \n",
       "3963              1  \n",
       "...             ...  \n",
       "9950              0  \n",
       "4515              1  \n",
       "1996              0  \n",
       "1457              0  \n",
       "12025             1  \n",
       "\n",
       "[2640 rows x 16 columns]"
      ]
     },
     "execution_count": 63,
     "metadata": {},
     "output_type": "execute_result"
    }
   ],
   "source": [
    "test_set = pd.concat([X_test,Y_test],axis=1)\n",
    "test_set"
   ]
  },
  {
   "cell_type": "markdown",
   "id": "6ee15547",
   "metadata": {},
   "source": [
    "## With standardize"
   ]
  },
  {
   "cell_type": "code",
   "execution_count": 64,
   "id": "553c07a6",
   "metadata": {},
   "outputs": [],
   "source": [
    "Ys  = DS['Weather_Type']\n",
    "Xs = DS.drop('Weather_Type',axis=1)"
   ]
  },
  {
   "cell_type": "code",
   "execution_count": 65,
   "id": "2e840464",
   "metadata": {},
   "outputs": [],
   "source": [
    "Xs_train, Xs_test, Ys_train, Ys_test = train_test_split(Xs, Ys, test_size=0.2, random_state=10)"
   ]
  },
  {
   "cell_type": "code",
   "execution_count": 66,
   "id": "b06a5fe9",
   "metadata": {},
   "outputs": [
    {
     "data": {
      "text/html": [
       "<div>\n",
       "<style scoped>\n",
       "    .dataframe tbody tr th:only-of-type {\n",
       "        vertical-align: middle;\n",
       "    }\n",
       "\n",
       "    .dataframe tbody tr th {\n",
       "        vertical-align: top;\n",
       "    }\n",
       "\n",
       "    .dataframe thead th {\n",
       "        text-align: right;\n",
       "    }\n",
       "</style>\n",
       "<table border=\"1\" class=\"dataframe\">\n",
       "  <thead>\n",
       "    <tr style=\"text-align: right;\">\n",
       "      <th></th>\n",
       "      <th>Temperature</th>\n",
       "      <th>Humidity</th>\n",
       "      <th>Wind_Speed</th>\n",
       "      <th>Precipitation_percent</th>\n",
       "      <th>UV_Index</th>\n",
       "      <th>Visibility_km</th>\n",
       "      <th>Atmospheric_Pressure</th>\n",
       "      <th>Cloud_Cover_cloudy</th>\n",
       "      <th>Cloud_Cover_overcast</th>\n",
       "      <th>Cloud_Cover_partly cloudy</th>\n",
       "      <th>Season_Spring</th>\n",
       "      <th>Season_Summer</th>\n",
       "      <th>Season_Winter</th>\n",
       "      <th>Location_inland</th>\n",
       "      <th>Location_mountain</th>\n",
       "      <th>Weather_Type</th>\n",
       "    </tr>\n",
       "  </thead>\n",
       "  <tbody>\n",
       "    <tr>\n",
       "      <th>9645</th>\n",
       "      <td>0.740404</td>\n",
       "      <td>-0.233285</td>\n",
       "      <td>-0.554712</td>\n",
       "      <td>1.012843</td>\n",
       "      <td>-1.038715</td>\n",
       "      <td>-0.730539</td>\n",
       "      <td>0.054629</td>\n",
       "      <td>0</td>\n",
       "      <td>1</td>\n",
       "      <td>0</td>\n",
       "      <td>0</td>\n",
       "      <td>0</td>\n",
       "      <td>0</td>\n",
       "      <td>0</td>\n",
       "      <td>0</td>\n",
       "      <td>0</td>\n",
       "    </tr>\n",
       "    <tr>\n",
       "      <th>8002</th>\n",
       "      <td>0.855442</td>\n",
       "      <td>0.509529</td>\n",
       "      <td>0.313790</td>\n",
       "      <td>1.294574</td>\n",
       "      <td>-0.520104</td>\n",
       "      <td>-0.582231</td>\n",
       "      <td>-0.152370</td>\n",
       "      <td>0</td>\n",
       "      <td>1</td>\n",
       "      <td>0</td>\n",
       "      <td>1</td>\n",
       "      <td>0</td>\n",
       "      <td>0</td>\n",
       "      <td>1</td>\n",
       "      <td>0</td>\n",
       "      <td>0</td>\n",
       "    </tr>\n",
       "    <tr>\n",
       "      <th>6329</th>\n",
       "      <td>-1.330267</td>\n",
       "      <td>0.707613</td>\n",
       "      <td>4.004926</td>\n",
       "      <td>0.574594</td>\n",
       "      <td>-0.260799</td>\n",
       "      <td>-1.323769</td>\n",
       "      <td>-0.392705</td>\n",
       "      <td>0</td>\n",
       "      <td>0</td>\n",
       "      <td>1</td>\n",
       "      <td>0</td>\n",
       "      <td>0</td>\n",
       "      <td>1</td>\n",
       "      <td>1</td>\n",
       "      <td>0</td>\n",
       "      <td>0</td>\n",
       "    </tr>\n",
       "    <tr>\n",
       "      <th>11103</th>\n",
       "      <td>-0.122375</td>\n",
       "      <td>-0.134243</td>\n",
       "      <td>1.399419</td>\n",
       "      <td>0.543291</td>\n",
       "      <td>-1.038715</td>\n",
       "      <td>-0.433923</td>\n",
       "      <td>0.310824</td>\n",
       "      <td>0</td>\n",
       "      <td>1</td>\n",
       "      <td>0</td>\n",
       "      <td>1</td>\n",
       "      <td>0</td>\n",
       "      <td>0</td>\n",
       "      <td>0</td>\n",
       "      <td>1</td>\n",
       "      <td>0</td>\n",
       "    </tr>\n",
       "    <tr>\n",
       "      <th>3600</th>\n",
       "      <td>-1.272748</td>\n",
       "      <td>0.856176</td>\n",
       "      <td>-0.988963</td>\n",
       "      <td>0.887629</td>\n",
       "      <td>-0.779410</td>\n",
       "      <td>-0.433923</td>\n",
       "      <td>-0.248343</td>\n",
       "      <td>0</td>\n",
       "      <td>1</td>\n",
       "      <td>0</td>\n",
       "      <td>0</td>\n",
       "      <td>0</td>\n",
       "      <td>1</td>\n",
       "      <td>0</td>\n",
       "      <td>1</td>\n",
       "      <td>0</td>\n",
       "    </tr>\n",
       "    <tr>\n",
       "      <th>...</th>\n",
       "      <td>...</td>\n",
       "      <td>...</td>\n",
       "      <td>...</td>\n",
       "      <td>...</td>\n",
       "      <td>...</td>\n",
       "      <td>...</td>\n",
       "      <td>...</td>\n",
       "      <td>...</td>\n",
       "      <td>...</td>\n",
       "      <td>...</td>\n",
       "      <td>...</td>\n",
       "      <td>...</td>\n",
       "      <td>...</td>\n",
       "      <td>...</td>\n",
       "      <td>...</td>\n",
       "      <td>...</td>\n",
       "    </tr>\n",
       "    <tr>\n",
       "      <th>11633</th>\n",
       "      <td>-0.927636</td>\n",
       "      <td>-0.035201</td>\n",
       "      <td>-1.061339</td>\n",
       "      <td>1.231967</td>\n",
       "      <td>-0.779410</td>\n",
       "      <td>-1.323769</td>\n",
       "      <td>-0.609920</td>\n",
       "      <td>0</td>\n",
       "      <td>1</td>\n",
       "      <td>0</td>\n",
       "      <td>0</td>\n",
       "      <td>0</td>\n",
       "      <td>1</td>\n",
       "      <td>1</td>\n",
       "      <td>0</td>\n",
       "      <td>0</td>\n",
       "    </tr>\n",
       "    <tr>\n",
       "      <th>1344</th>\n",
       "      <td>0.280255</td>\n",
       "      <td>1.450427</td>\n",
       "      <td>0.241415</td>\n",
       "      <td>0.292863</td>\n",
       "      <td>-0.520104</td>\n",
       "      <td>-1.175461</td>\n",
       "      <td>0.310824</td>\n",
       "      <td>0</td>\n",
       "      <td>0</td>\n",
       "      <td>1</td>\n",
       "      <td>0</td>\n",
       "      <td>0</td>\n",
       "      <td>0</td>\n",
       "      <td>1</td>\n",
       "      <td>0</td>\n",
       "      <td>0</td>\n",
       "    </tr>\n",
       "    <tr>\n",
       "      <th>12815</th>\n",
       "      <td>0.280255</td>\n",
       "      <td>0.212404</td>\n",
       "      <td>-0.337587</td>\n",
       "      <td>0.887629</td>\n",
       "      <td>-0.260799</td>\n",
       "      <td>-0.433923</td>\n",
       "      <td>0.248725</td>\n",
       "      <td>0</td>\n",
       "      <td>1</td>\n",
       "      <td>0</td>\n",
       "      <td>0</td>\n",
       "      <td>0</td>\n",
       "      <td>0</td>\n",
       "      <td>1</td>\n",
       "      <td>0</td>\n",
       "      <td>0</td>\n",
       "    </tr>\n",
       "    <tr>\n",
       "      <th>7293</th>\n",
       "      <td>-0.007338</td>\n",
       "      <td>-1.768434</td>\n",
       "      <td>0.603291</td>\n",
       "      <td>-1.115794</td>\n",
       "      <td>0.517118</td>\n",
       "      <td>1.494076</td>\n",
       "      <td>2.311460</td>\n",
       "      <td>1</td>\n",
       "      <td>0</td>\n",
       "      <td>0</td>\n",
       "      <td>0</td>\n",
       "      <td>0</td>\n",
       "      <td>1</td>\n",
       "      <td>0</td>\n",
       "      <td>1</td>\n",
       "      <td>1</td>\n",
       "    </tr>\n",
       "    <tr>\n",
       "      <th>1289</th>\n",
       "      <td>0.452811</td>\n",
       "      <td>-0.282806</td>\n",
       "      <td>-0.554712</td>\n",
       "      <td>0.825022</td>\n",
       "      <td>-1.038715</td>\n",
       "      <td>-0.582231</td>\n",
       "      <td>-0.000750</td>\n",
       "      <td>0</td>\n",
       "      <td>1</td>\n",
       "      <td>0</td>\n",
       "      <td>0</td>\n",
       "      <td>0</td>\n",
       "      <td>1</td>\n",
       "      <td>0</td>\n",
       "      <td>0</td>\n",
       "      <td>0</td>\n",
       "    </tr>\n",
       "  </tbody>\n",
       "</table>\n",
       "<p>10560 rows × 16 columns</p>\n",
       "</div>"
      ],
      "text/plain": [
       "       Temperature  Humidity  Wind_Speed  Precipitation_percent  UV_Index  \\\n",
       "9645      0.740404 -0.233285   -0.554712               1.012843 -1.038715   \n",
       "8002      0.855442  0.509529    0.313790               1.294574 -0.520104   \n",
       "6329     -1.330267  0.707613    4.004926               0.574594 -0.260799   \n",
       "11103    -0.122375 -0.134243    1.399419               0.543291 -1.038715   \n",
       "3600     -1.272748  0.856176   -0.988963               0.887629 -0.779410   \n",
       "...            ...       ...         ...                    ...       ...   \n",
       "11633    -0.927636 -0.035201   -1.061339               1.231967 -0.779410   \n",
       "1344      0.280255  1.450427    0.241415               0.292863 -0.520104   \n",
       "12815     0.280255  0.212404   -0.337587               0.887629 -0.260799   \n",
       "7293     -0.007338 -1.768434    0.603291              -1.115794  0.517118   \n",
       "1289      0.452811 -0.282806   -0.554712               0.825022 -1.038715   \n",
       "\n",
       "       Visibility_km  Atmospheric_Pressure  Cloud_Cover_cloudy  \\\n",
       "9645       -0.730539              0.054629                   0   \n",
       "8002       -0.582231             -0.152370                   0   \n",
       "6329       -1.323769             -0.392705                   0   \n",
       "11103      -0.433923              0.310824                   0   \n",
       "3600       -0.433923             -0.248343                   0   \n",
       "...              ...                   ...                 ...   \n",
       "11633      -1.323769             -0.609920                   0   \n",
       "1344       -1.175461              0.310824                   0   \n",
       "12815      -0.433923              0.248725                   0   \n",
       "7293        1.494076              2.311460                   1   \n",
       "1289       -0.582231             -0.000750                   0   \n",
       "\n",
       "       Cloud_Cover_overcast  Cloud_Cover_partly cloudy  Season_Spring  \\\n",
       "9645                      1                          0              0   \n",
       "8002                      1                          0              1   \n",
       "6329                      0                          1              0   \n",
       "11103                     1                          0              1   \n",
       "3600                      1                          0              0   \n",
       "...                     ...                        ...            ...   \n",
       "11633                     1                          0              0   \n",
       "1344                      0                          1              0   \n",
       "12815                     1                          0              0   \n",
       "7293                      0                          0              0   \n",
       "1289                      1                          0              0   \n",
       "\n",
       "       Season_Summer  Season_Winter  Location_inland  Location_mountain  \\\n",
       "9645               0              0                0                  0   \n",
       "8002               0              0                1                  0   \n",
       "6329               0              1                1                  0   \n",
       "11103              0              0                0                  1   \n",
       "3600               0              1                0                  1   \n",
       "...              ...            ...              ...                ...   \n",
       "11633              0              1                1                  0   \n",
       "1344               0              0                1                  0   \n",
       "12815              0              0                1                  0   \n",
       "7293               0              1                0                  1   \n",
       "1289               0              1                0                  0   \n",
       "\n",
       "       Weather_Type  \n",
       "9645              0  \n",
       "8002              0  \n",
       "6329              0  \n",
       "11103             0  \n",
       "3600              0  \n",
       "...             ...  \n",
       "11633             0  \n",
       "1344              0  \n",
       "12815             0  \n",
       "7293              1  \n",
       "1289              0  \n",
       "\n",
       "[10560 rows x 16 columns]"
      ]
     },
     "execution_count": 66,
     "metadata": {},
     "output_type": "execute_result"
    }
   ],
   "source": [
    "train_set_s = pd.concat([Xs_train,Ys_train],axis=1)\n",
    "train_set_s"
   ]
  },
  {
   "cell_type": "code",
   "execution_count": 68,
   "id": "5e663bc9",
   "metadata": {
    "scrolled": true
   },
   "outputs": [
    {
     "data": {
      "text/html": [
       "<div>\n",
       "<style scoped>\n",
       "    .dataframe tbody tr th:only-of-type {\n",
       "        vertical-align: middle;\n",
       "    }\n",
       "\n",
       "    .dataframe tbody tr th {\n",
       "        vertical-align: top;\n",
       "    }\n",
       "\n",
       "    .dataframe thead th {\n",
       "        text-align: right;\n",
       "    }\n",
       "</style>\n",
       "<table border=\"1\" class=\"dataframe\">\n",
       "  <thead>\n",
       "    <tr style=\"text-align: right;\">\n",
       "      <th></th>\n",
       "      <th>Temperature</th>\n",
       "      <th>Humidity</th>\n",
       "      <th>Wind_Speed</th>\n",
       "      <th>Precipitation_percent</th>\n",
       "      <th>UV_Index</th>\n",
       "      <th>Visibility_km</th>\n",
       "      <th>Atmospheric_Pressure</th>\n",
       "      <th>Cloud_Cover_cloudy</th>\n",
       "      <th>Cloud_Cover_overcast</th>\n",
       "      <th>Cloud_Cover_partly cloudy</th>\n",
       "      <th>Season_Spring</th>\n",
       "      <th>Season_Summer</th>\n",
       "      <th>Season_Winter</th>\n",
       "      <th>Location_inland</th>\n",
       "      <th>Location_mountain</th>\n",
       "      <th>Weather_Type</th>\n",
       "    </tr>\n",
       "  </thead>\n",
       "  <tbody>\n",
       "    <tr>\n",
       "      <th>11923</th>\n",
       "      <td>-0.352450</td>\n",
       "      <td>0.311445</td>\n",
       "      <td>-0.120461</td>\n",
       "      <td>0.136346</td>\n",
       "      <td>-0.779410</td>\n",
       "      <td>-0.730539</td>\n",
       "      <td>-0.142692</td>\n",
       "      <td>0</td>\n",
       "      <td>0</td>\n",
       "      <td>1</td>\n",
       "      <td>0</td>\n",
       "      <td>1</td>\n",
       "      <td>0</td>\n",
       "      <td>1</td>\n",
       "      <td>0</td>\n",
       "      <td>0</td>\n",
       "    </tr>\n",
       "    <tr>\n",
       "      <th>2331</th>\n",
       "      <td>-0.927636</td>\n",
       "      <td>0.212404</td>\n",
       "      <td>-0.048086</td>\n",
       "      <td>0.167649</td>\n",
       "      <td>-1.038715</td>\n",
       "      <td>-0.878846</td>\n",
       "      <td>-0.598629</td>\n",
       "      <td>0</td>\n",
       "      <td>1</td>\n",
       "      <td>0</td>\n",
       "      <td>0</td>\n",
       "      <td>0</td>\n",
       "      <td>1</td>\n",
       "      <td>1</td>\n",
       "      <td>0</td>\n",
       "      <td>0</td>\n",
       "    </tr>\n",
       "    <tr>\n",
       "      <th>217</th>\n",
       "      <td>-0.064857</td>\n",
       "      <td>0.261924</td>\n",
       "      <td>-1.350840</td>\n",
       "      <td>-0.458420</td>\n",
       "      <td>-0.779410</td>\n",
       "      <td>0.900845</td>\n",
       "      <td>0.045758</td>\n",
       "      <td>0</td>\n",
       "      <td>1</td>\n",
       "      <td>0</td>\n",
       "      <td>0</td>\n",
       "      <td>0</td>\n",
       "      <td>0</td>\n",
       "      <td>0</td>\n",
       "      <td>1</td>\n",
       "      <td>1</td>\n",
       "    </tr>\n",
       "    <tr>\n",
       "      <th>1760</th>\n",
       "      <td>1.085516</td>\n",
       "      <td>0.955217</td>\n",
       "      <td>1.399419</td>\n",
       "      <td>0.981540</td>\n",
       "      <td>-1.038715</td>\n",
       "      <td>-0.285616</td>\n",
       "      <td>0.086082</td>\n",
       "      <td>0</td>\n",
       "      <td>0</td>\n",
       "      <td>1</td>\n",
       "      <td>1</td>\n",
       "      <td>0</td>\n",
       "      <td>0</td>\n",
       "      <td>1</td>\n",
       "      <td>0</td>\n",
       "      <td>1</td>\n",
       "    </tr>\n",
       "    <tr>\n",
       "      <th>3963</th>\n",
       "      <td>0.280255</td>\n",
       "      <td>-1.520829</td>\n",
       "      <td>-0.771838</td>\n",
       "      <td>-1.209704</td>\n",
       "      <td>1.295035</td>\n",
       "      <td>0.455922</td>\n",
       "      <td>0.632883</td>\n",
       "      <td>0</td>\n",
       "      <td>0</td>\n",
       "      <td>1</td>\n",
       "      <td>1</td>\n",
       "      <td>0</td>\n",
       "      <td>0</td>\n",
       "      <td>0</td>\n",
       "      <td>1</td>\n",
       "      <td>1</td>\n",
       "    </tr>\n",
       "    <tr>\n",
       "      <th>...</th>\n",
       "      <td>...</td>\n",
       "      <td>...</td>\n",
       "      <td>...</td>\n",
       "      <td>...</td>\n",
       "      <td>...</td>\n",
       "      <td>...</td>\n",
       "      <td>...</td>\n",
       "      <td>...</td>\n",
       "      <td>...</td>\n",
       "      <td>...</td>\n",
       "      <td>...</td>\n",
       "      <td>...</td>\n",
       "      <td>...</td>\n",
       "      <td>...</td>\n",
       "      <td>...</td>\n",
       "      <td>...</td>\n",
       "    </tr>\n",
       "    <tr>\n",
       "      <th>9950</th>\n",
       "      <td>-1.387785</td>\n",
       "      <td>1.400906</td>\n",
       "      <td>0.024290</td>\n",
       "      <td>0.762415</td>\n",
       "      <td>-0.779410</td>\n",
       "      <td>-1.175461</td>\n",
       "      <td>-0.690569</td>\n",
       "      <td>0</td>\n",
       "      <td>1</td>\n",
       "      <td>0</td>\n",
       "      <td>0</td>\n",
       "      <td>0</td>\n",
       "      <td>1</td>\n",
       "      <td>1</td>\n",
       "      <td>0</td>\n",
       "      <td>0</td>\n",
       "    </tr>\n",
       "    <tr>\n",
       "      <th>4515</th>\n",
       "      <td>0.280255</td>\n",
       "      <td>-0.629452</td>\n",
       "      <td>-0.192836</td>\n",
       "      <td>-0.176689</td>\n",
       "      <td>-0.001493</td>\n",
       "      <td>0.455922</td>\n",
       "      <td>0.173990</td>\n",
       "      <td>0</td>\n",
       "      <td>1</td>\n",
       "      <td>0</td>\n",
       "      <td>0</td>\n",
       "      <td>0</td>\n",
       "      <td>0</td>\n",
       "      <td>0</td>\n",
       "      <td>0</td>\n",
       "      <td>1</td>\n",
       "    </tr>\n",
       "    <tr>\n",
       "      <th>1996</th>\n",
       "      <td>-0.409968</td>\n",
       "      <td>1.004738</td>\n",
       "      <td>-0.482337</td>\n",
       "      <td>1.012843</td>\n",
       "      <td>-0.520104</td>\n",
       "      <td>-1.175461</td>\n",
       "      <td>-0.364477</td>\n",
       "      <td>0</td>\n",
       "      <td>1</td>\n",
       "      <td>0</td>\n",
       "      <td>0</td>\n",
       "      <td>1</td>\n",
       "      <td>0</td>\n",
       "      <td>0</td>\n",
       "      <td>0</td>\n",
       "      <td>0</td>\n",
       "    </tr>\n",
       "    <tr>\n",
       "      <th>1457</th>\n",
       "      <td>0.510330</td>\n",
       "      <td>-0.332327</td>\n",
       "      <td>-0.482337</td>\n",
       "      <td>0.480684</td>\n",
       "      <td>-0.779410</td>\n",
       "      <td>-0.730539</td>\n",
       "      <td>-0.295926</td>\n",
       "      <td>0</td>\n",
       "      <td>1</td>\n",
       "      <td>0</td>\n",
       "      <td>0</td>\n",
       "      <td>0</td>\n",
       "      <td>1</td>\n",
       "      <td>0</td>\n",
       "      <td>1</td>\n",
       "      <td>0</td>\n",
       "    </tr>\n",
       "    <tr>\n",
       "      <th>12025</th>\n",
       "      <td>0.567848</td>\n",
       "      <td>-1.174182</td>\n",
       "      <td>-0.916588</td>\n",
       "      <td>-1.647953</td>\n",
       "      <td>1.813646</td>\n",
       "      <td>0.900845</td>\n",
       "      <td>0.647669</td>\n",
       "      <td>0</td>\n",
       "      <td>0</td>\n",
       "      <td>0</td>\n",
       "      <td>0</td>\n",
       "      <td>0</td>\n",
       "      <td>0</td>\n",
       "      <td>0</td>\n",
       "      <td>0</td>\n",
       "      <td>1</td>\n",
       "    </tr>\n",
       "  </tbody>\n",
       "</table>\n",
       "<p>2640 rows × 16 columns</p>\n",
       "</div>"
      ],
      "text/plain": [
       "       Temperature  Humidity  Wind_Speed  Precipitation_percent  UV_Index  \\\n",
       "11923    -0.352450  0.311445   -0.120461               0.136346 -0.779410   \n",
       "2331     -0.927636  0.212404   -0.048086               0.167649 -1.038715   \n",
       "217      -0.064857  0.261924   -1.350840              -0.458420 -0.779410   \n",
       "1760      1.085516  0.955217    1.399419               0.981540 -1.038715   \n",
       "3963      0.280255 -1.520829   -0.771838              -1.209704  1.295035   \n",
       "...            ...       ...         ...                    ...       ...   \n",
       "9950     -1.387785  1.400906    0.024290               0.762415 -0.779410   \n",
       "4515      0.280255 -0.629452   -0.192836              -0.176689 -0.001493   \n",
       "1996     -0.409968  1.004738   -0.482337               1.012843 -0.520104   \n",
       "1457      0.510330 -0.332327   -0.482337               0.480684 -0.779410   \n",
       "12025     0.567848 -1.174182   -0.916588              -1.647953  1.813646   \n",
       "\n",
       "       Visibility_km  Atmospheric_Pressure  Cloud_Cover_cloudy  \\\n",
       "11923      -0.730539             -0.142692                   0   \n",
       "2331       -0.878846             -0.598629                   0   \n",
       "217         0.900845              0.045758                   0   \n",
       "1760       -0.285616              0.086082                   0   \n",
       "3963        0.455922              0.632883                   0   \n",
       "...              ...                   ...                 ...   \n",
       "9950       -1.175461             -0.690569                   0   \n",
       "4515        0.455922              0.173990                   0   \n",
       "1996       -1.175461             -0.364477                   0   \n",
       "1457       -0.730539             -0.295926                   0   \n",
       "12025       0.900845              0.647669                   0   \n",
       "\n",
       "       Cloud_Cover_overcast  Cloud_Cover_partly cloudy  Season_Spring  \\\n",
       "11923                     0                          1              0   \n",
       "2331                      1                          0              0   \n",
       "217                       1                          0              0   \n",
       "1760                      0                          1              1   \n",
       "3963                      0                          1              1   \n",
       "...                     ...                        ...            ...   \n",
       "9950                      1                          0              0   \n",
       "4515                      1                          0              0   \n",
       "1996                      1                          0              0   \n",
       "1457                      1                          0              0   \n",
       "12025                     0                          0              0   \n",
       "\n",
       "       Season_Summer  Season_Winter  Location_inland  Location_mountain  \\\n",
       "11923              1              0                1                  0   \n",
       "2331               0              1                1                  0   \n",
       "217                0              0                0                  1   \n",
       "1760               0              0                1                  0   \n",
       "3963               0              0                0                  1   \n",
       "...              ...            ...              ...                ...   \n",
       "9950               0              1                1                  0   \n",
       "4515               0              0                0                  0   \n",
       "1996               1              0                0                  0   \n",
       "1457               0              1                0                  1   \n",
       "12025              0              0                0                  0   \n",
       "\n",
       "       Weather_Type  \n",
       "11923             0  \n",
       "2331              0  \n",
       "217               1  \n",
       "1760              1  \n",
       "3963              1  \n",
       "...             ...  \n",
       "9950              0  \n",
       "4515              1  \n",
       "1996              0  \n",
       "1457              0  \n",
       "12025             1  \n",
       "\n",
       "[2640 rows x 16 columns]"
      ]
     },
     "execution_count": 68,
     "metadata": {},
     "output_type": "execute_result"
    }
   ],
   "source": [
    "test_set_s = pd.concat([Xs_test,Ys_test],axis=1)\n",
    "test_set_s"
   ]
  },
  {
   "cell_type": "markdown",
   "id": "05df3421",
   "metadata": {},
   "source": [
    "## K-Prototype Clustring "
   ]
  },
  {
   "cell_type": "code",
   "execution_count": 69,
   "id": "4ccc910b",
   "metadata": {},
   "outputs": [],
   "source": [
    "YC  = data['Weather_Type']\n",
    "XC = data.drop('Weather_Type',axis=1)"
   ]
  },
  {
   "cell_type": "code",
   "execution_count": 70,
   "id": "f8572c7f",
   "metadata": {},
   "outputs": [],
   "source": [
    "XC_train, XC_test, YC_train, YC_test = train_test_split(XC, YC, test_size=0.2, random_state=10)"
   ]
  },
  {
   "cell_type": "code",
   "execution_count": 71,
   "id": "5a878ec5",
   "metadata": {},
   "outputs": [],
   "source": [
    "train_set_C = pd.concat([XC_train,YC_train],axis=1)\n",
    "test_set_C = pd.concat([XC_test,YC_test],axis=1)"
   ]
  },
  {
   "cell_type": "code",
   "execution_count": 31,
   "id": "1d23b755",
   "metadata": {},
   "outputs": [
    {
     "name": "stdout",
     "output_type": "stream",
     "text": [
      "Categorical columns: ['Cloud_Cover', 'Season', 'Location']\n"
     ]
    }
   ],
   "source": [
    "categorical_columns = [col for col in data.columns if col not in numerical_columns and col != 'Weather_Type']\n",
    "print(\"Categorical columns:\", categorical_columns)"
   ]
  },
  {
   "cell_type": "code",
   "execution_count": 32,
   "id": "fa5eff9e",
   "metadata": {
    "scrolled": true
   },
   "outputs": [
    {
     "name": "stdout",
     "output_type": "stream",
     "text": [
      "Categorical column indices: [4, 7, 9]\n"
     ]
    }
   ],
   "source": [
    "categorical_indices = [XC_train.columns.get_loc(col) for col in categorical_columns if col in XC_train.columns]\n",
    "print(\"Categorical column indices:\", categorical_indices)"
   ]
  },
  {
   "cell_type": "code",
   "execution_count": 34,
   "id": "6ee26bc6",
   "metadata": {},
   "outputs": [],
   "source": [
    "df_mat = XC_train.to_numpy()"
   ]
  },
  {
   "cell_type": "code",
   "execution_count": 35,
   "id": "1ec7eb91",
   "metadata": {},
   "outputs": [
    {
     "data": {
      "image/png": "[encoded data removed]",
      "text/plain": [
       "<Figure size 640x480 with 1 Axes>"
      ]
     },
     "metadata": {},
     "output_type": "display_data"
    }
   ],
   "source": [
    "from kmodes.kprototypes import KPrototypes\n",
    "\n",
    "# Specify the indices of the categorical features\n",
    "categorical_indices = [4,7,9]\n",
    "costs = []\n",
    "\n",
    "for k in range(2,11):\n",
    "    kproto = KPrototypes(n_clusters=k, init='Cao', verbose=0)\n",
    "    clusters = kproto.fit_predict(df_mat, categorical=categorical_indices)\n",
    "    cost = kproto.cost_\n",
    "    costs.append(cost)\n",
    "\n",
    "# Plot the elbow graph\n",
    "plt.plot(range(2,11), costs, marker='o')\n",
    "plt.title('Elbow Method for Optimal k')\n",
    "plt.xlabel('Number of Clusters (k)')\n",
    "plt.ylabel('Cost (Inertia)')\n",
    "plt.show()"
   ]
  },
  {
   "cell_type": "code",
   "execution_count": 38,
   "id": "4159c261",
   "metadata": {},
   "outputs": [
    {
     "name": "stdout",
     "output_type": "stream",
     "text": [
      "elbow at k = 4 clusters\n"
     ]
    }
   ],
   "source": [
    "from kneed import KneeLocator\n",
    "cost_knee_c3 = KneeLocator(\n",
    "        x=range(2,11), \n",
    "        y=costs, \n",
    "        S=0., curve=\"convex\", direction=\"decreasing\", online=True)\n",
    "\n",
    "K_cost_c3 = cost_knee_c3.elbow   \n",
    "print(\"elbow at k =\", f'{K_cost_c3:.0f} clusters')"
   ]
  },
  {
   "cell_type": "code",
   "execution_count": 50,
   "id": "ee3cfaa0",
   "metadata": {},
   "outputs": [],
   "source": [
    "kproto = KPrototypes(n_clusters=4, init='Cao', verbose=0)\n",
    "clusters = kproto.fit_predict(df_mat, categorical=categorical_indices)"
   ]
  },
  {
   "cell_type": "code",
   "execution_count": 51,
   "id": "480356ef",
   "metadata": {},
   "outputs": [],
   "source": [
    "from scipy.spatial.distance import cdist\n",
    "from sklearn.metrics import silhouette_score, silhouette_samples\n",
    "\n",
    "# Separate numerical and categorical data\n",
    "num_data = XC_train.select_dtypes(['float']).values\n",
    "cat_data = XC_train.select_dtypes(['int']).values\n",
    "cat_data = cat_data.astype('float')"
   ]
  },
  {
   "cell_type": "code",
   "execution_count": 63,
   "id": "a7d07b03",
   "metadata": {},
   "outputs": [
    {
     "name": "stdout",
     "output_type": "stream",
     "text": [
      "silhouette score (k=4): 0.19947980801942305\n"
     ]
    }
   ],
   "source": [
    "# Calculate Euclidean distance for numerical data\n",
    "euclidean_dist = cdist(num_data, num_data, metric='euclidean')\n",
    "\n",
    "# Calculate matching distance for categorical data\n",
    "matching_dist = cdist(cat_data, cat_data, metric='matching')\n",
    "\n",
    "# Combine distances with weights\n",
    "# Assuming equal weights for numerical and categorical distances\n",
    "weight_num = 0.1\n",
    "weight_cat = 15\n",
    "\n",
    "combined_dist = weight_num * euclidean_dist + weight_cat * matching_dist\n",
    "\n",
    "# getting the sillout score\n",
    "s = silhouette_score(combined_dist, clusters, metric=\"precomputed\")\n",
    "print('silhouette score (k=4):', s)"
   ]
  },
  {
   "cell_type": "code",
   "execution_count": 64,
   "id": "2d041ebf",
   "metadata": {},
   "outputs": [
    {
     "data": {
      "image/png": "[encoded data removed]",
      "text/plain": [
       "<Figure size 1000x600 with 1 Axes>"
      ]
     },
     "metadata": {},
     "output_type": "display_data"
    }
   ],
   "source": [
    "# Compute silhouette scores for each sample\n",
    "silhouette_vals = silhouette_samples(combined_dist, clusters, metric=\"precomputed\")\n",
    "\n",
    "# Plot silhouette scores\n",
    "fig, ax = plt.subplots(figsize=(10, 6))\n",
    "\n",
    "y_lower, y_upper = 0, 0\n",
    "for i in range(4):\n",
    "    cluster_silhouette_vals = silhouette_vals[clusters == i]\n",
    "    cluster_silhouette_vals.sort()\n",
    "\n",
    "    y_upper += len(cluster_silhouette_vals)\n",
    "    ax.fill_betweenx(np.arange(y_lower, y_upper), 0, cluster_silhouette_vals, alpha=0.7)\n",
    "    ax.text(-0.05, y_lower + 0.5 * len(cluster_silhouette_vals), str(i + 1))\n",
    "\n",
    "    y_lower = y_upper\n",
    "\n",
    "ax.axvline(x=s, color=\"red\", linestyle=\"--\")\n",
    "ax.set_xlabel('Silhouette Coefficient')\n",
    "ax.set_ylabel('Cluster')\n",
    "ax.set_title('Silhouette Plot for the Various Clusters')\n",
    "ax.set_yticks([])  # Clear the y-axis labels\n",
    "\n",
    "plt.show()"
   ]
  },
  {
   "cell_type": "markdown",
   "id": "89237bc9",
   "metadata": {},
   "source": [
    "# logistic regression"
   ]
  },
  {
   "cell_type": "code",
   "execution_count": 75,
   "id": "e73136a7",
   "metadata": {},
   "outputs": [],
   "source": [
    "from sklearn.linear_model import LogisticRegression\n",
    "logi_model = LogisticRegression(random_state = 10)"
   ]
  },
  {
   "cell_type": "code",
   "execution_count": 76,
   "id": "d75cd80e",
   "metadata": {},
   "outputs": [],
   "source": [
    "param_grid_logi = {'solver': ['lbfgs', 'newton-cg','sag','saga']}  ###,'penalty':['None','l2']"
   ]
  },
  {
   "cell_type": "code",
   "execution_count": 77,
   "id": "c7395525",
   "metadata": {},
   "outputs": [],
   "source": [
    "grid_search_logi = GridSearchCV(estimator=logi_model, param_grid=param_grid_logi, cv=5, scoring='accuracy')"
   ]
  },
  {
   "cell_type": "code",
   "execution_count": 78,
   "id": "bf60089a",
   "metadata": {},
   "outputs": [
    {
     "data": {
      "text/html": [
       "<style>#sk-container-id-1 {color: black;background-color: white;}#sk-container-id-1 pre{padding: 0;}#sk-container-id-1 div.sk-toggleable {background-color: white;}#sk-container-id-1 label.sk-toggleable__label {cursor: pointer;display: block;width: 100%;margin-bottom: 0;padding: 0.3em;box-sizing: border-box;text-align: center;}#sk-container-id-1 label.sk-toggleable__label-arrow:before {content: \"▸\";float: left;margin-right: 0.25em;color: #696969;}#sk-container-id-1 label.sk-toggleable__label-arrow:hover:before {color: black;}#sk-container-id-1 div.sk-estimator:hover label.sk-toggleable__label-arrow:before {color: black;}#sk-container-id-1 div.sk-toggleable__content {max-height: 0;max-width: 0;overflow: hidden;text-align: left;background-color: #f0f8ff;}#sk-container-id-1 div.sk-toggleable__content pre {margin: 0.2em;color: black;border-radius: 0.25em;background-color: #f0f8ff;}#sk-container-id-1 input.sk-toggleable__control:checked~div.sk-toggleable__content {max-height: 200px;max-width: 100%;overflow: auto;}#sk-container-id-1 input.sk-toggleable__control:checked~label.sk-toggleable__label-arrow:before {content: \"▾\";}#sk-container-id-1 div.sk-estimator input.sk-toggleable__control:checked~label.sk-toggleable__label {background-color: #d4ebff;}#sk-container-id-1 div.sk-label input.sk-toggleable__control:checked~label.sk-toggleable__label {background-color: #d4ebff;}#sk-container-id-1 input.sk-hidden--visually {border: 0;clip: rect(1px 1px 1px 1px);clip: rect(1px, 1px, 1px, 1px);height: 1px;margin: -1px;overflow: hidden;padding: 0;position: absolute;width: 1px;}#sk-container-id-1 div.sk-estimator {font-family: monospace;background-color: #f0f8ff;border: 1px dotted black;border-radius: 0.25em;box-sizing: border-box;margin-bottom: 0.5em;}#sk-container-id-1 div.sk-estimator:hover {background-color: #d4ebff;}#sk-container-id-1 div.sk-parallel-item::after {content: \"\";width: 100%;border-bottom: 1px solid gray;flex-grow: 1;}#sk-container-id-1 div.sk-label:hover label.sk-toggleable__label {background-color: #d4ebff;}#sk-container-id-1 div.sk-serial::before {content: \"\";position: absolute;border-left: 1px solid gray;box-sizing: border-box;top: 0;bottom: 0;left: 50%;z-index: 0;}#sk-container-id-1 div.sk-serial {display: flex;flex-direction: column;align-items: center;background-color: white;padding-right: 0.2em;padding-left: 0.2em;position: relative;}#sk-container-id-1 div.sk-item {position: relative;z-index: 1;}#sk-container-id-1 div.sk-parallel {display: flex;align-items: stretch;justify-content: center;background-color: white;position: relative;}#sk-container-id-1 div.sk-item::before, #sk-container-id-1 div.sk-parallel-item::before {content: \"\";position: absolute;border-left: 1px solid gray;box-sizing: border-box;top: 0;bottom: 0;left: 50%;z-index: -1;}#sk-container-id-1 div.sk-parallel-item {display: flex;flex-direction: column;z-index: 1;position: relative;background-color: white;}#sk-container-id-1 div.sk-parallel-item:first-child::after {align-self: flex-end;width: 50%;}#sk-container-id-1 div.sk-parallel-item:last-child::after {align-self: flex-start;width: 50%;}#sk-container-id-1 div.sk-parallel-item:only-child::after {width: 0;}#sk-container-id-1 div.sk-dashed-wrapped {border: 1px dashed gray;margin: 0 0.4em 0.5em 0.4em;box-sizing: border-box;padding-bottom: 0.4em;background-color: white;}#sk-container-id-1 div.sk-label label {font-family: monospace;font-weight: bold;display: inline-block;line-height: 1.2em;}#sk-container-id-1 div.sk-label-container {text-align: center;}#sk-container-id-1 div.sk-container {/* jupyter's `normalize.less` sets `[hidden] { display: none; }` but bootstrap.min.css set `[hidden] { display: none !important; }` so we also need the `!important` here to be able to override the default hidden behavior on the sphinx rendered scikit-learn.org. See: https://github.com/scikit-learn/scikit-learn/issues/21755 */display: inline-block !important;position: relative;}#sk-container-id-1 div.sk-text-repr-fallback {display: none;}</style><div id=\"sk-container-id-1\" class=\"sk-top-container\"><div class=\"sk-text-repr-fallback\"><pre>GridSearchCV(cv=5, estimator=LogisticRegression(random_state=10),\n",
       "             param_grid={&#x27;solver&#x27;: [&#x27;lbfgs&#x27;, &#x27;newton-cg&#x27;, &#x27;sag&#x27;, &#x27;saga&#x27;]},\n",
       "             scoring=&#x27;accuracy&#x27;)</pre><b>In a Jupyter environment, please rerun this cell to show the HTML representation or trust the notebook. <br />On GitHub, the HTML representation is unable to render, please try loading this page with nbviewer.org.</b></div><div class=\"sk-container\" hidden><div class=\"sk-item sk-dashed-wrapped\"><div class=\"sk-label-container\"><div class=\"sk-label sk-toggleable\"><input class=\"sk-toggleable__control sk-hidden--visually\" id=\"sk-estimator-id-1\" type=\"checkbox\" ><label for=\"sk-estimator-id-1\" class=\"sk-toggleable__label sk-toggleable__label-arrow\">GridSearchCV</label><div class=\"sk-toggleable__content\"><pre>GridSearchCV(cv=5, estimator=LogisticRegression(random_state=10),\n",
       "             param_grid={&#x27;solver&#x27;: [&#x27;lbfgs&#x27;, &#x27;newton-cg&#x27;, &#x27;sag&#x27;, &#x27;saga&#x27;]},\n",
       "             scoring=&#x27;accuracy&#x27;)</pre></div></div></div><div class=\"sk-parallel\"><div class=\"sk-parallel-item\"><div class=\"sk-item\"><div class=\"sk-label-container\"><div class=\"sk-label sk-toggleable\"><input class=\"sk-toggleable__control sk-hidden--visually\" id=\"sk-estimator-id-2\" type=\"checkbox\" ><label for=\"sk-estimator-id-2\" class=\"sk-toggleable__label sk-toggleable__label-arrow\">estimator: LogisticRegression</label><div class=\"sk-toggleable__content\"><pre>LogisticRegression(random_state=10)</pre></div></div></div><div class=\"sk-serial\"><div class=\"sk-item\"><div class=\"sk-estimator sk-toggleable\"><input class=\"sk-toggleable__control sk-hidden--visually\" id=\"sk-estimator-id-3\" type=\"checkbox\" ><label for=\"sk-estimator-id-3\" class=\"sk-toggleable__label sk-toggleable__label-arrow\">LogisticRegression</label><div class=\"sk-toggleable__content\"><pre>LogisticRegression(random_state=10)</pre></div></div></div></div></div></div></div></div></div></div>"
      ],
      "text/plain": [
       "GridSearchCV(cv=5, estimator=LogisticRegression(random_state=10),\n",
       "             param_grid={'solver': ['lbfgs', 'newton-cg', 'sag', 'saga']},\n",
       "             scoring='accuracy')"
      ]
     },
     "execution_count": 78,
     "metadata": {},
     "output_type": "execute_result"
    }
   ],
   "source": [
    "grid_search_logi.fit(Xs_train ,Ys_train)"
   ]
  },
  {
   "cell_type": "code",
   "execution_count": 79,
   "id": "27c2ced4",
   "metadata": {},
   "outputs": [
    {
     "data": {
      "text/plain": [
       "{'solver': 'lbfgs'}"
      ]
     },
     "execution_count": 79,
     "metadata": {},
     "output_type": "execute_result"
    }
   ],
   "source": [
    "best_params_logi = grid_search_logi.best_params_\n",
    "best_params_logi"
   ]
  },
  {
   "cell_type": "code",
   "execution_count": 80,
   "id": "ee011613",
   "metadata": {},
   "outputs": [
    {
     "data": {
      "text/html": [
       "<style>#sk-container-id-2 {color: black;background-color: white;}#sk-container-id-2 pre{padding: 0;}#sk-container-id-2 div.sk-toggleable {background-color: white;}#sk-container-id-2 label.sk-toggleable__label {cursor: pointer;display: block;width: 100%;margin-bottom: 0;padding: 0.3em;box-sizing: border-box;text-align: center;}#sk-container-id-2 label.sk-toggleable__label-arrow:before {content: \"▸\";float: left;margin-right: 0.25em;color: #696969;}#sk-container-id-2 label.sk-toggleable__label-arrow:hover:before {color: black;}#sk-container-id-2 div.sk-estimator:hover label.sk-toggleable__label-arrow:before {color: black;}#sk-container-id-2 div.sk-toggleable__content {max-height: 0;max-width: 0;overflow: hidden;text-align: left;background-color: #f0f8ff;}#sk-container-id-2 div.sk-toggleable__content pre {margin: 0.2em;color: black;border-radius: 0.25em;background-color: #f0f8ff;}#sk-container-id-2 input.sk-toggleable__control:checked~div.sk-toggleable__content {max-height: 200px;max-width: 100%;overflow: auto;}#sk-container-id-2 input.sk-toggleable__control:checked~label.sk-toggleable__label-arrow:before {content: \"▾\";}#sk-container-id-2 div.sk-estimator input.sk-toggleable__control:checked~label.sk-toggleable__label {background-color: #d4ebff;}#sk-container-id-2 div.sk-label input.sk-toggleable__control:checked~label.sk-toggleable__label {background-color: #d4ebff;}#sk-container-id-2 input.sk-hidden--visually {border: 0;clip: rect(1px 1px 1px 1px);clip: rect(1px, 1px, 1px, 1px);height: 1px;margin: -1px;overflow: hidden;padding: 0;position: absolute;width: 1px;}#sk-container-id-2 div.sk-estimator {font-family: monospace;background-color: #f0f8ff;border: 1px dotted black;border-radius: 0.25em;box-sizing: border-box;margin-bottom: 0.5em;}#sk-container-id-2 div.sk-estimator:hover {background-color: #d4ebff;}#sk-container-id-2 div.sk-parallel-item::after {content: \"\";width: 100%;border-bottom: 1px solid gray;flex-grow: 1;}#sk-container-id-2 div.sk-label:hover label.sk-toggleable__label {background-color: #d4ebff;}#sk-container-id-2 div.sk-serial::before {content: \"\";position: absolute;border-left: 1px solid gray;box-sizing: border-box;top: 0;bottom: 0;left: 50%;z-index: 0;}#sk-container-id-2 div.sk-serial {display: flex;flex-direction: column;align-items: center;background-color: white;padding-right: 0.2em;padding-left: 0.2em;position: relative;}#sk-container-id-2 div.sk-item {position: relative;z-index: 1;}#sk-container-id-2 div.sk-parallel {display: flex;align-items: stretch;justify-content: center;background-color: white;position: relative;}#sk-container-id-2 div.sk-item::before, #sk-container-id-2 div.sk-parallel-item::before {content: \"\";position: absolute;border-left: 1px solid gray;box-sizing: border-box;top: 0;bottom: 0;left: 50%;z-index: -1;}#sk-container-id-2 div.sk-parallel-item {display: flex;flex-direction: column;z-index: 1;position: relative;background-color: white;}#sk-container-id-2 div.sk-parallel-item:first-child::after {align-self: flex-end;width: 50%;}#sk-container-id-2 div.sk-parallel-item:last-child::after {align-self: flex-start;width: 50%;}#sk-container-id-2 div.sk-parallel-item:only-child::after {width: 0;}#sk-container-id-2 div.sk-dashed-wrapped {border: 1px dashed gray;margin: 0 0.4em 0.5em 0.4em;box-sizing: border-box;padding-bottom: 0.4em;background-color: white;}#sk-container-id-2 div.sk-label label {font-family: monospace;font-weight: bold;display: inline-block;line-height: 1.2em;}#sk-container-id-2 div.sk-label-container {text-align: center;}#sk-container-id-2 div.sk-container {/* jupyter's `normalize.less` sets `[hidden] { display: none; }` but bootstrap.min.css set `[hidden] { display: none !important; }` so we also need the `!important` here to be able to override the default hidden behavior on the sphinx rendered scikit-learn.org. See: https://github.com/scikit-learn/scikit-learn/issues/21755 */display: inline-block !important;position: relative;}#sk-container-id-2 div.sk-text-repr-fallback {display: none;}</style><div id=\"sk-container-id-2\" class=\"sk-top-container\"><div class=\"sk-text-repr-fallback\"><pre>LogisticRegression(random_state=10)</pre><b>In a Jupyter environment, please rerun this cell to show the HTML representation or trust the notebook. <br />On GitHub, the HTML representation is unable to render, please try loading this page with nbviewer.org.</b></div><div class=\"sk-container\" hidden><div class=\"sk-item\"><div class=\"sk-estimator sk-toggleable\"><input class=\"sk-toggleable__control sk-hidden--visually\" id=\"sk-estimator-id-4\" type=\"checkbox\" checked><label for=\"sk-estimator-id-4\" class=\"sk-toggleable__label sk-toggleable__label-arrow\">LogisticRegression</label><div class=\"sk-toggleable__content\"><pre>LogisticRegression(random_state=10)</pre></div></div></div></div></div>"
      ],
      "text/plain": [
       "LogisticRegression(random_state=10)"
      ]
     },
     "execution_count": 80,
     "metadata": {},
     "output_type": "execute_result"
    }
   ],
   "source": [
    "best_logi_model = grid_search_logi.best_estimator_\n",
    "best_logi_model"
   ]
  },
  {
   "cell_type": "code",
   "execution_count": 81,
   "id": "b7825611",
   "metadata": {},
   "outputs": [],
   "source": [
    "y_pred_logi = best_logi_model.predict(Xs_test)"
   ]
  },
  {
   "cell_type": "code",
   "execution_count": 82,
   "id": "a8fafc53",
   "metadata": {
    "scrolled": false
   },
   "outputs": [
    {
     "data": {
      "text/plain": [
       "0.9132575757575757"
      ]
     },
     "execution_count": 82,
     "metadata": {},
     "output_type": "execute_result"
    }
   ],
   "source": [
    "Accuracy_logi= accuracy_score(Ys_test, y_pred_logi)\n",
    "Accuracy_logi"
   ]
  },
  {
   "cell_type": "code",
   "execution_count": 83,
   "id": "7f4fe859",
   "metadata": {},
   "outputs": [
    {
     "name": "stdout",
     "output_type": "stream",
     "text": [
      "Training Set Accuracy: 0.9179924242424242\n"
     ]
    }
   ],
   "source": [
    "y_train_pred_logi = best_logi_model.predict(Xs_train)\n",
    "Accuracy_train_logi = accuracy_score(Ys_train, y_train_pred_logi)\n",
    "print(\"Training Set Accuracy:\", Accuracy_train_logi)"
   ]
  },
  {
   "cell_type": "code",
   "execution_count": 45,
   "id": "8fe42259",
   "metadata": {},
   "outputs": [],
   "source": [
    "#print(classification_report(Ys_test,y_pred_logi))"
   ]
  },
  {
   "cell_type": "code",
   "execution_count": 46,
   "id": "aba4e9b4",
   "metadata": {},
   "outputs": [
    {
     "data": {
      "text/plain": [
       "0.8717694364563963"
      ]
     },
     "execution_count": 46,
     "metadata": {},
     "output_type": "execute_result"
    }
   ],
   "source": [
    "#f1_score(Ys_test,y_pred_logi, average='macro')"
   ]
  },
  {
   "cell_type": "code",
   "execution_count": 84,
   "id": "017a9201",
   "metadata": {},
   "outputs": [
    {
     "data": {
      "image/png": "[encoded data removed]",
      "text/plain": [
       "<Figure size 640x480 with 2 Axes>"
      ]
     },
     "metadata": {},
     "output_type": "display_data"
    }
   ],
   "source": [
    "class_labels = ['0', '1']\n",
    "conf_matrix_logi = confusion_matrix(Ys_test, y_pred_logi)\n",
    "sns.heatmap(conf_matrix_logi, annot=True, fmt='d', cmap='Reds', \n",
    "            xticklabels=class_labels, \n",
    "            yticklabels=class_labels)\n",
    "plt.title('Confusion Matrix')\n",
    "plt.xlabel('Predicted Label')\n",
    "plt.ylabel('True Label')\n",
    "plt.show()"
   ]
  },
  {
   "cell_type": "markdown",
   "id": "9c6814ca",
   "metadata": {},
   "source": [
    "# XG-Boost "
   ]
  },
  {
   "cell_type": "code",
   "execution_count": 96,
   "id": "c1dd61d3",
   "metadata": {},
   "outputs": [],
   "source": [
    "import xgboost as xgb\n",
    "xgb_model = xgb.XGBClassifier(objective='binary:logistic',random_state=10,booster='dart',alpha=5,gamma=1,sample_type='uniform',normalize_type='forest',rate_drop=0.1)"
   ]
  },
  {
   "cell_type": "code",
   "execution_count": 97,
   "id": "15405906",
   "metadata": {},
   "outputs": [],
   "source": [
    "param_grid_xgb = {'learning_rate': [0.05, 0.1] ,'max_depth': [2, 3],'n_estimators': [50, 100],'lambda':[2.5,3],'subsample': [0.7, 0.8],'colsample_bytree': [0.7, 0.8]}"
   ]
  },
  {
   "cell_type": "code",
   "execution_count": 98,
   "id": "0e805eb2",
   "metadata": {},
   "outputs": [],
   "source": [
    "grid_search_xgb = GridSearchCV(estimator=xgb_model, param_grid=param_grid_xgb, cv=5, scoring='neg_log_loss',n_jobs=-1)"
   ]
  },
  {
   "cell_type": "code",
   "execution_count": 51,
   "id": "2b38389d",
   "metadata": {},
   "outputs": [],
   "source": [
    "#grid_search_xgb.fit(X_train ,Y_train,eval_set=[(X_test,Y_test)],early_stopping_rounds=20, eval_metric=\"mlogloss\",verbose=True)"
   ]
  },
  {
   "cell_type": "code",
   "execution_count": 99,
   "id": "13abb64b",
   "metadata": {},
   "outputs": [
    {
     "data": {
      "text/plain": [
       "9645     0\n",
       "8002     0\n",
       "6329     0\n",
       "11103    0\n",
       "3600     0\n",
       "        ..\n",
       "11633    0\n",
       "1344     0\n",
       "12815    0\n",
       "7293     1\n",
       "1289     0\n",
       "Name: Weather_Type, Length: 10560, dtype: int64"
      ]
     },
     "execution_count": 99,
     "metadata": {},
     "output_type": "execute_result"
    }
   ],
   "source": [
    "Y_train"
   ]
  },
  {
   "cell_type": "code",
   "execution_count": 100,
   "id": "c05df4b1",
   "metadata": {
    "scrolled": true
   },
   "outputs": [
    {
     "data": {
      "text/html": [
       "<style>#sk-container-id-3 {color: black;background-color: white;}#sk-container-id-3 pre{padding: 0;}#sk-container-id-3 div.sk-toggleable {background-color: white;}#sk-container-id-3 label.sk-toggleable__label {cursor: pointer;display: block;width: 100%;margin-bottom: 0;padding: 0.3em;box-sizing: border-box;text-align: center;}#sk-container-id-3 label.sk-toggleable__label-arrow:before {content: \"▸\";float: left;margin-right: 0.25em;color: #696969;}#sk-container-id-3 label.sk-toggleable__label-arrow:hover:before {color: black;}#sk-container-id-3 div.sk-estimator:hover label.sk-toggleable__label-arrow:before {color: black;}#sk-container-id-3 div.sk-toggleable__content {max-height: 0;max-width: 0;overflow: hidden;text-align: left;background-color: #f0f8ff;}#sk-container-id-3 div.sk-toggleable__content pre {margin: 0.2em;color: black;border-radius: 0.25em;background-color: #f0f8ff;}#sk-container-id-3 input.sk-toggleable__control:checked~div.sk-toggleable__content {max-height: 200px;max-width: 100%;overflow: auto;}#sk-container-id-3 input.sk-toggleable__control:checked~label.sk-toggleable__label-arrow:before {content: \"▾\";}#sk-container-id-3 div.sk-estimator input.sk-toggleable__control:checked~label.sk-toggleable__label {background-color: #d4ebff;}#sk-container-id-3 div.sk-label input.sk-toggleable__control:checked~label.sk-toggleable__label {background-color: #d4ebff;}#sk-container-id-3 input.sk-hidden--visually {border: 0;clip: rect(1px 1px 1px 1px);clip: rect(1px, 1px, 1px, 1px);height: 1px;margin: -1px;overflow: hidden;padding: 0;position: absolute;width: 1px;}#sk-container-id-3 div.sk-estimator {font-family: monospace;background-color: #f0f8ff;border: 1px dotted black;border-radius: 0.25em;box-sizing: border-box;margin-bottom: 0.5em;}#sk-container-id-3 div.sk-estimator:hover {background-color: #d4ebff;}#sk-container-id-3 div.sk-parallel-item::after {content: \"\";width: 100%;border-bottom: 1px solid gray;flex-grow: 1;}#sk-container-id-3 div.sk-label:hover label.sk-toggleable__label {background-color: #d4ebff;}#sk-container-id-3 div.sk-serial::before {content: \"\";position: absolute;border-left: 1px solid gray;box-sizing: border-box;top: 0;bottom: 0;left: 50%;z-index: 0;}#sk-container-id-3 div.sk-serial {display: flex;flex-direction: column;align-items: center;background-color: white;padding-right: 0.2em;padding-left: 0.2em;position: relative;}#sk-container-id-3 div.sk-item {position: relative;z-index: 1;}#sk-container-id-3 div.sk-parallel {display: flex;align-items: stretch;justify-content: center;background-color: white;position: relative;}#sk-container-id-3 div.sk-item::before, #sk-container-id-3 div.sk-parallel-item::before {content: \"\";position: absolute;border-left: 1px solid gray;box-sizing: border-box;top: 0;bottom: 0;left: 50%;z-index: -1;}#sk-container-id-3 div.sk-parallel-item {display: flex;flex-direction: column;z-index: 1;position: relative;background-color: white;}#sk-container-id-3 div.sk-parallel-item:first-child::after {align-self: flex-end;width: 50%;}#sk-container-id-3 div.sk-parallel-item:last-child::after {align-self: flex-start;width: 50%;}#sk-container-id-3 div.sk-parallel-item:only-child::after {width: 0;}#sk-container-id-3 div.sk-dashed-wrapped {border: 1px dashed gray;margin: 0 0.4em 0.5em 0.4em;box-sizing: border-box;padding-bottom: 0.4em;background-color: white;}#sk-container-id-3 div.sk-label label {font-family: monospace;font-weight: bold;display: inline-block;line-height: 1.2em;}#sk-container-id-3 div.sk-label-container {text-align: center;}#sk-container-id-3 div.sk-container {/* jupyter's `normalize.less` sets `[hidden] { display: none; }` but bootstrap.min.css set `[hidden] { display: none !important; }` so we also need the `!important` here to be able to override the default hidden behavior on the sphinx rendered scikit-learn.org. See: https://github.com/scikit-learn/scikit-learn/issues/21755 */display: inline-block !important;position: relative;}#sk-container-id-3 div.sk-text-repr-fallback {display: none;}</style><div id=\"sk-container-id-3\" class=\"sk-top-container\"><div class=\"sk-text-repr-fallback\"><pre>GridSearchCV(cv=5,\n",
       "             estimator=XGBClassifier(alpha=5, base_score=None, booster=&#x27;dart&#x27;,\n",
       "                                     callbacks=None, colsample_bylevel=None,\n",
       "                                     colsample_bynode=None,\n",
       "                                     colsample_bytree=None,\n",
       "                                     early_stopping_rounds=None,\n",
       "                                     enable_categorical=False, eval_metric=None,\n",
       "                                     gamma=1, gpu_id=None, grow_policy=None,\n",
       "                                     importance_type=None,\n",
       "                                     interaction_constraints=None,\n",
       "                                     learning_rate=None, max_bin=None...\n",
       "                                     max_leaves=None, min_child_weight=None,\n",
       "                                     missing=nan, monotone_constraints=None,\n",
       "                                     n_estimators=100, n_jobs=None,\n",
       "                                     normalize_type=&#x27;forest&#x27;,\n",
       "                                     num_parallel_tree=None, predictor=None,\n",
       "                                     random_state=10, ...),\n",
       "             n_jobs=-1,\n",
       "             param_grid={&#x27;colsample_bytree&#x27;: [0.7, 0.8], &#x27;lambda&#x27;: [2.5, 3],\n",
       "                         &#x27;learning_rate&#x27;: [0.05, 0.1], &#x27;max_depth&#x27;: [2, 3],\n",
       "                         &#x27;n_estimators&#x27;: [50, 100], &#x27;subsample&#x27;: [0.7, 0.8]},\n",
       "             scoring=&#x27;neg_log_loss&#x27;)</pre><b>In a Jupyter environment, please rerun this cell to show the HTML representation or trust the notebook. <br />On GitHub, the HTML representation is unable to render, please try loading this page with nbviewer.org.</b></div><div class=\"sk-container\" hidden><div class=\"sk-item sk-dashed-wrapped\"><div class=\"sk-label-container\"><div class=\"sk-label sk-toggleable\"><input class=\"sk-toggleable__control sk-hidden--visually\" id=\"sk-estimator-id-5\" type=\"checkbox\" ><label for=\"sk-estimator-id-5\" class=\"sk-toggleable__label sk-toggleable__label-arrow\">GridSearchCV</label><div class=\"sk-toggleable__content\"><pre>GridSearchCV(cv=5,\n",
       "             estimator=XGBClassifier(alpha=5, base_score=None, booster=&#x27;dart&#x27;,\n",
       "                                     callbacks=None, colsample_bylevel=None,\n",
       "                                     colsample_bynode=None,\n",
       "                                     colsample_bytree=None,\n",
       "                                     early_stopping_rounds=None,\n",
       "                                     enable_categorical=False, eval_metric=None,\n",
       "                                     gamma=1, gpu_id=None, grow_policy=None,\n",
       "                                     importance_type=None,\n",
       "                                     interaction_constraints=None,\n",
       "                                     learning_rate=None, max_bin=None...\n",
       "                                     max_leaves=None, min_child_weight=None,\n",
       "                                     missing=nan, monotone_constraints=None,\n",
       "                                     n_estimators=100, n_jobs=None,\n",
       "                                     normalize_type=&#x27;forest&#x27;,\n",
       "                                     num_parallel_tree=None, predictor=None,\n",
       "                                     random_state=10, ...),\n",
       "             n_jobs=-1,\n",
       "             param_grid={&#x27;colsample_bytree&#x27;: [0.7, 0.8], &#x27;lambda&#x27;: [2.5, 3],\n",
       "                         &#x27;learning_rate&#x27;: [0.05, 0.1], &#x27;max_depth&#x27;: [2, 3],\n",
       "                         &#x27;n_estimators&#x27;: [50, 100], &#x27;subsample&#x27;: [0.7, 0.8]},\n",
       "             scoring=&#x27;neg_log_loss&#x27;)</pre></div></div></div><div class=\"sk-parallel\"><div class=\"sk-parallel-item\"><div class=\"sk-item\"><div class=\"sk-label-container\"><div class=\"sk-label sk-toggleable\"><input class=\"sk-toggleable__control sk-hidden--visually\" id=\"sk-estimator-id-6\" type=\"checkbox\" ><label for=\"sk-estimator-id-6\" class=\"sk-toggleable__label sk-toggleable__label-arrow\">estimator: XGBClassifier</label><div class=\"sk-toggleable__content\"><pre>XGBClassifier(alpha=5, base_score=None, booster=&#x27;dart&#x27;, callbacks=None,\n",
       "              colsample_bylevel=None, colsample_bynode=None,\n",
       "              colsample_bytree=None, early_stopping_rounds=None,\n",
       "              enable_categorical=False, eval_metric=None, gamma=1, gpu_id=None,\n",
       "              grow_policy=None, importance_type=None,\n",
       "              interaction_constraints=None, learning_rate=None, max_bin=None,\n",
       "              max_cat_to_onehot=None, max_delta_step=None, max_depth=None,\n",
       "              max_leaves=None, min_child_weight=None, missing=nan,\n",
       "              monotone_constraints=None, n_estimators=100, n_jobs=None,\n",
       "              normalize_type=&#x27;forest&#x27;, num_parallel_tree=None, predictor=None,\n",
       "              random_state=10, ...)</pre></div></div></div><div class=\"sk-serial\"><div class=\"sk-item\"><div class=\"sk-estimator sk-toggleable\"><input class=\"sk-toggleable__control sk-hidden--visually\" id=\"sk-estimator-id-7\" type=\"checkbox\" ><label for=\"sk-estimator-id-7\" class=\"sk-toggleable__label sk-toggleable__label-arrow\">XGBClassifier</label><div class=\"sk-toggleable__content\"><pre>XGBClassifier(alpha=5, base_score=None, booster=&#x27;dart&#x27;, callbacks=None,\n",
       "              colsample_bylevel=None, colsample_bynode=None,\n",
       "              colsample_bytree=None, early_stopping_rounds=None,\n",
       "              enable_categorical=False, eval_metric=None, gamma=1, gpu_id=None,\n",
       "              grow_policy=None, importance_type=None,\n",
       "              interaction_constraints=None, learning_rate=None, max_bin=None,\n",
       "              max_cat_to_onehot=None, max_delta_step=None, max_depth=None,\n",
       "              max_leaves=None, min_child_weight=None, missing=nan,\n",
       "              monotone_constraints=None, n_estimators=100, n_jobs=None,\n",
       "              normalize_type=&#x27;forest&#x27;, num_parallel_tree=None, predictor=None,\n",
       "              random_state=10, ...)</pre></div></div></div></div></div></div></div></div></div></div>"
      ],
      "text/plain": [
       "GridSearchCV(cv=5,\n",
       "             estimator=XGBClassifier(alpha=5, base_score=None, booster='dart',\n",
       "                                     callbacks=None, colsample_bylevel=None,\n",
       "                                     colsample_bynode=None,\n",
       "                                     colsample_bytree=None,\n",
       "                                     early_stopping_rounds=None,\n",
       "                                     enable_categorical=False, eval_metric=None,\n",
       "                                     gamma=1, gpu_id=None, grow_policy=None,\n",
       "                                     importance_type=None,\n",
       "                                     interaction_constraints=None,\n",
       "                                     learning_rate=None, max_bin=None...\n",
       "                                     max_leaves=None, min_child_weight=None,\n",
       "                                     missing=nan, monotone_constraints=None,\n",
       "                                     n_estimators=100, n_jobs=None,\n",
       "                                     normalize_type='forest',\n",
       "                                     num_parallel_tree=None, predictor=None,\n",
       "                                     random_state=10, ...),\n",
       "             n_jobs=-1,\n",
       "             param_grid={'colsample_bytree': [0.7, 0.8], 'lambda': [2.5, 3],\n",
       "                         'learning_rate': [0.05, 0.1], 'max_depth': [2, 3],\n",
       "                         'n_estimators': [50, 100], 'subsample': [0.7, 0.8]},\n",
       "             scoring='neg_log_loss')"
      ]
     },
     "execution_count": 100,
     "metadata": {},
     "output_type": "execute_result"
    }
   ],
   "source": [
    "grid_search_xgb.fit(X_train ,Y_train)"
   ]
  },
  {
   "cell_type": "code",
   "execution_count": 101,
   "id": "f549f3ba",
   "metadata": {},
   "outputs": [
    {
     "data": {
      "text/plain": [
       "{'colsample_bytree': 0.8,\n",
       " 'lambda': 2.5,\n",
       " 'learning_rate': 0.1,\n",
       " 'max_depth': 3,\n",
       " 'n_estimators': 100,\n",
       " 'subsample': 0.8}"
      ]
     },
     "execution_count": 101,
     "metadata": {},
     "output_type": "execute_result"
    }
   ],
   "source": [
    "best_params_xgb = grid_search_xgb.best_params_\n",
    "best_params_xgb"
   ]
  },
  {
   "cell_type": "code",
   "execution_count": 102,
   "id": "25e8ff23",
   "metadata": {},
   "outputs": [
    {
     "data": {
      "text/html": [
       "<style>#sk-container-id-4 {color: black;background-color: white;}#sk-container-id-4 pre{padding: 0;}#sk-container-id-4 div.sk-toggleable {background-color: white;}#sk-container-id-4 label.sk-toggleable__label {cursor: pointer;display: block;width: 100%;margin-bottom: 0;padding: 0.3em;box-sizing: border-box;text-align: center;}#sk-container-id-4 label.sk-toggleable__label-arrow:before {content: \"▸\";float: left;margin-right: 0.25em;color: #696969;}#sk-container-id-4 label.sk-toggleable__label-arrow:hover:before {color: black;}#sk-container-id-4 div.sk-estimator:hover label.sk-toggleable__label-arrow:before {color: black;}#sk-container-id-4 div.sk-toggleable__content {max-height: 0;max-width: 0;overflow: hidden;text-align: left;background-color: #f0f8ff;}#sk-container-id-4 div.sk-toggleable__content pre {margin: 0.2em;color: black;border-radius: 0.25em;background-color: #f0f8ff;}#sk-container-id-4 input.sk-toggleable__control:checked~div.sk-toggleable__content {max-height: 200px;max-width: 100%;overflow: auto;}#sk-container-id-4 input.sk-toggleable__control:checked~label.sk-toggleable__label-arrow:before {content: \"▾\";}#sk-container-id-4 div.sk-estimator input.sk-toggleable__control:checked~label.sk-toggleable__label {background-color: #d4ebff;}#sk-container-id-4 div.sk-label input.sk-toggleable__control:checked~label.sk-toggleable__label {background-color: #d4ebff;}#sk-container-id-4 input.sk-hidden--visually {border: 0;clip: rect(1px 1px 1px 1px);clip: rect(1px, 1px, 1px, 1px);height: 1px;margin: -1px;overflow: hidden;padding: 0;position: absolute;width: 1px;}#sk-container-id-4 div.sk-estimator {font-family: monospace;background-color: #f0f8ff;border: 1px dotted black;border-radius: 0.25em;box-sizing: border-box;margin-bottom: 0.5em;}#sk-container-id-4 div.sk-estimator:hover {background-color: #d4ebff;}#sk-container-id-4 div.sk-parallel-item::after {content: \"\";width: 100%;border-bottom: 1px solid gray;flex-grow: 1;}#sk-container-id-4 div.sk-label:hover label.sk-toggleable__label {background-color: #d4ebff;}#sk-container-id-4 div.sk-serial::before {content: \"\";position: absolute;border-left: 1px solid gray;box-sizing: border-box;top: 0;bottom: 0;left: 50%;z-index: 0;}#sk-container-id-4 div.sk-serial {display: flex;flex-direction: column;align-items: center;background-color: white;padding-right: 0.2em;padding-left: 0.2em;position: relative;}#sk-container-id-4 div.sk-item {position: relative;z-index: 1;}#sk-container-id-4 div.sk-parallel {display: flex;align-items: stretch;justify-content: center;background-color: white;position: relative;}#sk-container-id-4 div.sk-item::before, #sk-container-id-4 div.sk-parallel-item::before {content: \"\";position: absolute;border-left: 1px solid gray;box-sizing: border-box;top: 0;bottom: 0;left: 50%;z-index: -1;}#sk-container-id-4 div.sk-parallel-item {display: flex;flex-direction: column;z-index: 1;position: relative;background-color: white;}#sk-container-id-4 div.sk-parallel-item:first-child::after {align-self: flex-end;width: 50%;}#sk-container-id-4 div.sk-parallel-item:last-child::after {align-self: flex-start;width: 50%;}#sk-container-id-4 div.sk-parallel-item:only-child::after {width: 0;}#sk-container-id-4 div.sk-dashed-wrapped {border: 1px dashed gray;margin: 0 0.4em 0.5em 0.4em;box-sizing: border-box;padding-bottom: 0.4em;background-color: white;}#sk-container-id-4 div.sk-label label {font-family: monospace;font-weight: bold;display: inline-block;line-height: 1.2em;}#sk-container-id-4 div.sk-label-container {text-align: center;}#sk-container-id-4 div.sk-container {/* jupyter's `normalize.less` sets `[hidden] { display: none; }` but bootstrap.min.css set `[hidden] { display: none !important; }` so we also need the `!important` here to be able to override the default hidden behavior on the sphinx rendered scikit-learn.org. See: https://github.com/scikit-learn/scikit-learn/issues/21755 */display: inline-block !important;position: relative;}#sk-container-id-4 div.sk-text-repr-fallback {display: none;}</style><div id=\"sk-container-id-4\" class=\"sk-top-container\"><div class=\"sk-text-repr-fallback\"><pre>XGBClassifier(alpha=5, base_score=0.5, booster=&#x27;dart&#x27;, callbacks=None,\n",
       "              colsample_bylevel=1, colsample_bynode=1, colsample_bytree=0.8,\n",
       "              early_stopping_rounds=None, enable_categorical=False,\n",
       "              eval_metric=None, gamma=1, gpu_id=-1, grow_policy=&#x27;depthwise&#x27;,\n",
       "              importance_type=None, interaction_constraints=&#x27;&#x27;, lambda=2.5,\n",
       "              learning_rate=0.1, max_bin=256, max_cat_to_onehot=4,\n",
       "              max_delta_step=0, max_depth=3, max_leaves=0, min_child_weight=1,\n",
       "              missing=nan, monotone_constraints=&#x27;()&#x27;, n_estimators=100,\n",
       "              n_jobs=0, normalize_type=&#x27;forest&#x27;, num_parallel_tree=1,\n",
       "              predictor=&#x27;auto&#x27;, ...)</pre><b>In a Jupyter environment, please rerun this cell to show the HTML representation or trust the notebook. <br />On GitHub, the HTML representation is unable to render, please try loading this page with nbviewer.org.</b></div><div class=\"sk-container\" hidden><div class=\"sk-item\"><div class=\"sk-estimator sk-toggleable\"><input class=\"sk-toggleable__control sk-hidden--visually\" id=\"sk-estimator-id-8\" type=\"checkbox\" checked><label for=\"sk-estimator-id-8\" class=\"sk-toggleable__label sk-toggleable__label-arrow\">XGBClassifier</label><div class=\"sk-toggleable__content\"><pre>XGBClassifier(alpha=5, base_score=0.5, booster=&#x27;dart&#x27;, callbacks=None,\n",
       "              colsample_bylevel=1, colsample_bynode=1, colsample_bytree=0.8,\n",
       "              early_stopping_rounds=None, enable_categorical=False,\n",
       "              eval_metric=None, gamma=1, gpu_id=-1, grow_policy=&#x27;depthwise&#x27;,\n",
       "              importance_type=None, interaction_constraints=&#x27;&#x27;, lambda=2.5,\n",
       "              learning_rate=0.1, max_bin=256, max_cat_to_onehot=4,\n",
       "              max_delta_step=0, max_depth=3, max_leaves=0, min_child_weight=1,\n",
       "              missing=nan, monotone_constraints=&#x27;()&#x27;, n_estimators=100,\n",
       "              n_jobs=0, normalize_type=&#x27;forest&#x27;, num_parallel_tree=1,\n",
       "              predictor=&#x27;auto&#x27;, ...)</pre></div></div></div></div></div>"
      ],
      "text/plain": [
       "XGBClassifier(alpha=5, base_score=0.5, booster='dart', callbacks=None,\n",
       "              colsample_bylevel=1, colsample_bynode=1, colsample_bytree=0.8,\n",
       "              early_stopping_rounds=None, enable_categorical=False,\n",
       "              eval_metric=None, gamma=1, gpu_id=-1, grow_policy='depthwise',\n",
       "              importance_type=None, interaction_constraints='', lambda=2.5,\n",
       "              learning_rate=0.1, max_bin=256, max_cat_to_onehot=4,\n",
       "              max_delta_step=0, max_depth=3, max_leaves=0, min_child_weight=1,\n",
       "              missing=nan, monotone_constraints='()', n_estimators=100,\n",
       "              n_jobs=0, normalize_type='forest', num_parallel_tree=1,\n",
       "              predictor='auto', ...)"
      ]
     },
     "execution_count": 102,
     "metadata": {},
     "output_type": "execute_result"
    }
   ],
   "source": [
    "best_xgb_model = grid_search_xgb.best_estimator_\n",
    "best_xgb_model"
   ]
  },
  {
   "cell_type": "code",
   "execution_count": 103,
   "id": "579fc597",
   "metadata": {},
   "outputs": [],
   "source": [
    "y_pred_xgb = best_xgb_model.predict(X_test)"
   ]
  },
  {
   "cell_type": "code",
   "execution_count": 104,
   "id": "b2524f21",
   "metadata": {},
   "outputs": [
    {
     "data": {
      "text/plain": [
       "0.9390151515151515"
      ]
     },
     "execution_count": 104,
     "metadata": {},
     "output_type": "execute_result"
    }
   ],
   "source": [
    "Accuracy_xgb = accuracy_score(Y_test, y_pred_xgb)\n",
    "Accuracy_xgb"
   ]
  },
  {
   "cell_type": "code",
   "execution_count": 105,
   "id": "b396b6bd",
   "metadata": {},
   "outputs": [
    {
     "name": "stdout",
     "output_type": "stream",
     "text": [
      "Training Set Accuracy: 0.9481060606060606\n"
     ]
    }
   ],
   "source": [
    "y_train_pred_xgb = best_xgb_model.predict(X_train)\n",
    "Accuracy_train_xgb = accuracy_score(Y_train, y_train_pred_xgb)\n",
    "print(\"Training Set Accuracy:\", Accuracy_train_xgb)"
   ]
  },
  {
   "cell_type": "code",
   "execution_count": 58,
   "id": "1d2a508d",
   "metadata": {},
   "outputs": [
    {
     "data": {
      "text/plain": [
       "0.9089046097268636"
      ]
     },
     "execution_count": 58,
     "metadata": {},
     "output_type": "execute_result"
    }
   ],
   "source": [
    "#print(classification_report(Y_test,y_pred_xgb))\n",
    "#f1_score(Y_test,y_pred_xgb, average='macro')"
   ]
  },
  {
   "cell_type": "code",
   "execution_count": 106,
   "id": "0ce23cc4",
   "metadata": {},
   "outputs": [
    {
     "data": {
      "image/png": "[encoded data removed]",
      "text/plain": [
       "<Figure size 640x480 with 2 Axes>"
      ]
     },
     "metadata": {},
     "output_type": "display_data"
    }
   ],
   "source": [
    "class_labels = ['0', '1']\n",
    "conf_matrix_logi = confusion_matrix(Y_test, y_pred_xgb)\n",
    "sns.heatmap(conf_matrix_logi, annot=True, fmt='d', cmap='PuBuGn', \n",
    "            xticklabels=class_labels, \n",
    "            yticklabels=class_labels)\n",
    "plt.title('Confusion Matrix')\n",
    "plt.xlabel('Predicted Label')\n",
    "plt.ylabel('True Label')\n",
    "plt.show()"
   ]
  },
  {
   "cell_type": "markdown",
   "id": "c06178e3",
   "metadata": {},
   "source": [
    "# Random Forest "
   ]
  },
  {
   "cell_type": "code",
   "execution_count": 107,
   "id": "3b2001fd",
   "metadata": {},
   "outputs": [],
   "source": [
    "from sklearn.ensemble import RandomForestClassifier\n",
    "rf_model = RandomForestClassifier(random_state=10)"
   ]
  },
  {
   "cell_type": "code",
   "execution_count": 108,
   "id": "7447a135",
   "metadata": {},
   "outputs": [],
   "source": [
    "param_grid_rf = {'criterion': ['gini','entropy'] ,'n_estimators': [25,35,45],'max_depth': [2,3,4]} "
   ]
  },
  {
   "cell_type": "code",
   "execution_count": 109,
   "id": "9dabb52d",
   "metadata": {},
   "outputs": [],
   "source": [
    "grid_search_rf = GridSearchCV(estimator=rf_model, param_grid=param_grid_rf, cv=5, scoring='accuracy')"
   ]
  },
  {
   "cell_type": "code",
   "execution_count": 110,
   "id": "ff5d3852",
   "metadata": {},
   "outputs": [
    {
     "data": {
      "text/html": [
       "<style>#sk-container-id-5 {color: black;background-color: white;}#sk-container-id-5 pre{padding: 0;}#sk-container-id-5 div.sk-toggleable {background-color: white;}#sk-container-id-5 label.sk-toggleable__label {cursor: pointer;display: block;width: 100%;margin-bottom: 0;padding: 0.3em;box-sizing: border-box;text-align: center;}#sk-container-id-5 label.sk-toggleable__label-arrow:before {content: \"▸\";float: left;margin-right: 0.25em;color: #696969;}#sk-container-id-5 label.sk-toggleable__label-arrow:hover:before {color: black;}#sk-container-id-5 div.sk-estimator:hover label.sk-toggleable__label-arrow:before {color: black;}#sk-container-id-5 div.sk-toggleable__content {max-height: 0;max-width: 0;overflow: hidden;text-align: left;background-color: #f0f8ff;}#sk-container-id-5 div.sk-toggleable__content pre {margin: 0.2em;color: black;border-radius: 0.25em;background-color: #f0f8ff;}#sk-container-id-5 input.sk-toggleable__control:checked~div.sk-toggleable__content {max-height: 200px;max-width: 100%;overflow: auto;}#sk-container-id-5 input.sk-toggleable__control:checked~label.sk-toggleable__label-arrow:before {content: \"▾\";}#sk-container-id-5 div.sk-estimator input.sk-toggleable__control:checked~label.sk-toggleable__label {background-color: #d4ebff;}#sk-container-id-5 div.sk-label input.sk-toggleable__control:checked~label.sk-toggleable__label {background-color: #d4ebff;}#sk-container-id-5 input.sk-hidden--visually {border: 0;clip: rect(1px 1px 1px 1px);clip: rect(1px, 1px, 1px, 1px);height: 1px;margin: -1px;overflow: hidden;padding: 0;position: absolute;width: 1px;}#sk-container-id-5 div.sk-estimator {font-family: monospace;background-color: #f0f8ff;border: 1px dotted black;border-radius: 0.25em;box-sizing: border-box;margin-bottom: 0.5em;}#sk-container-id-5 div.sk-estimator:hover {background-color: #d4ebff;}#sk-container-id-5 div.sk-parallel-item::after {content: \"\";width: 100%;border-bottom: 1px solid gray;flex-grow: 1;}#sk-container-id-5 div.sk-label:hover label.sk-toggleable__label {background-color: #d4ebff;}#sk-container-id-5 div.sk-serial::before {content: \"\";position: absolute;border-left: 1px solid gray;box-sizing: border-box;top: 0;bottom: 0;left: 50%;z-index: 0;}#sk-container-id-5 div.sk-serial {display: flex;flex-direction: column;align-items: center;background-color: white;padding-right: 0.2em;padding-left: 0.2em;position: relative;}#sk-container-id-5 div.sk-item {position: relative;z-index: 1;}#sk-container-id-5 div.sk-parallel {display: flex;align-items: stretch;justify-content: center;background-color: white;position: relative;}#sk-container-id-5 div.sk-item::before, #sk-container-id-5 div.sk-parallel-item::before {content: \"\";position: absolute;border-left: 1px solid gray;box-sizing: border-box;top: 0;bottom: 0;left: 50%;z-index: -1;}#sk-container-id-5 div.sk-parallel-item {display: flex;flex-direction: column;z-index: 1;position: relative;background-color: white;}#sk-container-id-5 div.sk-parallel-item:first-child::after {align-self: flex-end;width: 50%;}#sk-container-id-5 div.sk-parallel-item:last-child::after {align-self: flex-start;width: 50%;}#sk-container-id-5 div.sk-parallel-item:only-child::after {width: 0;}#sk-container-id-5 div.sk-dashed-wrapped {border: 1px dashed gray;margin: 0 0.4em 0.5em 0.4em;box-sizing: border-box;padding-bottom: 0.4em;background-color: white;}#sk-container-id-5 div.sk-label label {font-family: monospace;font-weight: bold;display: inline-block;line-height: 1.2em;}#sk-container-id-5 div.sk-label-container {text-align: center;}#sk-container-id-5 div.sk-container {/* jupyter's `normalize.less` sets `[hidden] { display: none; }` but bootstrap.min.css set `[hidden] { display: none !important; }` so we also need the `!important` here to be able to override the default hidden behavior on the sphinx rendered scikit-learn.org. See: https://github.com/scikit-learn/scikit-learn/issues/21755 */display: inline-block !important;position: relative;}#sk-container-id-5 div.sk-text-repr-fallback {display: none;}</style><div id=\"sk-container-id-5\" class=\"sk-top-container\"><div class=\"sk-text-repr-fallback\"><pre>GridSearchCV(cv=5, estimator=RandomForestClassifier(random_state=10),\n",
       "             param_grid={&#x27;criterion&#x27;: [&#x27;gini&#x27;, &#x27;entropy&#x27;],\n",
       "                         &#x27;max_depth&#x27;: [2, 3, 4], &#x27;n_estimators&#x27;: [25, 35, 45]},\n",
       "             scoring=&#x27;accuracy&#x27;)</pre><b>In a Jupyter environment, please rerun this cell to show the HTML representation or trust the notebook. <br />On GitHub, the HTML representation is unable to render, please try loading this page with nbviewer.org.</b></div><div class=\"sk-container\" hidden><div class=\"sk-item sk-dashed-wrapped\"><div class=\"sk-label-container\"><div class=\"sk-label sk-toggleable\"><input class=\"sk-toggleable__control sk-hidden--visually\" id=\"sk-estimator-id-9\" type=\"checkbox\" ><label for=\"sk-estimator-id-9\" class=\"sk-toggleable__label sk-toggleable__label-arrow\">GridSearchCV</label><div class=\"sk-toggleable__content\"><pre>GridSearchCV(cv=5, estimator=RandomForestClassifier(random_state=10),\n",
       "             param_grid={&#x27;criterion&#x27;: [&#x27;gini&#x27;, &#x27;entropy&#x27;],\n",
       "                         &#x27;max_depth&#x27;: [2, 3, 4], &#x27;n_estimators&#x27;: [25, 35, 45]},\n",
       "             scoring=&#x27;accuracy&#x27;)</pre></div></div></div><div class=\"sk-parallel\"><div class=\"sk-parallel-item\"><div class=\"sk-item\"><div class=\"sk-label-container\"><div class=\"sk-label sk-toggleable\"><input class=\"sk-toggleable__control sk-hidden--visually\" id=\"sk-estimator-id-10\" type=\"checkbox\" ><label for=\"sk-estimator-id-10\" class=\"sk-toggleable__label sk-toggleable__label-arrow\">estimator: RandomForestClassifier</label><div class=\"sk-toggleable__content\"><pre>RandomForestClassifier(random_state=10)</pre></div></div></div><div class=\"sk-serial\"><div class=\"sk-item\"><div class=\"sk-estimator sk-toggleable\"><input class=\"sk-toggleable__control sk-hidden--visually\" id=\"sk-estimator-id-11\" type=\"checkbox\" ><label for=\"sk-estimator-id-11\" class=\"sk-toggleable__label sk-toggleable__label-arrow\">RandomForestClassifier</label><div class=\"sk-toggleable__content\"><pre>RandomForestClassifier(random_state=10)</pre></div></div></div></div></div></div></div></div></div></div>"
      ],
      "text/plain": [
       "GridSearchCV(cv=5, estimator=RandomForestClassifier(random_state=10),\n",
       "             param_grid={'criterion': ['gini', 'entropy'],\n",
       "                         'max_depth': [2, 3, 4], 'n_estimators': [25, 35, 45]},\n",
       "             scoring='accuracy')"
      ]
     },
     "execution_count": 110,
     "metadata": {},
     "output_type": "execute_result"
    }
   ],
   "source": [
    "grid_search_rf.fit(X_train ,Y_train)"
   ]
  },
  {
   "cell_type": "code",
   "execution_count": 112,
   "id": "e3993af9",
   "metadata": {},
   "outputs": [
    {
     "data": {
      "text/plain": [
       "{'criterion': 'gini', 'max_depth': 4, 'n_estimators': 45}"
      ]
     },
     "execution_count": 112,
     "metadata": {},
     "output_type": "execute_result"
    }
   ],
   "source": [
    "best_params_rf = grid_search_rf.best_params_\n",
    "best_params_rf"
   ]
  },
  {
   "cell_type": "code",
   "execution_count": 113,
   "id": "aa45eedf",
   "metadata": {},
   "outputs": [
    {
     "data": {
      "text/html": [
       "<style>#sk-container-id-6 {color: black;background-color: white;}#sk-container-id-6 pre{padding: 0;}#sk-container-id-6 div.sk-toggleable {background-color: white;}#sk-container-id-6 label.sk-toggleable__label {cursor: pointer;display: block;width: 100%;margin-bottom: 0;padding: 0.3em;box-sizing: border-box;text-align: center;}#sk-container-id-6 label.sk-toggleable__label-arrow:before {content: \"▸\";float: left;margin-right: 0.25em;color: #696969;}#sk-container-id-6 label.sk-toggleable__label-arrow:hover:before {color: black;}#sk-container-id-6 div.sk-estimator:hover label.sk-toggleable__label-arrow:before {color: black;}#sk-container-id-6 div.sk-toggleable__content {max-height: 0;max-width: 0;overflow: hidden;text-align: left;background-color: #f0f8ff;}#sk-container-id-6 div.sk-toggleable__content pre {margin: 0.2em;color: black;border-radius: 0.25em;background-color: #f0f8ff;}#sk-container-id-6 input.sk-toggleable__control:checked~div.sk-toggleable__content {max-height: 200px;max-width: 100%;overflow: auto;}#sk-container-id-6 input.sk-toggleable__control:checked~label.sk-toggleable__label-arrow:before {content: \"▾\";}#sk-container-id-6 div.sk-estimator input.sk-toggleable__control:checked~label.sk-toggleable__label {background-color: #d4ebff;}#sk-container-id-6 div.sk-label input.sk-toggleable__control:checked~label.sk-toggleable__label {background-color: #d4ebff;}#sk-container-id-6 input.sk-hidden--visually {border: 0;clip: rect(1px 1px 1px 1px);clip: rect(1px, 1px, 1px, 1px);height: 1px;margin: -1px;overflow: hidden;padding: 0;position: absolute;width: 1px;}#sk-container-id-6 div.sk-estimator {font-family: monospace;background-color: #f0f8ff;border: 1px dotted black;border-radius: 0.25em;box-sizing: border-box;margin-bottom: 0.5em;}#sk-container-id-6 div.sk-estimator:hover {background-color: #d4ebff;}#sk-container-id-6 div.sk-parallel-item::after {content: \"\";width: 100%;border-bottom: 1px solid gray;flex-grow: 1;}#sk-container-id-6 div.sk-label:hover label.sk-toggleable__label {background-color: #d4ebff;}#sk-container-id-6 div.sk-serial::before {content: \"\";position: absolute;border-left: 1px solid gray;box-sizing: border-box;top: 0;bottom: 0;left: 50%;z-index: 0;}#sk-container-id-6 div.sk-serial {display: flex;flex-direction: column;align-items: center;background-color: white;padding-right: 0.2em;padding-left: 0.2em;position: relative;}#sk-container-id-6 div.sk-item {position: relative;z-index: 1;}#sk-container-id-6 div.sk-parallel {display: flex;align-items: stretch;justify-content: center;background-color: white;position: relative;}#sk-container-id-6 div.sk-item::before, #sk-container-id-6 div.sk-parallel-item::before {content: \"\";position: absolute;border-left: 1px solid gray;box-sizing: border-box;top: 0;bottom: 0;left: 50%;z-index: -1;}#sk-container-id-6 div.sk-parallel-item {display: flex;flex-direction: column;z-index: 1;position: relative;background-color: white;}#sk-container-id-6 div.sk-parallel-item:first-child::after {align-self: flex-end;width: 50%;}#sk-container-id-6 div.sk-parallel-item:last-child::after {align-self: flex-start;width: 50%;}#sk-container-id-6 div.sk-parallel-item:only-child::after {width: 0;}#sk-container-id-6 div.sk-dashed-wrapped {border: 1px dashed gray;margin: 0 0.4em 0.5em 0.4em;box-sizing: border-box;padding-bottom: 0.4em;background-color: white;}#sk-container-id-6 div.sk-label label {font-family: monospace;font-weight: bold;display: inline-block;line-height: 1.2em;}#sk-container-id-6 div.sk-label-container {text-align: center;}#sk-container-id-6 div.sk-container {/* jupyter's `normalize.less` sets `[hidden] { display: none; }` but bootstrap.min.css set `[hidden] { display: none !important; }` so we also need the `!important` here to be able to override the default hidden behavior on the sphinx rendered scikit-learn.org. See: https://github.com/scikit-learn/scikit-learn/issues/21755 */display: inline-block !important;position: relative;}#sk-container-id-6 div.sk-text-repr-fallback {display: none;}</style><div id=\"sk-container-id-6\" class=\"sk-top-container\"><div class=\"sk-text-repr-fallback\"><pre>RandomForestClassifier(max_depth=4, n_estimators=45, random_state=10)</pre><b>In a Jupyter environment, please rerun this cell to show the HTML representation or trust the notebook. <br />On GitHub, the HTML representation is unable to render, please try loading this page with nbviewer.org.</b></div><div class=\"sk-container\" hidden><div class=\"sk-item\"><div class=\"sk-estimator sk-toggleable\"><input class=\"sk-toggleable__control sk-hidden--visually\" id=\"sk-estimator-id-12\" type=\"checkbox\" checked><label for=\"sk-estimator-id-12\" class=\"sk-toggleable__label sk-toggleable__label-arrow\">RandomForestClassifier</label><div class=\"sk-toggleable__content\"><pre>RandomForestClassifier(max_depth=4, n_estimators=45, random_state=10)</pre></div></div></div></div></div>"
      ],
      "text/plain": [
       "RandomForestClassifier(max_depth=4, n_estimators=45, random_state=10)"
      ]
     },
     "execution_count": 113,
     "metadata": {},
     "output_type": "execute_result"
    }
   ],
   "source": [
    "best_rf_model = grid_search_rf.best_estimator_\n",
    "best_rf_model"
   ]
  },
  {
   "cell_type": "code",
   "execution_count": 114,
   "id": "c5e0ed03",
   "metadata": {},
   "outputs": [],
   "source": [
    "y_pred_rf = best_rf_model.predict(X_test)"
   ]
  },
  {
   "cell_type": "code",
   "execution_count": 117,
   "id": "127b9b77",
   "metadata": {},
   "outputs": [
    {
     "data": {
      "text/plain": [
       "0.9321969696969697"
      ]
     },
     "execution_count": 117,
     "metadata": {},
     "output_type": "execute_result"
    }
   ],
   "source": [
    "Accuracy_rf = accuracy_score(Y_test, y_pred_rf)\n",
    "Accuracy_rf"
   ]
  },
  {
   "cell_type": "code",
   "execution_count": 118,
   "id": "9ebc38ec",
   "metadata": {},
   "outputs": [
    {
     "name": "stdout",
     "output_type": "stream",
     "text": [
      "Training Set Accuracy: 0.9393939393939394\n"
     ]
    }
   ],
   "source": [
    "y_train_pred_rf = best_rf_model.predict(X_train)\n",
    "Accuracy_train_rf = accuracy_score(Y_train, y_train_pred_rf)\n",
    "print(\"Training Set Accuracy:\", Accuracy_train_rf)"
   ]
  },
  {
   "cell_type": "code",
   "execution_count": 69,
   "id": "c3f025be",
   "metadata": {},
   "outputs": [
    {
     "data": {
      "text/plain": [
       "0.8951840774505464"
      ]
     },
     "execution_count": 69,
     "metadata": {},
     "output_type": "execute_result"
    }
   ],
   "source": [
    "#print(classification_report(Y_test,y_pred_rf))\n",
    "#f1_score(Y_test,y_pred_rf, average='macro')"
   ]
  },
  {
   "cell_type": "code",
   "execution_count": 120,
   "id": "7f03e620",
   "metadata": {},
   "outputs": [
    {
     "data": {
      "image/png": "[encoded data removed]",
      "text/plain": [
       "<Figure size 640x480 with 2 Axes>"
      ]
     },
     "metadata": {},
     "output_type": "display_data"
    }
   ],
   "source": [
    "class_labels = ['0', '1']\n",
    "conf_matrix_rf = confusion_matrix(Y_test, y_pred_rf)\n",
    "sns.heatmap(conf_matrix_logi, annot=True, fmt='d', cmap='copper', \n",
    "            xticklabels=class_labels, \n",
    "            yticklabels=class_labels)\n",
    "plt.title('Confusion Matrix')\n",
    "plt.xlabel('Predicted Label')\n",
    "plt.ylabel('True Label')\n",
    "plt.show()"
   ]
  },
  {
   "cell_type": "markdown",
   "id": "c1d17f9a",
   "metadata": {},
   "source": [
    "# Gradient Boosting"
   ]
  },
  {
   "cell_type": "code",
   "execution_count": 121,
   "id": "ffe7d57f",
   "metadata": {},
   "outputs": [],
   "source": [
    "from sklearn.ensemble import GradientBoostingClassifier\n",
    "gbm_model = GradientBoostingClassifier(random_state=10)"
   ]
  },
  {
   "cell_type": "code",
   "execution_count": 122,
   "id": "44ca0b32",
   "metadata": {},
   "outputs": [],
   "source": [
    "param_grid_gbm = {'learning_rate': [0.01, 0.1, 0.2] ,'max_depth': [2,3,4],'n_estimators': [20,25,30]}"
   ]
  },
  {
   "cell_type": "code",
   "execution_count": 123,
   "id": "27e5b7c2",
   "metadata": {},
   "outputs": [],
   "source": [
    "grid_search_gbm = GridSearchCV(estimator=gbm_model, param_grid=param_grid_gbm, cv=3, scoring='accuracy',n_jobs = -1, verbose = 1)"
   ]
  },
  {
   "cell_type": "code",
   "execution_count": 124,
   "id": "7192a65b",
   "metadata": {},
   "outputs": [
    {
     "name": "stdout",
     "output_type": "stream",
     "text": [
      "Fitting 3 folds for each of 27 candidates, totalling 81 fits\n"
     ]
    },
    {
     "data": {
      "text/html": [
       "<style>#sk-container-id-7 {color: black;background-color: white;}#sk-container-id-7 pre{padding: 0;}#sk-container-id-7 div.sk-toggleable {background-color: white;}#sk-container-id-7 label.sk-toggleable__label {cursor: pointer;display: block;width: 100%;margin-bottom: 0;padding: 0.3em;box-sizing: border-box;text-align: center;}#sk-container-id-7 label.sk-toggleable__label-arrow:before {content: \"▸\";float: left;margin-right: 0.25em;color: #696969;}#sk-container-id-7 label.sk-toggleable__label-arrow:hover:before {color: black;}#sk-container-id-7 div.sk-estimator:hover label.sk-toggleable__label-arrow:before {color: black;}#sk-container-id-7 div.sk-toggleable__content {max-height: 0;max-width: 0;overflow: hidden;text-align: left;background-color: #f0f8ff;}#sk-container-id-7 div.sk-toggleable__content pre {margin: 0.2em;color: black;border-radius: 0.25em;background-color: #f0f8ff;}#sk-container-id-7 input.sk-toggleable__control:checked~div.sk-toggleable__content {max-height: 200px;max-width: 100%;overflow: auto;}#sk-container-id-7 input.sk-toggleable__control:checked~label.sk-toggleable__label-arrow:before {content: \"▾\";}#sk-container-id-7 div.sk-estimator input.sk-toggleable__control:checked~label.sk-toggleable__label {background-color: #d4ebff;}#sk-container-id-7 div.sk-label input.sk-toggleable__control:checked~label.sk-toggleable__label {background-color: #d4ebff;}#sk-container-id-7 input.sk-hidden--visually {border: 0;clip: rect(1px 1px 1px 1px);clip: rect(1px, 1px, 1px, 1px);height: 1px;margin: -1px;overflow: hidden;padding: 0;position: absolute;width: 1px;}#sk-container-id-7 div.sk-estimator {font-family: monospace;background-color: #f0f8ff;border: 1px dotted black;border-radius: 0.25em;box-sizing: border-box;margin-bottom: 0.5em;}#sk-container-id-7 div.sk-estimator:hover {background-color: #d4ebff;}#sk-container-id-7 div.sk-parallel-item::after {content: \"\";width: 100%;border-bottom: 1px solid gray;flex-grow: 1;}#sk-container-id-7 div.sk-label:hover label.sk-toggleable__label {background-color: #d4ebff;}#sk-container-id-7 div.sk-serial::before {content: \"\";position: absolute;border-left: 1px solid gray;box-sizing: border-box;top: 0;bottom: 0;left: 50%;z-index: 0;}#sk-container-id-7 div.sk-serial {display: flex;flex-direction: column;align-items: center;background-color: white;padding-right: 0.2em;padding-left: 0.2em;position: relative;}#sk-container-id-7 div.sk-item {position: relative;z-index: 1;}#sk-container-id-7 div.sk-parallel {display: flex;align-items: stretch;justify-content: center;background-color: white;position: relative;}#sk-container-id-7 div.sk-item::before, #sk-container-id-7 div.sk-parallel-item::before {content: \"\";position: absolute;border-left: 1px solid gray;box-sizing: border-box;top: 0;bottom: 0;left: 50%;z-index: -1;}#sk-container-id-7 div.sk-parallel-item {display: flex;flex-direction: column;z-index: 1;position: relative;background-color: white;}#sk-container-id-7 div.sk-parallel-item:first-child::after {align-self: flex-end;width: 50%;}#sk-container-id-7 div.sk-parallel-item:last-child::after {align-self: flex-start;width: 50%;}#sk-container-id-7 div.sk-parallel-item:only-child::after {width: 0;}#sk-container-id-7 div.sk-dashed-wrapped {border: 1px dashed gray;margin: 0 0.4em 0.5em 0.4em;box-sizing: border-box;padding-bottom: 0.4em;background-color: white;}#sk-container-id-7 div.sk-label label {font-family: monospace;font-weight: bold;display: inline-block;line-height: 1.2em;}#sk-container-id-7 div.sk-label-container {text-align: center;}#sk-container-id-7 div.sk-container {/* jupyter's `normalize.less` sets `[hidden] { display: none; }` but bootstrap.min.css set `[hidden] { display: none !important; }` so we also need the `!important` here to be able to override the default hidden behavior on the sphinx rendered scikit-learn.org. See: https://github.com/scikit-learn/scikit-learn/issues/21755 */display: inline-block !important;position: relative;}#sk-container-id-7 div.sk-text-repr-fallback {display: none;}</style><div id=\"sk-container-id-7\" class=\"sk-top-container\"><div class=\"sk-text-repr-fallback\"><pre>GridSearchCV(cv=3, estimator=GradientBoostingClassifier(random_state=10),\n",
       "             n_jobs=-1,\n",
       "             param_grid={&#x27;learning_rate&#x27;: [0.01, 0.1, 0.2],\n",
       "                         &#x27;max_depth&#x27;: [2, 3, 4], &#x27;n_estimators&#x27;: [20, 25, 30]},\n",
       "             scoring=&#x27;accuracy&#x27;, verbose=1)</pre><b>In a Jupyter environment, please rerun this cell to show the HTML representation or trust the notebook. <br />On GitHub, the HTML representation is unable to render, please try loading this page with nbviewer.org.</b></div><div class=\"sk-container\" hidden><div class=\"sk-item sk-dashed-wrapped\"><div class=\"sk-label-container\"><div class=\"sk-label sk-toggleable\"><input class=\"sk-toggleable__control sk-hidden--visually\" id=\"sk-estimator-id-13\" type=\"checkbox\" ><label for=\"sk-estimator-id-13\" class=\"sk-toggleable__label sk-toggleable__label-arrow\">GridSearchCV</label><div class=\"sk-toggleable__content\"><pre>GridSearchCV(cv=3, estimator=GradientBoostingClassifier(random_state=10),\n",
       "             n_jobs=-1,\n",
       "             param_grid={&#x27;learning_rate&#x27;: [0.01, 0.1, 0.2],\n",
       "                         &#x27;max_depth&#x27;: [2, 3, 4], &#x27;n_estimators&#x27;: [20, 25, 30]},\n",
       "             scoring=&#x27;accuracy&#x27;, verbose=1)</pre></div></div></div><div class=\"sk-parallel\"><div class=\"sk-parallel-item\"><div class=\"sk-item\"><div class=\"sk-label-container\"><div class=\"sk-label sk-toggleable\"><input class=\"sk-toggleable__control sk-hidden--visually\" id=\"sk-estimator-id-14\" type=\"checkbox\" ><label for=\"sk-estimator-id-14\" class=\"sk-toggleable__label sk-toggleable__label-arrow\">estimator: GradientBoostingClassifier</label><div class=\"sk-toggleable__content\"><pre>GradientBoostingClassifier(random_state=10)</pre></div></div></div><div class=\"sk-serial\"><div class=\"sk-item\"><div class=\"sk-estimator sk-toggleable\"><input class=\"sk-toggleable__control sk-hidden--visually\" id=\"sk-estimator-id-15\" type=\"checkbox\" ><label for=\"sk-estimator-id-15\" class=\"sk-toggleable__label sk-toggleable__label-arrow\">GradientBoostingClassifier</label><div class=\"sk-toggleable__content\"><pre>GradientBoostingClassifier(random_state=10)</pre></div></div></div></div></div></div></div></div></div></div>"
      ],
      "text/plain": [
       "GridSearchCV(cv=3, estimator=GradientBoostingClassifier(random_state=10),\n",
       "             n_jobs=-1,\n",
       "             param_grid={'learning_rate': [0.01, 0.1, 0.2],\n",
       "                         'max_depth': [2, 3, 4], 'n_estimators': [20, 25, 30]},\n",
       "             scoring='accuracy', verbose=1)"
      ]
     },
     "execution_count": 124,
     "metadata": {},
     "output_type": "execute_result"
    }
   ],
   "source": [
    "grid_search_gbm.fit(X_train,Y_train)"
   ]
  },
  {
   "cell_type": "code",
   "execution_count": 125,
   "id": "5a9f5e69",
   "metadata": {},
   "outputs": [
    {
     "data": {
      "text/plain": [
       "{'learning_rate': 0.2, 'max_depth': 4, 'n_estimators': 30}"
      ]
     },
     "execution_count": 125,
     "metadata": {},
     "output_type": "execute_result"
    }
   ],
   "source": [
    "best_params_gbm = grid_search_gbm.best_params_\n",
    "best_params_gbm"
   ]
  },
  {
   "cell_type": "code",
   "execution_count": 126,
   "id": "7d68de47",
   "metadata": {},
   "outputs": [
    {
     "data": {
      "text/html": [
       "<style>#sk-container-id-8 {color: black;background-color: white;}#sk-container-id-8 pre{padding: 0;}#sk-container-id-8 div.sk-toggleable {background-color: white;}#sk-container-id-8 label.sk-toggleable__label {cursor: pointer;display: block;width: 100%;margin-bottom: 0;padding: 0.3em;box-sizing: border-box;text-align: center;}#sk-container-id-8 label.sk-toggleable__label-arrow:before {content: \"▸\";float: left;margin-right: 0.25em;color: #696969;}#sk-container-id-8 label.sk-toggleable__label-arrow:hover:before {color: black;}#sk-container-id-8 div.sk-estimator:hover label.sk-toggleable__label-arrow:before {color: black;}#sk-container-id-8 div.sk-toggleable__content {max-height: 0;max-width: 0;overflow: hidden;text-align: left;background-color: #f0f8ff;}#sk-container-id-8 div.sk-toggleable__content pre {margin: 0.2em;color: black;border-radius: 0.25em;background-color: #f0f8ff;}#sk-container-id-8 input.sk-toggleable__control:checked~div.sk-toggleable__content {max-height: 200px;max-width: 100%;overflow: auto;}#sk-container-id-8 input.sk-toggleable__control:checked~label.sk-toggleable__label-arrow:before {content: \"▾\";}#sk-container-id-8 div.sk-estimator input.sk-toggleable__control:checked~label.sk-toggleable__label {background-color: #d4ebff;}#sk-container-id-8 div.sk-label input.sk-toggleable__control:checked~label.sk-toggleable__label {background-color: #d4ebff;}#sk-container-id-8 input.sk-hidden--visually {border: 0;clip: rect(1px 1px 1px 1px);clip: rect(1px, 1px, 1px, 1px);height: 1px;margin: -1px;overflow: hidden;padding: 0;position: absolute;width: 1px;}#sk-container-id-8 div.sk-estimator {font-family: monospace;background-color: #f0f8ff;border: 1px dotted black;border-radius: 0.25em;box-sizing: border-box;margin-bottom: 0.5em;}#sk-container-id-8 div.sk-estimator:hover {background-color: #d4ebff;}#sk-container-id-8 div.sk-parallel-item::after {content: \"\";width: 100%;border-bottom: 1px solid gray;flex-grow: 1;}#sk-container-id-8 div.sk-label:hover label.sk-toggleable__label {background-color: #d4ebff;}#sk-container-id-8 div.sk-serial::before {content: \"\";position: absolute;border-left: 1px solid gray;box-sizing: border-box;top: 0;bottom: 0;left: 50%;z-index: 0;}#sk-container-id-8 div.sk-serial {display: flex;flex-direction: column;align-items: center;background-color: white;padding-right: 0.2em;padding-left: 0.2em;position: relative;}#sk-container-id-8 div.sk-item {position: relative;z-index: 1;}#sk-container-id-8 div.sk-parallel {display: flex;align-items: stretch;justify-content: center;background-color: white;position: relative;}#sk-container-id-8 div.sk-item::before, #sk-container-id-8 div.sk-parallel-item::before {content: \"\";position: absolute;border-left: 1px solid gray;box-sizing: border-box;top: 0;bottom: 0;left: 50%;z-index: -1;}#sk-container-id-8 div.sk-parallel-item {display: flex;flex-direction: column;z-index: 1;position: relative;background-color: white;}#sk-container-id-8 div.sk-parallel-item:first-child::after {align-self: flex-end;width: 50%;}#sk-container-id-8 div.sk-parallel-item:last-child::after {align-self: flex-start;width: 50%;}#sk-container-id-8 div.sk-parallel-item:only-child::after {width: 0;}#sk-container-id-8 div.sk-dashed-wrapped {border: 1px dashed gray;margin: 0 0.4em 0.5em 0.4em;box-sizing: border-box;padding-bottom: 0.4em;background-color: white;}#sk-container-id-8 div.sk-label label {font-family: monospace;font-weight: bold;display: inline-block;line-height: 1.2em;}#sk-container-id-8 div.sk-label-container {text-align: center;}#sk-container-id-8 div.sk-container {/* jupyter's `normalize.less` sets `[hidden] { display: none; }` but bootstrap.min.css set `[hidden] { display: none !important; }` so we also need the `!important` here to be able to override the default hidden behavior on the sphinx rendered scikit-learn.org. See: https://github.com/scikit-learn/scikit-learn/issues/21755 */display: inline-block !important;position: relative;}#sk-container-id-8 div.sk-text-repr-fallback {display: none;}</style><div id=\"sk-container-id-8\" class=\"sk-top-container\"><div class=\"sk-text-repr-fallback\"><pre>GradientBoostingClassifier(learning_rate=0.2, max_depth=4, n_estimators=30,\n",
       "                           random_state=10)</pre><b>In a Jupyter environment, please rerun this cell to show the HTML representation or trust the notebook. <br />On GitHub, the HTML representation is unable to render, please try loading this page with nbviewer.org.</b></div><div class=\"sk-container\" hidden><div class=\"sk-item\"><div class=\"sk-estimator sk-toggleable\"><input class=\"sk-toggleable__control sk-hidden--visually\" id=\"sk-estimator-id-16\" type=\"checkbox\" checked><label for=\"sk-estimator-id-16\" class=\"sk-toggleable__label sk-toggleable__label-arrow\">GradientBoostingClassifier</label><div class=\"sk-toggleable__content\"><pre>GradientBoostingClassifier(learning_rate=0.2, max_depth=4, n_estimators=30,\n",
       "                           random_state=10)</pre></div></div></div></div></div>"
      ],
      "text/plain": [
       "GradientBoostingClassifier(learning_rate=0.2, max_depth=4, n_estimators=30,\n",
       "                           random_state=10)"
      ]
     },
     "execution_count": 126,
     "metadata": {},
     "output_type": "execute_result"
    }
   ],
   "source": [
    "best_gbm_model = grid_search_gbm.best_estimator_\n",
    "best_gbm_model"
   ]
  },
  {
   "cell_type": "code",
   "execution_count": 129,
   "id": "706e038c",
   "metadata": {},
   "outputs": [],
   "source": [
    "y_pred_gbm = best_gbm_model.predict(X_test)"
   ]
  },
  {
   "cell_type": "code",
   "execution_count": 130,
   "id": "e2308b77",
   "metadata": {},
   "outputs": [
    {
     "data": {
      "text/plain": [
       "0.9321969696969697"
      ]
     },
     "execution_count": 130,
     "metadata": {},
     "output_type": "execute_result"
    }
   ],
   "source": [
    "Accuracy_gbm = accuracy_score(Y_test, y_pred_rf)\n",
    "Accuracy_gbm"
   ]
  },
  {
   "cell_type": "code",
   "execution_count": 131,
   "id": "59c53e96",
   "metadata": {},
   "outputs": [
    {
     "name": "stdout",
     "output_type": "stream",
     "text": [
      "Training Set Accuracy: 0.9682765151515151\n"
     ]
    }
   ],
   "source": [
    "y_train_pred_gbm = best_gbm_model.predict(X_train)\n",
    "Accuracy_train_gbm = accuracy_score(Y_train, y_train_pred_gbm)\n",
    "print(\"Training Set Accuracy:\", Accuracy_train_gbm)"
   ]
  },
  {
   "cell_type": "code",
   "execution_count": 80,
   "id": "0ce86acd",
   "metadata": {},
   "outputs": [
    {
     "data": {
      "text/plain": [
       "0.9090519543229617"
      ]
     },
     "execution_count": 80,
     "metadata": {},
     "output_type": "execute_result"
    }
   ],
   "source": [
    "#f1_score(Y_test,y_pred_gbm, average='macro')"
   ]
  },
  {
   "cell_type": "markdown",
   "id": "764de040",
   "metadata": {},
   "source": [
    "# ADA Boosting"
   ]
  },
  {
   "cell_type": "code",
   "execution_count": 132,
   "id": "51421991",
   "metadata": {},
   "outputs": [],
   "source": [
    "from sklearn.ensemble import AdaBoostClassifier\n",
    "from sklearn.tree import DecisionTreeClassifier"
   ]
  },
  {
   "cell_type": "code",
   "execution_count": 133,
   "id": "0cb79370",
   "metadata": {},
   "outputs": [],
   "source": [
    "base_estimator = DecisionTreeClassifier()\n",
    "\n",
    "param_grid = {\n",
    "    'base_estimator__max_depth': [1, 2, 3, 4, 5], \n",
    "    'n_estimators': [50, 100, 200],  \n",
    "    'learning_rate': [0.01, 0.1, 1],  \n",
    "}"
   ]
  },
  {
   "cell_type": "code",
   "execution_count": 134,
   "id": "a954a404",
   "metadata": {},
   "outputs": [],
   "source": [
    "ada_model = AdaBoostClassifier(base_estimator=base_estimator, random_state=10,algorithm='SAMME.R')"
   ]
  },
  {
   "cell_type": "code",
   "execution_count": 135,
   "id": "f08182ce",
   "metadata": {},
   "outputs": [],
   "source": [
    "grid_search_ada = GridSearchCV(estimator=ada_model, param_grid=param_grid, cv=5, scoring='accuracy', n_jobs=-1)"
   ]
  },
  {
   "cell_type": "code",
   "execution_count": 136,
   "id": "5172e830",
   "metadata": {},
   "outputs": [
    {
     "name": "stderr",
     "output_type": "stream",
     "text": [
      "E:\\applications\\Anaconda\\files\\lib\\site-packages\\sklearn\\ensemble\\_base.py:166: FutureWarning: `base_estimator` was renamed to `estimator` in version 1.2 and will be removed in 1.4.\n",
      "  warnings.warn(\n"
     ]
    },
    {
     "data": {
      "text/html": [
       "<style>#sk-container-id-9 {color: black;background-color: white;}#sk-container-id-9 pre{padding: 0;}#sk-container-id-9 div.sk-toggleable {background-color: white;}#sk-container-id-9 label.sk-toggleable__label {cursor: pointer;display: block;width: 100%;margin-bottom: 0;padding: 0.3em;box-sizing: border-box;text-align: center;}#sk-container-id-9 label.sk-toggleable__label-arrow:before {content: \"▸\";float: left;margin-right: 0.25em;color: #696969;}#sk-container-id-9 label.sk-toggleable__label-arrow:hover:before {color: black;}#sk-container-id-9 div.sk-estimator:hover label.sk-toggleable__label-arrow:before {color: black;}#sk-container-id-9 div.sk-toggleable__content {max-height: 0;max-width: 0;overflow: hidden;text-align: left;background-color: #f0f8ff;}#sk-container-id-9 div.sk-toggleable__content pre {margin: 0.2em;color: black;border-radius: 0.25em;background-color: #f0f8ff;}#sk-container-id-9 input.sk-toggleable__control:checked~div.sk-toggleable__content {max-height: 200px;max-width: 100%;overflow: auto;}#sk-container-id-9 input.sk-toggleable__control:checked~label.sk-toggleable__label-arrow:before {content: \"▾\";}#sk-container-id-9 div.sk-estimator input.sk-toggleable__control:checked~label.sk-toggleable__label {background-color: #d4ebff;}#sk-container-id-9 div.sk-label input.sk-toggleable__control:checked~label.sk-toggleable__label {background-color: #d4ebff;}#sk-container-id-9 input.sk-hidden--visually {border: 0;clip: rect(1px 1px 1px 1px);clip: rect(1px, 1px, 1px, 1px);height: 1px;margin: -1px;overflow: hidden;padding: 0;position: absolute;width: 1px;}#sk-container-id-9 div.sk-estimator {font-family: monospace;background-color: #f0f8ff;border: 1px dotted black;border-radius: 0.25em;box-sizing: border-box;margin-bottom: 0.5em;}#sk-container-id-9 div.sk-estimator:hover {background-color: #d4ebff;}#sk-container-id-9 div.sk-parallel-item::after {content: \"\";width: 100%;border-bottom: 1px solid gray;flex-grow: 1;}#sk-container-id-9 div.sk-label:hover label.sk-toggleable__label {background-color: #d4ebff;}#sk-container-id-9 div.sk-serial::before {content: \"\";position: absolute;border-left: 1px solid gray;box-sizing: border-box;top: 0;bottom: 0;left: 50%;z-index: 0;}#sk-container-id-9 div.sk-serial {display: flex;flex-direction: column;align-items: center;background-color: white;padding-right: 0.2em;padding-left: 0.2em;position: relative;}#sk-container-id-9 div.sk-item {position: relative;z-index: 1;}#sk-container-id-9 div.sk-parallel {display: flex;align-items: stretch;justify-content: center;background-color: white;position: relative;}#sk-container-id-9 div.sk-item::before, #sk-container-id-9 div.sk-parallel-item::before {content: \"\";position: absolute;border-left: 1px solid gray;box-sizing: border-box;top: 0;bottom: 0;left: 50%;z-index: -1;}#sk-container-id-9 div.sk-parallel-item {display: flex;flex-direction: column;z-index: 1;position: relative;background-color: white;}#sk-container-id-9 div.sk-parallel-item:first-child::after {align-self: flex-end;width: 50%;}#sk-container-id-9 div.sk-parallel-item:last-child::after {align-self: flex-start;width: 50%;}#sk-container-id-9 div.sk-parallel-item:only-child::after {width: 0;}#sk-container-id-9 div.sk-dashed-wrapped {border: 1px dashed gray;margin: 0 0.4em 0.5em 0.4em;box-sizing: border-box;padding-bottom: 0.4em;background-color: white;}#sk-container-id-9 div.sk-label label {font-family: monospace;font-weight: bold;display: inline-block;line-height: 1.2em;}#sk-container-id-9 div.sk-label-container {text-align: center;}#sk-container-id-9 div.sk-container {/* jupyter's `normalize.less` sets `[hidden] { display: none; }` but bootstrap.min.css set `[hidden] { display: none !important; }` so we also need the `!important` here to be able to override the default hidden behavior on the sphinx rendered scikit-learn.org. See: https://github.com/scikit-learn/scikit-learn/issues/21755 */display: inline-block !important;position: relative;}#sk-container-id-9 div.sk-text-repr-fallback {display: none;}</style><div id=\"sk-container-id-9\" class=\"sk-top-container\"><div class=\"sk-text-repr-fallback\"><pre>GridSearchCV(cv=5,\n",
       "             estimator=AdaBoostClassifier(base_estimator=DecisionTreeClassifier(),\n",
       "                                          random_state=10),\n",
       "             n_jobs=-1,\n",
       "             param_grid={&#x27;base_estimator__max_depth&#x27;: [1, 2, 3, 4, 5],\n",
       "                         &#x27;learning_rate&#x27;: [0.01, 0.1, 1],\n",
       "                         &#x27;n_estimators&#x27;: [50, 100, 200]},\n",
       "             scoring=&#x27;accuracy&#x27;)</pre><b>In a Jupyter environment, please rerun this cell to show the HTML representation or trust the notebook. <br />On GitHub, the HTML representation is unable to render, please try loading this page with nbviewer.org.</b></div><div class=\"sk-container\" hidden><div class=\"sk-item sk-dashed-wrapped\"><div class=\"sk-label-container\"><div class=\"sk-label sk-toggleable\"><input class=\"sk-toggleable__control sk-hidden--visually\" id=\"sk-estimator-id-17\" type=\"checkbox\" ><label for=\"sk-estimator-id-17\" class=\"sk-toggleable__label sk-toggleable__label-arrow\">GridSearchCV</label><div class=\"sk-toggleable__content\"><pre>GridSearchCV(cv=5,\n",
       "             estimator=AdaBoostClassifier(base_estimator=DecisionTreeClassifier(),\n",
       "                                          random_state=10),\n",
       "             n_jobs=-1,\n",
       "             param_grid={&#x27;base_estimator__max_depth&#x27;: [1, 2, 3, 4, 5],\n",
       "                         &#x27;learning_rate&#x27;: [0.01, 0.1, 1],\n",
       "                         &#x27;n_estimators&#x27;: [50, 100, 200]},\n",
       "             scoring=&#x27;accuracy&#x27;)</pre></div></div></div><div class=\"sk-parallel\"><div class=\"sk-parallel-item\"><div class=\"sk-item\"><div class=\"sk-label-container\"><div class=\"sk-label sk-toggleable\"><input class=\"sk-toggleable__control sk-hidden--visually\" id=\"sk-estimator-id-18\" type=\"checkbox\" ><label for=\"sk-estimator-id-18\" class=\"sk-toggleable__label sk-toggleable__label-arrow\">estimator: AdaBoostClassifier</label><div class=\"sk-toggleable__content\"><pre>AdaBoostClassifier(base_estimator=DecisionTreeClassifier(), random_state=10)</pre></div></div></div><div class=\"sk-serial\"><div class=\"sk-item sk-dashed-wrapped\"><div class=\"sk-parallel\"><div class=\"sk-parallel-item\"><div class=\"sk-item\"><div class=\"sk-label-container\"><div class=\"sk-label sk-toggleable\"><input class=\"sk-toggleable__control sk-hidden--visually\" id=\"sk-estimator-id-19\" type=\"checkbox\" ><label for=\"sk-estimator-id-19\" class=\"sk-toggleable__label sk-toggleable__label-arrow\">base_estimator: DecisionTreeClassifier</label><div class=\"sk-toggleable__content\"><pre>DecisionTreeClassifier()</pre></div></div></div><div class=\"sk-serial\"><div class=\"sk-item\"><div class=\"sk-estimator sk-toggleable\"><input class=\"sk-toggleable__control sk-hidden--visually\" id=\"sk-estimator-id-20\" type=\"checkbox\" ><label for=\"sk-estimator-id-20\" class=\"sk-toggleable__label sk-toggleable__label-arrow\">DecisionTreeClassifier</label><div class=\"sk-toggleable__content\"><pre>DecisionTreeClassifier()</pre></div></div></div></div></div></div></div></div></div></div></div></div></div></div></div>"
      ],
      "text/plain": [
       "GridSearchCV(cv=5,\n",
       "             estimator=AdaBoostClassifier(base_estimator=DecisionTreeClassifier(),\n",
       "                                          random_state=10),\n",
       "             n_jobs=-1,\n",
       "             param_grid={'base_estimator__max_depth': [1, 2, 3, 4, 5],\n",
       "                         'learning_rate': [0.01, 0.1, 1],\n",
       "                         'n_estimators': [50, 100, 200]},\n",
       "             scoring='accuracy')"
      ]
     },
     "execution_count": 136,
     "metadata": {},
     "output_type": "execute_result"
    }
   ],
   "source": [
    "grid_search_ada.fit(X_train, Y_train)"
   ]
  },
  {
   "cell_type": "code",
   "execution_count": 141,
   "id": "78bae49d",
   "metadata": {},
   "outputs": [
    {
     "name": "stdout",
     "output_type": "stream",
     "text": [
      "Best Parameters: {'base_estimator__max_depth': 3, 'learning_rate': 0.1, 'n_estimators': 100}\n"
     ]
    }
   ],
   "source": [
    "best_params_ada = grid_search_ada.best_params_\n",
    "print(f\"Best Parameters: {best_params_ada}\")"
   ]
  },
  {
   "cell_type": "code",
   "execution_count": 137,
   "id": "6c735da2",
   "metadata": {},
   "outputs": [
    {
     "data": {
      "text/html": [
       "<style>#sk-container-id-10 {color: black;background-color: white;}#sk-container-id-10 pre{padding: 0;}#sk-container-id-10 div.sk-toggleable {background-color: white;}#sk-container-id-10 label.sk-toggleable__label {cursor: pointer;display: block;width: 100%;margin-bottom: 0;padding: 0.3em;box-sizing: border-box;text-align: center;}#sk-container-id-10 label.sk-toggleable__label-arrow:before {content: \"▸\";float: left;margin-right: 0.25em;color: #696969;}#sk-container-id-10 label.sk-toggleable__label-arrow:hover:before {color: black;}#sk-container-id-10 div.sk-estimator:hover label.sk-toggleable__label-arrow:before {color: black;}#sk-container-id-10 div.sk-toggleable__content {max-height: 0;max-width: 0;overflow: hidden;text-align: left;background-color: #f0f8ff;}#sk-container-id-10 div.sk-toggleable__content pre {margin: 0.2em;color: black;border-radius: 0.25em;background-color: #f0f8ff;}#sk-container-id-10 input.sk-toggleable__control:checked~div.sk-toggleable__content {max-height: 200px;max-width: 100%;overflow: auto;}#sk-container-id-10 input.sk-toggleable__control:checked~label.sk-toggleable__label-arrow:before {content: \"▾\";}#sk-container-id-10 div.sk-estimator input.sk-toggleable__control:checked~label.sk-toggleable__label {background-color: #d4ebff;}#sk-container-id-10 div.sk-label input.sk-toggleable__control:checked~label.sk-toggleable__label {background-color: #d4ebff;}#sk-container-id-10 input.sk-hidden--visually {border: 0;clip: rect(1px 1px 1px 1px);clip: rect(1px, 1px, 1px, 1px);height: 1px;margin: -1px;overflow: hidden;padding: 0;position: absolute;width: 1px;}#sk-container-id-10 div.sk-estimator {font-family: monospace;background-color: #f0f8ff;border: 1px dotted black;border-radius: 0.25em;box-sizing: border-box;margin-bottom: 0.5em;}#sk-container-id-10 div.sk-estimator:hover {background-color: #d4ebff;}#sk-container-id-10 div.sk-parallel-item::after {content: \"\";width: 100%;border-bottom: 1px solid gray;flex-grow: 1;}#sk-container-id-10 div.sk-label:hover label.sk-toggleable__label {background-color: #d4ebff;}#sk-container-id-10 div.sk-serial::before {content: \"\";position: absolute;border-left: 1px solid gray;box-sizing: border-box;top: 0;bottom: 0;left: 50%;z-index: 0;}#sk-container-id-10 div.sk-serial {display: flex;flex-direction: column;align-items: center;background-color: white;padding-right: 0.2em;padding-left: 0.2em;position: relative;}#sk-container-id-10 div.sk-item {position: relative;z-index: 1;}#sk-container-id-10 div.sk-parallel {display: flex;align-items: stretch;justify-content: center;background-color: white;position: relative;}#sk-container-id-10 div.sk-item::before, #sk-container-id-10 div.sk-parallel-item::before {content: \"\";position: absolute;border-left: 1px solid gray;box-sizing: border-box;top: 0;bottom: 0;left: 50%;z-index: -1;}#sk-container-id-10 div.sk-parallel-item {display: flex;flex-direction: column;z-index: 1;position: relative;background-color: white;}#sk-container-id-10 div.sk-parallel-item:first-child::after {align-self: flex-end;width: 50%;}#sk-container-id-10 div.sk-parallel-item:last-child::after {align-self: flex-start;width: 50%;}#sk-container-id-10 div.sk-parallel-item:only-child::after {width: 0;}#sk-container-id-10 div.sk-dashed-wrapped {border: 1px dashed gray;margin: 0 0.4em 0.5em 0.4em;box-sizing: border-box;padding-bottom: 0.4em;background-color: white;}#sk-container-id-10 div.sk-label label {font-family: monospace;font-weight: bold;display: inline-block;line-height: 1.2em;}#sk-container-id-10 div.sk-label-container {text-align: center;}#sk-container-id-10 div.sk-container {/* jupyter's `normalize.less` sets `[hidden] { display: none; }` but bootstrap.min.css set `[hidden] { display: none !important; }` so we also need the `!important` here to be able to override the default hidden behavior on the sphinx rendered scikit-learn.org. See: https://github.com/scikit-learn/scikit-learn/issues/21755 */display: inline-block !important;position: relative;}#sk-container-id-10 div.sk-text-repr-fallback {display: none;}</style><div id=\"sk-container-id-10\" class=\"sk-top-container\"><div class=\"sk-text-repr-fallback\"><pre>AdaBoostClassifier(base_estimator=DecisionTreeClassifier(max_depth=3),\n",
       "                   learning_rate=0.1, n_estimators=100, random_state=10)</pre><b>In a Jupyter environment, please rerun this cell to show the HTML representation or trust the notebook. <br />On GitHub, the HTML representation is unable to render, please try loading this page with nbviewer.org.</b></div><div class=\"sk-container\" hidden><div class=\"sk-item sk-dashed-wrapped\"><div class=\"sk-label-container\"><div class=\"sk-label sk-toggleable\"><input class=\"sk-toggleable__control sk-hidden--visually\" id=\"sk-estimator-id-21\" type=\"checkbox\" ><label for=\"sk-estimator-id-21\" class=\"sk-toggleable__label sk-toggleable__label-arrow\">AdaBoostClassifier</label><div class=\"sk-toggleable__content\"><pre>AdaBoostClassifier(base_estimator=DecisionTreeClassifier(max_depth=3),\n",
       "                   learning_rate=0.1, n_estimators=100, random_state=10)</pre></div></div></div><div class=\"sk-parallel\"><div class=\"sk-parallel-item\"><div class=\"sk-item\"><div class=\"sk-label-container\"><div class=\"sk-label sk-toggleable\"><input class=\"sk-toggleable__control sk-hidden--visually\" id=\"sk-estimator-id-22\" type=\"checkbox\" ><label for=\"sk-estimator-id-22\" class=\"sk-toggleable__label sk-toggleable__label-arrow\">base_estimator: DecisionTreeClassifier</label><div class=\"sk-toggleable__content\"><pre>DecisionTreeClassifier(max_depth=3)</pre></div></div></div><div class=\"sk-serial\"><div class=\"sk-item\"><div class=\"sk-estimator sk-toggleable\"><input class=\"sk-toggleable__control sk-hidden--visually\" id=\"sk-estimator-id-23\" type=\"checkbox\" ><label for=\"sk-estimator-id-23\" class=\"sk-toggleable__label sk-toggleable__label-arrow\">DecisionTreeClassifier</label><div class=\"sk-toggleable__content\"><pre>DecisionTreeClassifier(max_depth=3)</pre></div></div></div></div></div></div></div></div></div></div>"
      ],
      "text/plain": [
       "AdaBoostClassifier(base_estimator=DecisionTreeClassifier(max_depth=3),\n",
       "                   learning_rate=0.1, n_estimators=100, random_state=10)"
      ]
     },
     "execution_count": 137,
     "metadata": {},
     "output_type": "execute_result"
    }
   ],
   "source": [
    "best_ada_model = grid_search_ada.best_estimator_\n",
    "best_ada_model"
   ]
  },
  {
   "cell_type": "code",
   "execution_count": 138,
   "id": "ef2d87bc",
   "metadata": {},
   "outputs": [],
   "source": [
    "y_pred_ada = best_ada_model.predict(X_test)"
   ]
  },
  {
   "cell_type": "code",
   "execution_count": 139,
   "id": "c843a590",
   "metadata": {},
   "outputs": [
    {
     "data": {
      "text/plain": [
       "0.9378787878787879"
      ]
     },
     "execution_count": 139,
     "metadata": {},
     "output_type": "execute_result"
    }
   ],
   "source": [
    "Accuracy_ada = accuracy_score(Y_test, y_pred_ada)\n",
    "Accuracy_ada"
   ]
  },
  {
   "cell_type": "code",
   "execution_count": 142,
   "id": "b21e1375",
   "metadata": {},
   "outputs": [],
   "source": [
    "#f1_score(Y_test,y_pred_ada, average='macro')"
   ]
  },
  {
   "cell_type": "code",
   "execution_count": 140,
   "id": "54f8bdc4",
   "metadata": {},
   "outputs": [
    {
     "name": "stdout",
     "output_type": "stream",
     "text": [
      "Training Set Accuracy: 0.9636363636363636\n"
     ]
    }
   ],
   "source": [
    "y_train_pred_ada = best_ada_model.predict(X_train)\n",
    "Accuracy_train_ada = accuracy_score(Y_train, y_train_pred_ada)\n",
    "print(\"Training Set Accuracy:\", Accuracy_train_ada)"
   ]
  },
  {
   "cell_type": "markdown",
   "id": "66bff2ab",
   "metadata": {},
   "source": [
    "# SVM "
   ]
  },
  {
   "cell_type": "code",
   "execution_count": 143,
   "id": "04158bfd",
   "metadata": {},
   "outputs": [],
   "source": [
    "from sklearn.svm import LinearSVC\n",
    "svm_linearK_model = LinearSVC(penalty='l2',multi_class='ovr',random_state=10,loss='hinge')"
   ]
  },
  {
   "cell_type": "code",
   "execution_count": 144,
   "id": "bfc0dc89",
   "metadata": {},
   "outputs": [],
   "source": [
    "param_grid_svm_linearK = {'C': [2,2.5,3]} "
   ]
  },
  {
   "cell_type": "code",
   "execution_count": 145,
   "id": "43390084",
   "metadata": {},
   "outputs": [],
   "source": [
    "grid_search_svm_linearK = GridSearchCV(estimator=svm_linearK_model, param_grid=param_grid_svm_linearK, scoring='accuracy', cv=5, n_jobs=-1)"
   ]
  },
  {
   "cell_type": "code",
   "execution_count": 146,
   "id": "ac9853a2",
   "metadata": {
    "scrolled": true
   },
   "outputs": [
    {
     "name": "stderr",
     "output_type": "stream",
     "text": [
      "E:\\applications\\Anaconda\\files\\lib\\site-packages\\sklearn\\svm\\_base.py:1244: ConvergenceWarning: Liblinear failed to converge, increase the number of iterations.\n",
      "  warnings.warn(\n"
     ]
    },
    {
     "data": {
      "text/html": [
       "<style>#sk-container-id-11 {color: black;background-color: white;}#sk-container-id-11 pre{padding: 0;}#sk-container-id-11 div.sk-toggleable {background-color: white;}#sk-container-id-11 label.sk-toggleable__label {cursor: pointer;display: block;width: 100%;margin-bottom: 0;padding: 0.3em;box-sizing: border-box;text-align: center;}#sk-container-id-11 label.sk-toggleable__label-arrow:before {content: \"▸\";float: left;margin-right: 0.25em;color: #696969;}#sk-container-id-11 label.sk-toggleable__label-arrow:hover:before {color: black;}#sk-container-id-11 div.sk-estimator:hover label.sk-toggleable__label-arrow:before {color: black;}#sk-container-id-11 div.sk-toggleable__content {max-height: 0;max-width: 0;overflow: hidden;text-align: left;background-color: #f0f8ff;}#sk-container-id-11 div.sk-toggleable__content pre {margin: 0.2em;color: black;border-radius: 0.25em;background-color: #f0f8ff;}#sk-container-id-11 input.sk-toggleable__control:checked~div.sk-toggleable__content {max-height: 200px;max-width: 100%;overflow: auto;}#sk-container-id-11 input.sk-toggleable__control:checked~label.sk-toggleable__label-arrow:before {content: \"▾\";}#sk-container-id-11 div.sk-estimator input.sk-toggleable__control:checked~label.sk-toggleable__label {background-color: #d4ebff;}#sk-container-id-11 div.sk-label input.sk-toggleable__control:checked~label.sk-toggleable__label {background-color: #d4ebff;}#sk-container-id-11 input.sk-hidden--visually {border: 0;clip: rect(1px 1px 1px 1px);clip: rect(1px, 1px, 1px, 1px);height: 1px;margin: -1px;overflow: hidden;padding: 0;position: absolute;width: 1px;}#sk-container-id-11 div.sk-estimator {font-family: monospace;background-color: #f0f8ff;border: 1px dotted black;border-radius: 0.25em;box-sizing: border-box;margin-bottom: 0.5em;}#sk-container-id-11 div.sk-estimator:hover {background-color: #d4ebff;}#sk-container-id-11 div.sk-parallel-item::after {content: \"\";width: 100%;border-bottom: 1px solid gray;flex-grow: 1;}#sk-container-id-11 div.sk-label:hover label.sk-toggleable__label {background-color: #d4ebff;}#sk-container-id-11 div.sk-serial::before {content: \"\";position: absolute;border-left: 1px solid gray;box-sizing: border-box;top: 0;bottom: 0;left: 50%;z-index: 0;}#sk-container-id-11 div.sk-serial {display: flex;flex-direction: column;align-items: center;background-color: white;padding-right: 0.2em;padding-left: 0.2em;position: relative;}#sk-container-id-11 div.sk-item {position: relative;z-index: 1;}#sk-container-id-11 div.sk-parallel {display: flex;align-items: stretch;justify-content: center;background-color: white;position: relative;}#sk-container-id-11 div.sk-item::before, #sk-container-id-11 div.sk-parallel-item::before {content: \"\";position: absolute;border-left: 1px solid gray;box-sizing: border-box;top: 0;bottom: 0;left: 50%;z-index: -1;}#sk-container-id-11 div.sk-parallel-item {display: flex;flex-direction: column;z-index: 1;position: relative;background-color: white;}#sk-container-id-11 div.sk-parallel-item:first-child::after {align-self: flex-end;width: 50%;}#sk-container-id-11 div.sk-parallel-item:last-child::after {align-self: flex-start;width: 50%;}#sk-container-id-11 div.sk-parallel-item:only-child::after {width: 0;}#sk-container-id-11 div.sk-dashed-wrapped {border: 1px dashed gray;margin: 0 0.4em 0.5em 0.4em;box-sizing: border-box;padding-bottom: 0.4em;background-color: white;}#sk-container-id-11 div.sk-label label {font-family: monospace;font-weight: bold;display: inline-block;line-height: 1.2em;}#sk-container-id-11 div.sk-label-container {text-align: center;}#sk-container-id-11 div.sk-container {/* jupyter's `normalize.less` sets `[hidden] { display: none; }` but bootstrap.min.css set `[hidden] { display: none !important; }` so we also need the `!important` here to be able to override the default hidden behavior on the sphinx rendered scikit-learn.org. See: https://github.com/scikit-learn/scikit-learn/issues/21755 */display: inline-block !important;position: relative;}#sk-container-id-11 div.sk-text-repr-fallback {display: none;}</style><div id=\"sk-container-id-11\" class=\"sk-top-container\"><div class=\"sk-text-repr-fallback\"><pre>GridSearchCV(cv=5, estimator=LinearSVC(loss=&#x27;hinge&#x27;, random_state=10),\n",
       "             n_jobs=-1, param_grid={&#x27;C&#x27;: [2, 2.5, 3]}, scoring=&#x27;accuracy&#x27;)</pre><b>In a Jupyter environment, please rerun this cell to show the HTML representation or trust the notebook. <br />On GitHub, the HTML representation is unable to render, please try loading this page with nbviewer.org.</b></div><div class=\"sk-container\" hidden><div class=\"sk-item sk-dashed-wrapped\"><div class=\"sk-label-container\"><div class=\"sk-label sk-toggleable\"><input class=\"sk-toggleable__control sk-hidden--visually\" id=\"sk-estimator-id-24\" type=\"checkbox\" ><label for=\"sk-estimator-id-24\" class=\"sk-toggleable__label sk-toggleable__label-arrow\">GridSearchCV</label><div class=\"sk-toggleable__content\"><pre>GridSearchCV(cv=5, estimator=LinearSVC(loss=&#x27;hinge&#x27;, random_state=10),\n",
       "             n_jobs=-1, param_grid={&#x27;C&#x27;: [2, 2.5, 3]}, scoring=&#x27;accuracy&#x27;)</pre></div></div></div><div class=\"sk-parallel\"><div class=\"sk-parallel-item\"><div class=\"sk-item\"><div class=\"sk-label-container\"><div class=\"sk-label sk-toggleable\"><input class=\"sk-toggleable__control sk-hidden--visually\" id=\"sk-estimator-id-25\" type=\"checkbox\" ><label for=\"sk-estimator-id-25\" class=\"sk-toggleable__label sk-toggleable__label-arrow\">estimator: LinearSVC</label><div class=\"sk-toggleable__content\"><pre>LinearSVC(loss=&#x27;hinge&#x27;, random_state=10)</pre></div></div></div><div class=\"sk-serial\"><div class=\"sk-item\"><div class=\"sk-estimator sk-toggleable\"><input class=\"sk-toggleable__control sk-hidden--visually\" id=\"sk-estimator-id-26\" type=\"checkbox\" ><label for=\"sk-estimator-id-26\" class=\"sk-toggleable__label sk-toggleable__label-arrow\">LinearSVC</label><div class=\"sk-toggleable__content\"><pre>LinearSVC(loss=&#x27;hinge&#x27;, random_state=10)</pre></div></div></div></div></div></div></div></div></div></div>"
      ],
      "text/plain": [
       "GridSearchCV(cv=5, estimator=LinearSVC(loss='hinge', random_state=10),\n",
       "             n_jobs=-1, param_grid={'C': [2, 2.5, 3]}, scoring='accuracy')"
      ]
     },
     "execution_count": 146,
     "metadata": {},
     "output_type": "execute_result"
    }
   ],
   "source": [
    "grid_search_svm_linearK.fit(Xs_train,Ys_train)"
   ]
  },
  {
   "cell_type": "code",
   "execution_count": 148,
   "id": "cf47e5c4",
   "metadata": {},
   "outputs": [
    {
     "data": {
      "text/plain": [
       "{'C': 2.5}"
      ]
     },
     "execution_count": 148,
     "metadata": {},
     "output_type": "execute_result"
    }
   ],
   "source": [
    "best_svm_linearK_params = grid_search_svm_linearK.best_params_\n",
    "best_svm_linearK_params"
   ]
  },
  {
   "cell_type": "code",
   "execution_count": 149,
   "id": "3565e726",
   "metadata": {},
   "outputs": [
    {
     "data": {
      "text/html": [
       "<style>#sk-container-id-12 {color: black;background-color: white;}#sk-container-id-12 pre{padding: 0;}#sk-container-id-12 div.sk-toggleable {background-color: white;}#sk-container-id-12 label.sk-toggleable__label {cursor: pointer;display: block;width: 100%;margin-bottom: 0;padding: 0.3em;box-sizing: border-box;text-align: center;}#sk-container-id-12 label.sk-toggleable__label-arrow:before {content: \"▸\";float: left;margin-right: 0.25em;color: #696969;}#sk-container-id-12 label.sk-toggleable__label-arrow:hover:before {color: black;}#sk-container-id-12 div.sk-estimator:hover label.sk-toggleable__label-arrow:before {color: black;}#sk-container-id-12 div.sk-toggleable__content {max-height: 0;max-width: 0;overflow: hidden;text-align: left;background-color: #f0f8ff;}#sk-container-id-12 div.sk-toggleable__content pre {margin: 0.2em;color: black;border-radius: 0.25em;background-color: #f0f8ff;}#sk-container-id-12 input.sk-toggleable__control:checked~div.sk-toggleable__content {max-height: 200px;max-width: 100%;overflow: auto;}#sk-container-id-12 input.sk-toggleable__control:checked~label.sk-toggleable__label-arrow:before {content: \"▾\";}#sk-container-id-12 div.sk-estimator input.sk-toggleable__control:checked~label.sk-toggleable__label {background-color: #d4ebff;}#sk-container-id-12 div.sk-label input.sk-toggleable__control:checked~label.sk-toggleable__label {background-color: #d4ebff;}#sk-container-id-12 input.sk-hidden--visually {border: 0;clip: rect(1px 1px 1px 1px);clip: rect(1px, 1px, 1px, 1px);height: 1px;margin: -1px;overflow: hidden;padding: 0;position: absolute;width: 1px;}#sk-container-id-12 div.sk-estimator {font-family: monospace;background-color: #f0f8ff;border: 1px dotted black;border-radius: 0.25em;box-sizing: border-box;margin-bottom: 0.5em;}#sk-container-id-12 div.sk-estimator:hover {background-color: #d4ebff;}#sk-container-id-12 div.sk-parallel-item::after {content: \"\";width: 100%;border-bottom: 1px solid gray;flex-grow: 1;}#sk-container-id-12 div.sk-label:hover label.sk-toggleable__label {background-color: #d4ebff;}#sk-container-id-12 div.sk-serial::before {content: \"\";position: absolute;border-left: 1px solid gray;box-sizing: border-box;top: 0;bottom: 0;left: 50%;z-index: 0;}#sk-container-id-12 div.sk-serial {display: flex;flex-direction: column;align-items: center;background-color: white;padding-right: 0.2em;padding-left: 0.2em;position: relative;}#sk-container-id-12 div.sk-item {position: relative;z-index: 1;}#sk-container-id-12 div.sk-parallel {display: flex;align-items: stretch;justify-content: center;background-color: white;position: relative;}#sk-container-id-12 div.sk-item::before, #sk-container-id-12 div.sk-parallel-item::before {content: \"\";position: absolute;border-left: 1px solid gray;box-sizing: border-box;top: 0;bottom: 0;left: 50%;z-index: -1;}#sk-container-id-12 div.sk-parallel-item {display: flex;flex-direction: column;z-index: 1;position: relative;background-color: white;}#sk-container-id-12 div.sk-parallel-item:first-child::after {align-self: flex-end;width: 50%;}#sk-container-id-12 div.sk-parallel-item:last-child::after {align-self: flex-start;width: 50%;}#sk-container-id-12 div.sk-parallel-item:only-child::after {width: 0;}#sk-container-id-12 div.sk-dashed-wrapped {border: 1px dashed gray;margin: 0 0.4em 0.5em 0.4em;box-sizing: border-box;padding-bottom: 0.4em;background-color: white;}#sk-container-id-12 div.sk-label label {font-family: monospace;font-weight: bold;display: inline-block;line-height: 1.2em;}#sk-container-id-12 div.sk-label-container {text-align: center;}#sk-container-id-12 div.sk-container {/* jupyter's `normalize.less` sets `[hidden] { display: none; }` but bootstrap.min.css set `[hidden] { display: none !important; }` so we also need the `!important` here to be able to override the default hidden behavior on the sphinx rendered scikit-learn.org. See: https://github.com/scikit-learn/scikit-learn/issues/21755 */display: inline-block !important;position: relative;}#sk-container-id-12 div.sk-text-repr-fallback {display: none;}</style><div id=\"sk-container-id-12\" class=\"sk-top-container\"><div class=\"sk-text-repr-fallback\"><pre>LinearSVC(C=2.5, loss=&#x27;hinge&#x27;, random_state=10)</pre><b>In a Jupyter environment, please rerun this cell to show the HTML representation or trust the notebook. <br />On GitHub, the HTML representation is unable to render, please try loading this page with nbviewer.org.</b></div><div class=\"sk-container\" hidden><div class=\"sk-item\"><div class=\"sk-estimator sk-toggleable\"><input class=\"sk-toggleable__control sk-hidden--visually\" id=\"sk-estimator-id-27\" type=\"checkbox\" checked><label for=\"sk-estimator-id-27\" class=\"sk-toggleable__label sk-toggleable__label-arrow\">LinearSVC</label><div class=\"sk-toggleable__content\"><pre>LinearSVC(C=2.5, loss=&#x27;hinge&#x27;, random_state=10)</pre></div></div></div></div></div>"
      ],
      "text/plain": [
       "LinearSVC(C=2.5, loss='hinge', random_state=10)"
      ]
     },
     "execution_count": 149,
     "metadata": {},
     "output_type": "execute_result"
    }
   ],
   "source": [
    "best_svm_linearK_model = grid_search_svm_linearK.best_estimator_\n",
    "best_svm_linearK_model"
   ]
  },
  {
   "cell_type": "code",
   "execution_count": 150,
   "id": "0c9f8c32",
   "metadata": {},
   "outputs": [],
   "source": [
    "y_pred_svm_linearK_train = best_svm_linearK_model.predict(Xs_train)"
   ]
  },
  {
   "cell_type": "code",
   "execution_count": 151,
   "id": "86f0bfa3",
   "metadata": {},
   "outputs": [
    {
     "data": {
      "text/plain": [
       "0.9253787878787879"
      ]
     },
     "execution_count": 151,
     "metadata": {},
     "output_type": "execute_result"
    }
   ],
   "source": [
    "Accuracy_svm_linearK_train = accuracy_score(Ys_train, y_pred_svm_linearK_train)\n",
    "Accuracy_svm_linearK_train"
   ]
  },
  {
   "cell_type": "code",
   "execution_count": 152,
   "id": "0fb94608",
   "metadata": {},
   "outputs": [],
   "source": [
    "y_pred_svm_linearK = best_svm_linearK_model.predict(Xs_test)"
   ]
  },
  {
   "cell_type": "code",
   "execution_count": 153,
   "id": "ef941d38",
   "metadata": {
    "scrolled": true
   },
   "outputs": [
    {
     "data": {
      "text/plain": [
       "0.9200757575757575"
      ]
     },
     "execution_count": 153,
     "metadata": {},
     "output_type": "execute_result"
    }
   ],
   "source": [
    "Accuracy_svm_linearK= accuracy_score(Ys_test, y_pred_svm_linearK)\n",
    "Accuracy_svm_linearK"
   ]
  },
  {
   "cell_type": "markdown",
   "id": "3646be9e",
   "metadata": {},
   "source": [
    "###"
   ]
  },
  {
   "cell_type": "code",
   "execution_count": 154,
   "id": "fa1d2f9c",
   "metadata": {},
   "outputs": [],
   "source": [
    "from sklearn.svm import SVC"
   ]
  },
  {
   "cell_type": "code",
   "execution_count": 155,
   "id": "71803396",
   "metadata": {},
   "outputs": [],
   "source": [
    "param_grid_svm_K = {'C': [1,1.5,2,2.5,3,3.5],'gamma':['scale','auto',0.01,0.1],'decision_function_shape':['ovo','ovr']} "
   ]
  },
  {
   "cell_type": "code",
   "execution_count": 156,
   "id": "278ed1a9",
   "metadata": {},
   "outputs": [],
   "source": [
    "svm_polyK_model = SVC(random_state=10,probability=True,kernel='poly')"
   ]
  },
  {
   "cell_type": "code",
   "execution_count": 157,
   "id": "3e5d5f5a",
   "metadata": {},
   "outputs": [],
   "source": [
    "grid_search_svm_polyK = GridSearchCV(estimator=svm_polyK_model , param_grid=param_grid_svm_K, scoring='accuracy', cv=3, n_jobs=-1)"
   ]
  },
  {
   "cell_type": "code",
   "execution_count": 158,
   "id": "f6c1a202",
   "metadata": {},
   "outputs": [
    {
     "data": {
      "text/html": [
       "<style>#sk-container-id-13 {color: black;background-color: white;}#sk-container-id-13 pre{padding: 0;}#sk-container-id-13 div.sk-toggleable {background-color: white;}#sk-container-id-13 label.sk-toggleable__label {cursor: pointer;display: block;width: 100%;margin-bottom: 0;padding: 0.3em;box-sizing: border-box;text-align: center;}#sk-container-id-13 label.sk-toggleable__label-arrow:before {content: \"▸\";float: left;margin-right: 0.25em;color: #696969;}#sk-container-id-13 label.sk-toggleable__label-arrow:hover:before {color: black;}#sk-container-id-13 div.sk-estimator:hover label.sk-toggleable__label-arrow:before {color: black;}#sk-container-id-13 div.sk-toggleable__content {max-height: 0;max-width: 0;overflow: hidden;text-align: left;background-color: #f0f8ff;}#sk-container-id-13 div.sk-toggleable__content pre {margin: 0.2em;color: black;border-radius: 0.25em;background-color: #f0f8ff;}#sk-container-id-13 input.sk-toggleable__control:checked~div.sk-toggleable__content {max-height: 200px;max-width: 100%;overflow: auto;}#sk-container-id-13 input.sk-toggleable__control:checked~label.sk-toggleable__label-arrow:before {content: \"▾\";}#sk-container-id-13 div.sk-estimator input.sk-toggleable__control:checked~label.sk-toggleable__label {background-color: #d4ebff;}#sk-container-id-13 div.sk-label input.sk-toggleable__control:checked~label.sk-toggleable__label {background-color: #d4ebff;}#sk-container-id-13 input.sk-hidden--visually {border: 0;clip: rect(1px 1px 1px 1px);clip: rect(1px, 1px, 1px, 1px);height: 1px;margin: -1px;overflow: hidden;padding: 0;position: absolute;width: 1px;}#sk-container-id-13 div.sk-estimator {font-family: monospace;background-color: #f0f8ff;border: 1px dotted black;border-radius: 0.25em;box-sizing: border-box;margin-bottom: 0.5em;}#sk-container-id-13 div.sk-estimator:hover {background-color: #d4ebff;}#sk-container-id-13 div.sk-parallel-item::after {content: \"\";width: 100%;border-bottom: 1px solid gray;flex-grow: 1;}#sk-container-id-13 div.sk-label:hover label.sk-toggleable__label {background-color: #d4ebff;}#sk-container-id-13 div.sk-serial::before {content: \"\";position: absolute;border-left: 1px solid gray;box-sizing: border-box;top: 0;bottom: 0;left: 50%;z-index: 0;}#sk-container-id-13 div.sk-serial {display: flex;flex-direction: column;align-items: center;background-color: white;padding-right: 0.2em;padding-left: 0.2em;position: relative;}#sk-container-id-13 div.sk-item {position: relative;z-index: 1;}#sk-container-id-13 div.sk-parallel {display: flex;align-items: stretch;justify-content: center;background-color: white;position: relative;}#sk-container-id-13 div.sk-item::before, #sk-container-id-13 div.sk-parallel-item::before {content: \"\";position: absolute;border-left: 1px solid gray;box-sizing: border-box;top: 0;bottom: 0;left: 50%;z-index: -1;}#sk-container-id-13 div.sk-parallel-item {display: flex;flex-direction: column;z-index: 1;position: relative;background-color: white;}#sk-container-id-13 div.sk-parallel-item:first-child::after {align-self: flex-end;width: 50%;}#sk-container-id-13 div.sk-parallel-item:last-child::after {align-self: flex-start;width: 50%;}#sk-container-id-13 div.sk-parallel-item:only-child::after {width: 0;}#sk-container-id-13 div.sk-dashed-wrapped {border: 1px dashed gray;margin: 0 0.4em 0.5em 0.4em;box-sizing: border-box;padding-bottom: 0.4em;background-color: white;}#sk-container-id-13 div.sk-label label {font-family: monospace;font-weight: bold;display: inline-block;line-height: 1.2em;}#sk-container-id-13 div.sk-label-container {text-align: center;}#sk-container-id-13 div.sk-container {/* jupyter's `normalize.less` sets `[hidden] { display: none; }` but bootstrap.min.css set `[hidden] { display: none !important; }` so we also need the `!important` here to be able to override the default hidden behavior on the sphinx rendered scikit-learn.org. See: https://github.com/scikit-learn/scikit-learn/issues/21755 */display: inline-block !important;position: relative;}#sk-container-id-13 div.sk-text-repr-fallback {display: none;}</style><div id=\"sk-container-id-13\" class=\"sk-top-container\"><div class=\"sk-text-repr-fallback\"><pre>GridSearchCV(cv=3,\n",
       "             estimator=SVC(kernel=&#x27;poly&#x27;, probability=True, random_state=10),\n",
       "             n_jobs=-1,\n",
       "             param_grid={&#x27;C&#x27;: [1, 1.5, 2, 2.5, 3, 3.5],\n",
       "                         &#x27;decision_function_shape&#x27;: [&#x27;ovo&#x27;, &#x27;ovr&#x27;],\n",
       "                         &#x27;gamma&#x27;: [&#x27;scale&#x27;, &#x27;auto&#x27;, 0.01, 0.1]},\n",
       "             scoring=&#x27;accuracy&#x27;)</pre><b>In a Jupyter environment, please rerun this cell to show the HTML representation or trust the notebook. <br />On GitHub, the HTML representation is unable to render, please try loading this page with nbviewer.org.</b></div><div class=\"sk-container\" hidden><div class=\"sk-item sk-dashed-wrapped\"><div class=\"sk-label-container\"><div class=\"sk-label sk-toggleable\"><input class=\"sk-toggleable__control sk-hidden--visually\" id=\"sk-estimator-id-28\" type=\"checkbox\" ><label for=\"sk-estimator-id-28\" class=\"sk-toggleable__label sk-toggleable__label-arrow\">GridSearchCV</label><div class=\"sk-toggleable__content\"><pre>GridSearchCV(cv=3,\n",
       "             estimator=SVC(kernel=&#x27;poly&#x27;, probability=True, random_state=10),\n",
       "             n_jobs=-1,\n",
       "             param_grid={&#x27;C&#x27;: [1, 1.5, 2, 2.5, 3, 3.5],\n",
       "                         &#x27;decision_function_shape&#x27;: [&#x27;ovo&#x27;, &#x27;ovr&#x27;],\n",
       "                         &#x27;gamma&#x27;: [&#x27;scale&#x27;, &#x27;auto&#x27;, 0.01, 0.1]},\n",
       "             scoring=&#x27;accuracy&#x27;)</pre></div></div></div><div class=\"sk-parallel\"><div class=\"sk-parallel-item\"><div class=\"sk-item\"><div class=\"sk-label-container\"><div class=\"sk-label sk-toggleable\"><input class=\"sk-toggleable__control sk-hidden--visually\" id=\"sk-estimator-id-29\" type=\"checkbox\" ><label for=\"sk-estimator-id-29\" class=\"sk-toggleable__label sk-toggleable__label-arrow\">estimator: SVC</label><div class=\"sk-toggleable__content\"><pre>SVC(kernel=&#x27;poly&#x27;, probability=True, random_state=10)</pre></div></div></div><div class=\"sk-serial\"><div class=\"sk-item\"><div class=\"sk-estimator sk-toggleable\"><input class=\"sk-toggleable__control sk-hidden--visually\" id=\"sk-estimator-id-30\" type=\"checkbox\" ><label for=\"sk-estimator-id-30\" class=\"sk-toggleable__label sk-toggleable__label-arrow\">SVC</label><div class=\"sk-toggleable__content\"><pre>SVC(kernel=&#x27;poly&#x27;, probability=True, random_state=10)</pre></div></div></div></div></div></div></div></div></div></div>"
      ],
      "text/plain": [
       "GridSearchCV(cv=3,\n",
       "             estimator=SVC(kernel='poly', probability=True, random_state=10),\n",
       "             n_jobs=-1,\n",
       "             param_grid={'C': [1, 1.5, 2, 2.5, 3, 3.5],\n",
       "                         'decision_function_shape': ['ovo', 'ovr'],\n",
       "                         'gamma': ['scale', 'auto', 0.01, 0.1]},\n",
       "             scoring='accuracy')"
      ]
     },
     "execution_count": 158,
     "metadata": {},
     "output_type": "execute_result"
    }
   ],
   "source": [
    "grid_search_svm_polyK.fit(Xs_train,Ys_train)"
   ]
  },
  {
   "cell_type": "code",
   "execution_count": 159,
   "id": "7833aa98",
   "metadata": {},
   "outputs": [
    {
     "data": {
      "text/html": [
       "<style>#sk-container-id-14 {color: black;background-color: white;}#sk-container-id-14 pre{padding: 0;}#sk-container-id-14 div.sk-toggleable {background-color: white;}#sk-container-id-14 label.sk-toggleable__label {cursor: pointer;display: block;width: 100%;margin-bottom: 0;padding: 0.3em;box-sizing: border-box;text-align: center;}#sk-container-id-14 label.sk-toggleable__label-arrow:before {content: \"▸\";float: left;margin-right: 0.25em;color: #696969;}#sk-container-id-14 label.sk-toggleable__label-arrow:hover:before {color: black;}#sk-container-id-14 div.sk-estimator:hover label.sk-toggleable__label-arrow:before {color: black;}#sk-container-id-14 div.sk-toggleable__content {max-height: 0;max-width: 0;overflow: hidden;text-align: left;background-color: #f0f8ff;}#sk-container-id-14 div.sk-toggleable__content pre {margin: 0.2em;color: black;border-radius: 0.25em;background-color: #f0f8ff;}#sk-container-id-14 input.sk-toggleable__control:checked~div.sk-toggleable__content {max-height: 200px;max-width: 100%;overflow: auto;}#sk-container-id-14 input.sk-toggleable__control:checked~label.sk-toggleable__label-arrow:before {content: \"▾\";}#sk-container-id-14 div.sk-estimator input.sk-toggleable__control:checked~label.sk-toggleable__label {background-color: #d4ebff;}#sk-container-id-14 div.sk-label input.sk-toggleable__control:checked~label.sk-toggleable__label {background-color: #d4ebff;}#sk-container-id-14 input.sk-hidden--visually {border: 0;clip: rect(1px 1px 1px 1px);clip: rect(1px, 1px, 1px, 1px);height: 1px;margin: -1px;overflow: hidden;padding: 0;position: absolute;width: 1px;}#sk-container-id-14 div.sk-estimator {font-family: monospace;background-color: #f0f8ff;border: 1px dotted black;border-radius: 0.25em;box-sizing: border-box;margin-bottom: 0.5em;}#sk-container-id-14 div.sk-estimator:hover {background-color: #d4ebff;}#sk-container-id-14 div.sk-parallel-item::after {content: \"\";width: 100%;border-bottom: 1px solid gray;flex-grow: 1;}#sk-container-id-14 div.sk-label:hover label.sk-toggleable__label {background-color: #d4ebff;}#sk-container-id-14 div.sk-serial::before {content: \"\";position: absolute;border-left: 1px solid gray;box-sizing: border-box;top: 0;bottom: 0;left: 50%;z-index: 0;}#sk-container-id-14 div.sk-serial {display: flex;flex-direction: column;align-items: center;background-color: white;padding-right: 0.2em;padding-left: 0.2em;position: relative;}#sk-container-id-14 div.sk-item {position: relative;z-index: 1;}#sk-container-id-14 div.sk-parallel {display: flex;align-items: stretch;justify-content: center;background-color: white;position: relative;}#sk-container-id-14 div.sk-item::before, #sk-container-id-14 div.sk-parallel-item::before {content: \"\";position: absolute;border-left: 1px solid gray;box-sizing: border-box;top: 0;bottom: 0;left: 50%;z-index: -1;}#sk-container-id-14 div.sk-parallel-item {display: flex;flex-direction: column;z-index: 1;position: relative;background-color: white;}#sk-container-id-14 div.sk-parallel-item:first-child::after {align-self: flex-end;width: 50%;}#sk-container-id-14 div.sk-parallel-item:last-child::after {align-self: flex-start;width: 50%;}#sk-container-id-14 div.sk-parallel-item:only-child::after {width: 0;}#sk-container-id-14 div.sk-dashed-wrapped {border: 1px dashed gray;margin: 0 0.4em 0.5em 0.4em;box-sizing: border-box;padding-bottom: 0.4em;background-color: white;}#sk-container-id-14 div.sk-label label {font-family: monospace;font-weight: bold;display: inline-block;line-height: 1.2em;}#sk-container-id-14 div.sk-label-container {text-align: center;}#sk-container-id-14 div.sk-container {/* jupyter's `normalize.less` sets `[hidden] { display: none; }` but bootstrap.min.css set `[hidden] { display: none !important; }` so we also need the `!important` here to be able to override the default hidden behavior on the sphinx rendered scikit-learn.org. See: https://github.com/scikit-learn/scikit-learn/issues/21755 */display: inline-block !important;position: relative;}#sk-container-id-14 div.sk-text-repr-fallback {display: none;}</style><div id=\"sk-container-id-14\" class=\"sk-top-container\"><div class=\"sk-text-repr-fallback\"><pre>SVC(C=2, decision_function_shape=&#x27;ovo&#x27;, kernel=&#x27;poly&#x27;, probability=True,\n",
       "    random_state=10)</pre><b>In a Jupyter environment, please rerun this cell to show the HTML representation or trust the notebook. <br />On GitHub, the HTML representation is unable to render, please try loading this page with nbviewer.org.</b></div><div class=\"sk-container\" hidden><div class=\"sk-item\"><div class=\"sk-estimator sk-toggleable\"><input class=\"sk-toggleable__control sk-hidden--visually\" id=\"sk-estimator-id-31\" type=\"checkbox\" checked><label for=\"sk-estimator-id-31\" class=\"sk-toggleable__label sk-toggleable__label-arrow\">SVC</label><div class=\"sk-toggleable__content\"><pre>SVC(C=2, decision_function_shape=&#x27;ovo&#x27;, kernel=&#x27;poly&#x27;, probability=True,\n",
       "    random_state=10)</pre></div></div></div></div></div>"
      ],
      "text/plain": [
       "SVC(C=2, decision_function_shape='ovo', kernel='poly', probability=True,\n",
       "    random_state=10)"
      ]
     },
     "execution_count": 159,
     "metadata": {},
     "output_type": "execute_result"
    }
   ],
   "source": [
    "best_svm_polyK_model = grid_search_svm_polyK.best_estimator_\n",
    "best_svm_polyK_model"
   ]
  },
  {
   "cell_type": "code",
   "execution_count": 160,
   "id": "c10ad505",
   "metadata": {},
   "outputs": [],
   "source": [
    "y_pred_svm_polyK = best_svm_polyK_model.predict(Xs_test)"
   ]
  },
  {
   "cell_type": "code",
   "execution_count": 161,
   "id": "476a38ce",
   "metadata": {},
   "outputs": [
    {
     "data": {
      "text/plain": [
       "0.9382575757575757"
      ]
     },
     "execution_count": 161,
     "metadata": {},
     "output_type": "execute_result"
    }
   ],
   "source": [
    "Accuracy_svm_polyK= accuracy_score(Ys_test, y_pred_svm_polyK)\n",
    "Accuracy_svm_polyK"
   ]
  },
  {
   "cell_type": "code",
   "execution_count": 162,
   "id": "b3c0bc48",
   "metadata": {},
   "outputs": [
    {
     "data": {
      "text/plain": [
       "0.9572916666666667"
      ]
     },
     "execution_count": 162,
     "metadata": {},
     "output_type": "execute_result"
    }
   ],
   "source": [
    "y_pred_svm_polyK_train = best_svm_polyK_model.predict(Xs_train)\n",
    "Accuracy_svm_polyK_train = accuracy_score(Ys_train, y_pred_svm_polyK_train)\n",
    "Accuracy_svm_polyK_train"
   ]
  },
  {
   "cell_type": "code",
   "execution_count": null,
   "id": "20a188b6",
   "metadata": {},
   "outputs": [],
   "source": []
  },
  {
   "cell_type": "markdown",
   "id": "9f81ce1e",
   "metadata": {},
   "source": [
    "###\n"
   ]
  },
  {
   "cell_type": "code",
   "execution_count": 163,
   "id": "e4b86aaf",
   "metadata": {},
   "outputs": [],
   "source": [
    "svm_rbfK_model = SVC(random_state=10,probability=True,kernel='rbf')"
   ]
  },
  {
   "cell_type": "code",
   "execution_count": 164,
   "id": "6b77ee50",
   "metadata": {},
   "outputs": [],
   "source": [
    "grid_search_svm_rbfK = GridSearchCV(estimator=svm_rbfK_model , param_grid=param_grid_svm_K, scoring='accuracy', cv=5, n_jobs=-1)"
   ]
  },
  {
   "cell_type": "code",
   "execution_count": 165,
   "id": "8247d15a",
   "metadata": {},
   "outputs": [
    {
     "data": {
      "text/html": [
       "<style>#sk-container-id-15 {color: black;background-color: white;}#sk-container-id-15 pre{padding: 0;}#sk-container-id-15 div.sk-toggleable {background-color: white;}#sk-container-id-15 label.sk-toggleable__label {cursor: pointer;display: block;width: 100%;margin-bottom: 0;padding: 0.3em;box-sizing: border-box;text-align: center;}#sk-container-id-15 label.sk-toggleable__label-arrow:before {content: \"▸\";float: left;margin-right: 0.25em;color: #696969;}#sk-container-id-15 label.sk-toggleable__label-arrow:hover:before {color: black;}#sk-container-id-15 div.sk-estimator:hover label.sk-toggleable__label-arrow:before {color: black;}#sk-container-id-15 div.sk-toggleable__content {max-height: 0;max-width: 0;overflow: hidden;text-align: left;background-color: #f0f8ff;}#sk-container-id-15 div.sk-toggleable__content pre {margin: 0.2em;color: black;border-radius: 0.25em;background-color: #f0f8ff;}#sk-container-id-15 input.sk-toggleable__control:checked~div.sk-toggleable__content {max-height: 200px;max-width: 100%;overflow: auto;}#sk-container-id-15 input.sk-toggleable__control:checked~label.sk-toggleable__label-arrow:before {content: \"▾\";}#sk-container-id-15 div.sk-estimator input.sk-toggleable__control:checked~label.sk-toggleable__label {background-color: #d4ebff;}#sk-container-id-15 div.sk-label input.sk-toggleable__control:checked~label.sk-toggleable__label {background-color: #d4ebff;}#sk-container-id-15 input.sk-hidden--visually {border: 0;clip: rect(1px 1px 1px 1px);clip: rect(1px, 1px, 1px, 1px);height: 1px;margin: -1px;overflow: hidden;padding: 0;position: absolute;width: 1px;}#sk-container-id-15 div.sk-estimator {font-family: monospace;background-color: #f0f8ff;border: 1px dotted black;border-radius: 0.25em;box-sizing: border-box;margin-bottom: 0.5em;}#sk-container-id-15 div.sk-estimator:hover {background-color: #d4ebff;}#sk-container-id-15 div.sk-parallel-item::after {content: \"\";width: 100%;border-bottom: 1px solid gray;flex-grow: 1;}#sk-container-id-15 div.sk-label:hover label.sk-toggleable__label {background-color: #d4ebff;}#sk-container-id-15 div.sk-serial::before {content: \"\";position: absolute;border-left: 1px solid gray;box-sizing: border-box;top: 0;bottom: 0;left: 50%;z-index: 0;}#sk-container-id-15 div.sk-serial {display: flex;flex-direction: column;align-items: center;background-color: white;padding-right: 0.2em;padding-left: 0.2em;position: relative;}#sk-container-id-15 div.sk-item {position: relative;z-index: 1;}#sk-container-id-15 div.sk-parallel {display: flex;align-items: stretch;justify-content: center;background-color: white;position: relative;}#sk-container-id-15 div.sk-item::before, #sk-container-id-15 div.sk-parallel-item::before {content: \"\";position: absolute;border-left: 1px solid gray;box-sizing: border-box;top: 0;bottom: 0;left: 50%;z-index: -1;}#sk-container-id-15 div.sk-parallel-item {display: flex;flex-direction: column;z-index: 1;position: relative;background-color: white;}#sk-container-id-15 div.sk-parallel-item:first-child::after {align-self: flex-end;width: 50%;}#sk-container-id-15 div.sk-parallel-item:last-child::after {align-self: flex-start;width: 50%;}#sk-container-id-15 div.sk-parallel-item:only-child::after {width: 0;}#sk-container-id-15 div.sk-dashed-wrapped {border: 1px dashed gray;margin: 0 0.4em 0.5em 0.4em;box-sizing: border-box;padding-bottom: 0.4em;background-color: white;}#sk-container-id-15 div.sk-label label {font-family: monospace;font-weight: bold;display: inline-block;line-height: 1.2em;}#sk-container-id-15 div.sk-label-container {text-align: center;}#sk-container-id-15 div.sk-container {/* jupyter's `normalize.less` sets `[hidden] { display: none; }` but bootstrap.min.css set `[hidden] { display: none !important; }` so we also need the `!important` here to be able to override the default hidden behavior on the sphinx rendered scikit-learn.org. See: https://github.com/scikit-learn/scikit-learn/issues/21755 */display: inline-block !important;position: relative;}#sk-container-id-15 div.sk-text-repr-fallback {display: none;}</style><div id=\"sk-container-id-15\" class=\"sk-top-container\"><div class=\"sk-text-repr-fallback\"><pre>GridSearchCV(cv=5, estimator=SVC(probability=True, random_state=10), n_jobs=-1,\n",
       "             param_grid={&#x27;C&#x27;: [1, 1.5, 2, 2.5, 3, 3.5],\n",
       "                         &#x27;decision_function_shape&#x27;: [&#x27;ovo&#x27;, &#x27;ovr&#x27;],\n",
       "                         &#x27;gamma&#x27;: [&#x27;scale&#x27;, &#x27;auto&#x27;, 0.01, 0.1]},\n",
       "             scoring=&#x27;accuracy&#x27;)</pre><b>In a Jupyter environment, please rerun this cell to show the HTML representation or trust the notebook. <br />On GitHub, the HTML representation is unable to render, please try loading this page with nbviewer.org.</b></div><div class=\"sk-container\" hidden><div class=\"sk-item sk-dashed-wrapped\"><div class=\"sk-label-container\"><div class=\"sk-label sk-toggleable\"><input class=\"sk-toggleable__control sk-hidden--visually\" id=\"sk-estimator-id-32\" type=\"checkbox\" ><label for=\"sk-estimator-id-32\" class=\"sk-toggleable__label sk-toggleable__label-arrow\">GridSearchCV</label><div class=\"sk-toggleable__content\"><pre>GridSearchCV(cv=5, estimator=SVC(probability=True, random_state=10), n_jobs=-1,\n",
       "             param_grid={&#x27;C&#x27;: [1, 1.5, 2, 2.5, 3, 3.5],\n",
       "                         &#x27;decision_function_shape&#x27;: [&#x27;ovo&#x27;, &#x27;ovr&#x27;],\n",
       "                         &#x27;gamma&#x27;: [&#x27;scale&#x27;, &#x27;auto&#x27;, 0.01, 0.1]},\n",
       "             scoring=&#x27;accuracy&#x27;)</pre></div></div></div><div class=\"sk-parallel\"><div class=\"sk-parallel-item\"><div class=\"sk-item\"><div class=\"sk-label-container\"><div class=\"sk-label sk-toggleable\"><input class=\"sk-toggleable__control sk-hidden--visually\" id=\"sk-estimator-id-33\" type=\"checkbox\" ><label for=\"sk-estimator-id-33\" class=\"sk-toggleable__label sk-toggleable__label-arrow\">estimator: SVC</label><div class=\"sk-toggleable__content\"><pre>SVC(probability=True, random_state=10)</pre></div></div></div><div class=\"sk-serial\"><div class=\"sk-item\"><div class=\"sk-estimator sk-toggleable\"><input class=\"sk-toggleable__control sk-hidden--visually\" id=\"sk-estimator-id-34\" type=\"checkbox\" ><label for=\"sk-estimator-id-34\" class=\"sk-toggleable__label sk-toggleable__label-arrow\">SVC</label><div class=\"sk-toggleable__content\"><pre>SVC(probability=True, random_state=10)</pre></div></div></div></div></div></div></div></div></div></div>"
      ],
      "text/plain": [
       "GridSearchCV(cv=5, estimator=SVC(probability=True, random_state=10), n_jobs=-1,\n",
       "             param_grid={'C': [1, 1.5, 2, 2.5, 3, 3.5],\n",
       "                         'decision_function_shape': ['ovo', 'ovr'],\n",
       "                         'gamma': ['scale', 'auto', 0.01, 0.1]},\n",
       "             scoring='accuracy')"
      ]
     },
     "execution_count": 165,
     "metadata": {},
     "output_type": "execute_result"
    }
   ],
   "source": [
    "grid_search_svm_rbfK.fit(Xs_train,Ys_train)"
   ]
  },
  {
   "cell_type": "code",
   "execution_count": 166,
   "id": "997fbbc1",
   "metadata": {},
   "outputs": [
    {
     "data": {
      "text/html": [
       "<style>#sk-container-id-16 {color: black;background-color: white;}#sk-container-id-16 pre{padding: 0;}#sk-container-id-16 div.sk-toggleable {background-color: white;}#sk-container-id-16 label.sk-toggleable__label {cursor: pointer;display: block;width: 100%;margin-bottom: 0;padding: 0.3em;box-sizing: border-box;text-align: center;}#sk-container-id-16 label.sk-toggleable__label-arrow:before {content: \"▸\";float: left;margin-right: 0.25em;color: #696969;}#sk-container-id-16 label.sk-toggleable__label-arrow:hover:before {color: black;}#sk-container-id-16 div.sk-estimator:hover label.sk-toggleable__label-arrow:before {color: black;}#sk-container-id-16 div.sk-toggleable__content {max-height: 0;max-width: 0;overflow: hidden;text-align: left;background-color: #f0f8ff;}#sk-container-id-16 div.sk-toggleable__content pre {margin: 0.2em;color: black;border-radius: 0.25em;background-color: #f0f8ff;}#sk-container-id-16 input.sk-toggleable__control:checked~div.sk-toggleable__content {max-height: 200px;max-width: 100%;overflow: auto;}#sk-container-id-16 input.sk-toggleable__control:checked~label.sk-toggleable__label-arrow:before {content: \"▾\";}#sk-container-id-16 div.sk-estimator input.sk-toggleable__control:checked~label.sk-toggleable__label {background-color: #d4ebff;}#sk-container-id-16 div.sk-label input.sk-toggleable__control:checked~label.sk-toggleable__label {background-color: #d4ebff;}#sk-container-id-16 input.sk-hidden--visually {border: 0;clip: rect(1px 1px 1px 1px);clip: rect(1px, 1px, 1px, 1px);height: 1px;margin: -1px;overflow: hidden;padding: 0;position: absolute;width: 1px;}#sk-container-id-16 div.sk-estimator {font-family: monospace;background-color: #f0f8ff;border: 1px dotted black;border-radius: 0.25em;box-sizing: border-box;margin-bottom: 0.5em;}#sk-container-id-16 div.sk-estimator:hover {background-color: #d4ebff;}#sk-container-id-16 div.sk-parallel-item::after {content: \"\";width: 100%;border-bottom: 1px solid gray;flex-grow: 1;}#sk-container-id-16 div.sk-label:hover label.sk-toggleable__label {background-color: #d4ebff;}#sk-container-id-16 div.sk-serial::before {content: \"\";position: absolute;border-left: 1px solid gray;box-sizing: border-box;top: 0;bottom: 0;left: 50%;z-index: 0;}#sk-container-id-16 div.sk-serial {display: flex;flex-direction: column;align-items: center;background-color: white;padding-right: 0.2em;padding-left: 0.2em;position: relative;}#sk-container-id-16 div.sk-item {position: relative;z-index: 1;}#sk-container-id-16 div.sk-parallel {display: flex;align-items: stretch;justify-content: center;background-color: white;position: relative;}#sk-container-id-16 div.sk-item::before, #sk-container-id-16 div.sk-parallel-item::before {content: \"\";position: absolute;border-left: 1px solid gray;box-sizing: border-box;top: 0;bottom: 0;left: 50%;z-index: -1;}#sk-container-id-16 div.sk-parallel-item {display: flex;flex-direction: column;z-index: 1;position: relative;background-color: white;}#sk-container-id-16 div.sk-parallel-item:first-child::after {align-self: flex-end;width: 50%;}#sk-container-id-16 div.sk-parallel-item:last-child::after {align-self: flex-start;width: 50%;}#sk-container-id-16 div.sk-parallel-item:only-child::after {width: 0;}#sk-container-id-16 div.sk-dashed-wrapped {border: 1px dashed gray;margin: 0 0.4em 0.5em 0.4em;box-sizing: border-box;padding-bottom: 0.4em;background-color: white;}#sk-container-id-16 div.sk-label label {font-family: monospace;font-weight: bold;display: inline-block;line-height: 1.2em;}#sk-container-id-16 div.sk-label-container {text-align: center;}#sk-container-id-16 div.sk-container {/* jupyter's `normalize.less` sets `[hidden] { display: none; }` but bootstrap.min.css set `[hidden] { display: none !important; }` so we also need the `!important` here to be able to override the default hidden behavior on the sphinx rendered scikit-learn.org. See: https://github.com/scikit-learn/scikit-learn/issues/21755 */display: inline-block !important;position: relative;}#sk-container-id-16 div.sk-text-repr-fallback {display: none;}</style><div id=\"sk-container-id-16\" class=\"sk-top-container\"><div class=\"sk-text-repr-fallback\"><pre>SVC(C=1.5, decision_function_shape=&#x27;ovo&#x27;, gamma=&#x27;auto&#x27;, probability=True,\n",
       "    random_state=10)</pre><b>In a Jupyter environment, please rerun this cell to show the HTML representation or trust the notebook. <br />On GitHub, the HTML representation is unable to render, please try loading this page with nbviewer.org.</b></div><div class=\"sk-container\" hidden><div class=\"sk-item\"><div class=\"sk-estimator sk-toggleable\"><input class=\"sk-toggleable__control sk-hidden--visually\" id=\"sk-estimator-id-35\" type=\"checkbox\" checked><label for=\"sk-estimator-id-35\" class=\"sk-toggleable__label sk-toggleable__label-arrow\">SVC</label><div class=\"sk-toggleable__content\"><pre>SVC(C=1.5, decision_function_shape=&#x27;ovo&#x27;, gamma=&#x27;auto&#x27;, probability=True,\n",
       "    random_state=10)</pre></div></div></div></div></div>"
      ],
      "text/plain": [
       "SVC(C=1.5, decision_function_shape='ovo', gamma='auto', probability=True,\n",
       "    random_state=10)"
      ]
     },
     "execution_count": 166,
     "metadata": {},
     "output_type": "execute_result"
    }
   ],
   "source": [
    "best_svm_rbfK_model = grid_search_svm_rbfK.best_estimator_\n",
    "best_svm_rbfK_model"
   ]
  },
  {
   "cell_type": "code",
   "execution_count": 167,
   "id": "bfa24045",
   "metadata": {},
   "outputs": [],
   "source": [
    "y_pred_svm_rbfK = best_svm_rbfK_model.predict(Xs_test)"
   ]
  },
  {
   "cell_type": "code",
   "execution_count": 168,
   "id": "d4f9f4d6",
   "metadata": {},
   "outputs": [
    {
     "data": {
      "text/plain": [
       "0.9367424242424243"
      ]
     },
     "execution_count": 168,
     "metadata": {},
     "output_type": "execute_result"
    }
   ],
   "source": [
    "Accuracy_svm_rbfK= accuracy_score(Ys_test, y_pred_svm_rbfK)\n",
    "Accuracy_svm_rbfK"
   ]
  },
  {
   "cell_type": "code",
   "execution_count": 169,
   "id": "290753eb",
   "metadata": {},
   "outputs": [
    {
     "data": {
      "text/plain": [
       "0.9566287878787879"
      ]
     },
     "execution_count": 169,
     "metadata": {},
     "output_type": "execute_result"
    }
   ],
   "source": [
    "y_pred_svm_rbfK_train = best_svm_rbfK_model.predict(Xs_train)\n",
    "Accuracy_svm_rbfK_train = accuracy_score(Ys_train, y_pred_svm_rbfK_train)\n",
    "Accuracy_svm_rbfK_train"
   ]
  },
  {
   "cell_type": "markdown",
   "id": "cf558856",
   "metadata": {},
   "source": [
    "####"
   ]
  },
  {
   "cell_type": "code",
   "execution_count": 170,
   "id": "c539ec72",
   "metadata": {},
   "outputs": [],
   "source": [
    "svm_sigK_model = SVC(random_state=10,probability=True,kernel='sigmoid')"
   ]
  },
  {
   "cell_type": "code",
   "execution_count": 171,
   "id": "b76c77bc",
   "metadata": {},
   "outputs": [],
   "source": [
    "grid_search_svm_sigK = GridSearchCV(estimator=svm_sigK_model , param_grid=param_grid_svm_K, scoring='accuracy', cv=5, n_jobs=-1)"
   ]
  },
  {
   "cell_type": "code",
   "execution_count": 172,
   "id": "93da6a20",
   "metadata": {},
   "outputs": [
    {
     "data": {
      "text/html": [
       "<style>#sk-container-id-17 {color: black;background-color: white;}#sk-container-id-17 pre{padding: 0;}#sk-container-id-17 div.sk-toggleable {background-color: white;}#sk-container-id-17 label.sk-toggleable__label {cursor: pointer;display: block;width: 100%;margin-bottom: 0;padding: 0.3em;box-sizing: border-box;text-align: center;}#sk-container-id-17 label.sk-toggleable__label-arrow:before {content: \"▸\";float: left;margin-right: 0.25em;color: #696969;}#sk-container-id-17 label.sk-toggleable__label-arrow:hover:before {color: black;}#sk-container-id-17 div.sk-estimator:hover label.sk-toggleable__label-arrow:before {color: black;}#sk-container-id-17 div.sk-toggleable__content {max-height: 0;max-width: 0;overflow: hidden;text-align: left;background-color: #f0f8ff;}#sk-container-id-17 div.sk-toggleable__content pre {margin: 0.2em;color: black;border-radius: 0.25em;background-color: #f0f8ff;}#sk-container-id-17 input.sk-toggleable__control:checked~div.sk-toggleable__content {max-height: 200px;max-width: 100%;overflow: auto;}#sk-container-id-17 input.sk-toggleable__control:checked~label.sk-toggleable__label-arrow:before {content: \"▾\";}#sk-container-id-17 div.sk-estimator input.sk-toggleable__control:checked~label.sk-toggleable__label {background-color: #d4ebff;}#sk-container-id-17 div.sk-label input.sk-toggleable__control:checked~label.sk-toggleable__label {background-color: #d4ebff;}#sk-container-id-17 input.sk-hidden--visually {border: 0;clip: rect(1px 1px 1px 1px);clip: rect(1px, 1px, 1px, 1px);height: 1px;margin: -1px;overflow: hidden;padding: 0;position: absolute;width: 1px;}#sk-container-id-17 div.sk-estimator {font-family: monospace;background-color: #f0f8ff;border: 1px dotted black;border-radius: 0.25em;box-sizing: border-box;margin-bottom: 0.5em;}#sk-container-id-17 div.sk-estimator:hover {background-color: #d4ebff;}#sk-container-id-17 div.sk-parallel-item::after {content: \"\";width: 100%;border-bottom: 1px solid gray;flex-grow: 1;}#sk-container-id-17 div.sk-label:hover label.sk-toggleable__label {background-color: #d4ebff;}#sk-container-id-17 div.sk-serial::before {content: \"\";position: absolute;border-left: 1px solid gray;box-sizing: border-box;top: 0;bottom: 0;left: 50%;z-index: 0;}#sk-container-id-17 div.sk-serial {display: flex;flex-direction: column;align-items: center;background-color: white;padding-right: 0.2em;padding-left: 0.2em;position: relative;}#sk-container-id-17 div.sk-item {position: relative;z-index: 1;}#sk-container-id-17 div.sk-parallel {display: flex;align-items: stretch;justify-content: center;background-color: white;position: relative;}#sk-container-id-17 div.sk-item::before, #sk-container-id-17 div.sk-parallel-item::before {content: \"\";position: absolute;border-left: 1px solid gray;box-sizing: border-box;top: 0;bottom: 0;left: 50%;z-index: -1;}#sk-container-id-17 div.sk-parallel-item {display: flex;flex-direction: column;z-index: 1;position: relative;background-color: white;}#sk-container-id-17 div.sk-parallel-item:first-child::after {align-self: flex-end;width: 50%;}#sk-container-id-17 div.sk-parallel-item:last-child::after {align-self: flex-start;width: 50%;}#sk-container-id-17 div.sk-parallel-item:only-child::after {width: 0;}#sk-container-id-17 div.sk-dashed-wrapped {border: 1px dashed gray;margin: 0 0.4em 0.5em 0.4em;box-sizing: border-box;padding-bottom: 0.4em;background-color: white;}#sk-container-id-17 div.sk-label label {font-family: monospace;font-weight: bold;display: inline-block;line-height: 1.2em;}#sk-container-id-17 div.sk-label-container {text-align: center;}#sk-container-id-17 div.sk-container {/* jupyter's `normalize.less` sets `[hidden] { display: none; }` but bootstrap.min.css set `[hidden] { display: none !important; }` so we also need the `!important` here to be able to override the default hidden behavior on the sphinx rendered scikit-learn.org. See: https://github.com/scikit-learn/scikit-learn/issues/21755 */display: inline-block !important;position: relative;}#sk-container-id-17 div.sk-text-repr-fallback {display: none;}</style><div id=\"sk-container-id-17\" class=\"sk-top-container\"><div class=\"sk-text-repr-fallback\"><pre>GridSearchCV(cv=5,\n",
       "             estimator=SVC(kernel=&#x27;sigmoid&#x27;, probability=True, random_state=10),\n",
       "             n_jobs=-1,\n",
       "             param_grid={&#x27;C&#x27;: [1, 1.5, 2, 2.5, 3, 3.5],\n",
       "                         &#x27;decision_function_shape&#x27;: [&#x27;ovo&#x27;, &#x27;ovr&#x27;],\n",
       "                         &#x27;gamma&#x27;: [&#x27;scale&#x27;, &#x27;auto&#x27;, 0.01, 0.1]},\n",
       "             scoring=&#x27;accuracy&#x27;)</pre><b>In a Jupyter environment, please rerun this cell to show the HTML representation or trust the notebook. <br />On GitHub, the HTML representation is unable to render, please try loading this page with nbviewer.org.</b></div><div class=\"sk-container\" hidden><div class=\"sk-item sk-dashed-wrapped\"><div class=\"sk-label-container\"><div class=\"sk-label sk-toggleable\"><input class=\"sk-toggleable__control sk-hidden--visually\" id=\"sk-estimator-id-36\" type=\"checkbox\" ><label for=\"sk-estimator-id-36\" class=\"sk-toggleable__label sk-toggleable__label-arrow\">GridSearchCV</label><div class=\"sk-toggleable__content\"><pre>GridSearchCV(cv=5,\n",
       "             estimator=SVC(kernel=&#x27;sigmoid&#x27;, probability=True, random_state=10),\n",
       "             n_jobs=-1,\n",
       "             param_grid={&#x27;C&#x27;: [1, 1.5, 2, 2.5, 3, 3.5],\n",
       "                         &#x27;decision_function_shape&#x27;: [&#x27;ovo&#x27;, &#x27;ovr&#x27;],\n",
       "                         &#x27;gamma&#x27;: [&#x27;scale&#x27;, &#x27;auto&#x27;, 0.01, 0.1]},\n",
       "             scoring=&#x27;accuracy&#x27;)</pre></div></div></div><div class=\"sk-parallel\"><div class=\"sk-parallel-item\"><div class=\"sk-item\"><div class=\"sk-label-container\"><div class=\"sk-label sk-toggleable\"><input class=\"sk-toggleable__control sk-hidden--visually\" id=\"sk-estimator-id-37\" type=\"checkbox\" ><label for=\"sk-estimator-id-37\" class=\"sk-toggleable__label sk-toggleable__label-arrow\">estimator: SVC</label><div class=\"sk-toggleable__content\"><pre>SVC(kernel=&#x27;sigmoid&#x27;, probability=True, random_state=10)</pre></div></div></div><div class=\"sk-serial\"><div class=\"sk-item\"><div class=\"sk-estimator sk-toggleable\"><input class=\"sk-toggleable__control sk-hidden--visually\" id=\"sk-estimator-id-38\" type=\"checkbox\" ><label for=\"sk-estimator-id-38\" class=\"sk-toggleable__label sk-toggleable__label-arrow\">SVC</label><div class=\"sk-toggleable__content\"><pre>SVC(kernel=&#x27;sigmoid&#x27;, probability=True, random_state=10)</pre></div></div></div></div></div></div></div></div></div></div>"
      ],
      "text/plain": [
       "GridSearchCV(cv=5,\n",
       "             estimator=SVC(kernel='sigmoid', probability=True, random_state=10),\n",
       "             n_jobs=-1,\n",
       "             param_grid={'C': [1, 1.5, 2, 2.5, 3, 3.5],\n",
       "                         'decision_function_shape': ['ovo', 'ovr'],\n",
       "                         'gamma': ['scale', 'auto', 0.01, 0.1]},\n",
       "             scoring='accuracy')"
      ]
     },
     "execution_count": 172,
     "metadata": {},
     "output_type": "execute_result"
    }
   ],
   "source": [
    "grid_search_svm_sigK.fit(Xs_train,Ys_train)"
   ]
  },
  {
   "cell_type": "code",
   "execution_count": 173,
   "id": "b95cc719",
   "metadata": {},
   "outputs": [
    {
     "data": {
      "text/html": [
       "<style>#sk-container-id-18 {color: black;background-color: white;}#sk-container-id-18 pre{padding: 0;}#sk-container-id-18 div.sk-toggleable {background-color: white;}#sk-container-id-18 label.sk-toggleable__label {cursor: pointer;display: block;width: 100%;margin-bottom: 0;padding: 0.3em;box-sizing: border-box;text-align: center;}#sk-container-id-18 label.sk-toggleable__label-arrow:before {content: \"▸\";float: left;margin-right: 0.25em;color: #696969;}#sk-container-id-18 label.sk-toggleable__label-arrow:hover:before {color: black;}#sk-container-id-18 div.sk-estimator:hover label.sk-toggleable__label-arrow:before {color: black;}#sk-container-id-18 div.sk-toggleable__content {max-height: 0;max-width: 0;overflow: hidden;text-align: left;background-color: #f0f8ff;}#sk-container-id-18 div.sk-toggleable__content pre {margin: 0.2em;color: black;border-radius: 0.25em;background-color: #f0f8ff;}#sk-container-id-18 input.sk-toggleable__control:checked~div.sk-toggleable__content {max-height: 200px;max-width: 100%;overflow: auto;}#sk-container-id-18 input.sk-toggleable__control:checked~label.sk-toggleable__label-arrow:before {content: \"▾\";}#sk-container-id-18 div.sk-estimator input.sk-toggleable__control:checked~label.sk-toggleable__label {background-color: #d4ebff;}#sk-container-id-18 div.sk-label input.sk-toggleable__control:checked~label.sk-toggleable__label {background-color: #d4ebff;}#sk-container-id-18 input.sk-hidden--visually {border: 0;clip: rect(1px 1px 1px 1px);clip: rect(1px, 1px, 1px, 1px);height: 1px;margin: -1px;overflow: hidden;padding: 0;position: absolute;width: 1px;}#sk-container-id-18 div.sk-estimator {font-family: monospace;background-color: #f0f8ff;border: 1px dotted black;border-radius: 0.25em;box-sizing: border-box;margin-bottom: 0.5em;}#sk-container-id-18 div.sk-estimator:hover {background-color: #d4ebff;}#sk-container-id-18 div.sk-parallel-item::after {content: \"\";width: 100%;border-bottom: 1px solid gray;flex-grow: 1;}#sk-container-id-18 div.sk-label:hover label.sk-toggleable__label {background-color: #d4ebff;}#sk-container-id-18 div.sk-serial::before {content: \"\";position: absolute;border-left: 1px solid gray;box-sizing: border-box;top: 0;bottom: 0;left: 50%;z-index: 0;}#sk-container-id-18 div.sk-serial {display: flex;flex-direction: column;align-items: center;background-color: white;padding-right: 0.2em;padding-left: 0.2em;position: relative;}#sk-container-id-18 div.sk-item {position: relative;z-index: 1;}#sk-container-id-18 div.sk-parallel {display: flex;align-items: stretch;justify-content: center;background-color: white;position: relative;}#sk-container-id-18 div.sk-item::before, #sk-container-id-18 div.sk-parallel-item::before {content: \"\";position: absolute;border-left: 1px solid gray;box-sizing: border-box;top: 0;bottom: 0;left: 50%;z-index: -1;}#sk-container-id-18 div.sk-parallel-item {display: flex;flex-direction: column;z-index: 1;position: relative;background-color: white;}#sk-container-id-18 div.sk-parallel-item:first-child::after {align-self: flex-end;width: 50%;}#sk-container-id-18 div.sk-parallel-item:last-child::after {align-self: flex-start;width: 50%;}#sk-container-id-18 div.sk-parallel-item:only-child::after {width: 0;}#sk-container-id-18 div.sk-dashed-wrapped {border: 1px dashed gray;margin: 0 0.4em 0.5em 0.4em;box-sizing: border-box;padding-bottom: 0.4em;background-color: white;}#sk-container-id-18 div.sk-label label {font-family: monospace;font-weight: bold;display: inline-block;line-height: 1.2em;}#sk-container-id-18 div.sk-label-container {text-align: center;}#sk-container-id-18 div.sk-container {/* jupyter's `normalize.less` sets `[hidden] { display: none; }` but bootstrap.min.css set `[hidden] { display: none !important; }` so we also need the `!important` here to be able to override the default hidden behavior on the sphinx rendered scikit-learn.org. See: https://github.com/scikit-learn/scikit-learn/issues/21755 */display: inline-block !important;position: relative;}#sk-container-id-18 div.sk-text-repr-fallback {display: none;}</style><div id=\"sk-container-id-18\" class=\"sk-top-container\"><div class=\"sk-text-repr-fallback\"><pre>SVC(C=2, decision_function_shape=&#x27;ovo&#x27;, gamma=0.01, kernel=&#x27;sigmoid&#x27;,\n",
       "    probability=True, random_state=10)</pre><b>In a Jupyter environment, please rerun this cell to show the HTML representation or trust the notebook. <br />On GitHub, the HTML representation is unable to render, please try loading this page with nbviewer.org.</b></div><div class=\"sk-container\" hidden><div class=\"sk-item\"><div class=\"sk-estimator sk-toggleable\"><input class=\"sk-toggleable__control sk-hidden--visually\" id=\"sk-estimator-id-39\" type=\"checkbox\" checked><label for=\"sk-estimator-id-39\" class=\"sk-toggleable__label sk-toggleable__label-arrow\">SVC</label><div class=\"sk-toggleable__content\"><pre>SVC(C=2, decision_function_shape=&#x27;ovo&#x27;, gamma=0.01, kernel=&#x27;sigmoid&#x27;,\n",
       "    probability=True, random_state=10)</pre></div></div></div></div></div>"
      ],
      "text/plain": [
       "SVC(C=2, decision_function_shape='ovo', gamma=0.01, kernel='sigmoid',\n",
       "    probability=True, random_state=10)"
      ]
     },
     "execution_count": 173,
     "metadata": {},
     "output_type": "execute_result"
    }
   ],
   "source": [
    "best_svm_sigK_model = grid_search_svm_sigK.best_estimator_\n",
    "best_svm_sigK_model"
   ]
  },
  {
   "cell_type": "code",
   "execution_count": 174,
   "id": "3af5a5c9",
   "metadata": {},
   "outputs": [],
   "source": [
    "y_pred_svm_sigK = best_svm_sigK_model.predict(Xs_test)"
   ]
  },
  {
   "cell_type": "code",
   "execution_count": 175,
   "id": "3a6e03b1",
   "metadata": {},
   "outputs": [
    {
     "data": {
      "text/plain": [
       "0.9178030303030303"
      ]
     },
     "execution_count": 175,
     "metadata": {},
     "output_type": "execute_result"
    }
   ],
   "source": [
    "Accuracy_svm_sigK= accuracy_score(Ys_test, y_pred_svm_sigK)\n",
    "Accuracy_svm_sigK"
   ]
  },
  {
   "cell_type": "code",
   "execution_count": 176,
   "id": "6b431c45",
   "metadata": {},
   "outputs": [
    {
     "data": {
      "text/plain": [
       "0.9214962121212121"
      ]
     },
     "execution_count": 176,
     "metadata": {},
     "output_type": "execute_result"
    }
   ],
   "source": [
    "y_pred_svm_sigK_train = best_svm_sigK_model.predict(Xs_train)\n",
    "Accuracy_svm_sigK_train = accuracy_score(Ys_train, y_pred_svm_sigK_train)\n",
    "Accuracy_svm_sigK_train"
   ]
  },
  {
   "cell_type": "markdown",
   "id": "e48a09ce",
   "metadata": {},
   "source": [
    "###\n"
   ]
  },
  {
   "cell_type": "code",
   "execution_count": 177,
   "id": "b27977f6",
   "metadata": {},
   "outputs": [],
   "source": [
    "svm_lK_model = SVC(random_state=10,probability=True,kernel='linear')"
   ]
  },
  {
   "cell_type": "code",
   "execution_count": 178,
   "id": "42779290",
   "metadata": {},
   "outputs": [],
   "source": [
    "grid_search_svm_lK = GridSearchCV(estimator=svm_lK_model , param_grid=param_grid_svm_K, scoring='accuracy', cv=5, n_jobs=-1)"
   ]
  },
  {
   "cell_type": "code",
   "execution_count": 179,
   "id": "5f22d7cd",
   "metadata": {},
   "outputs": [
    {
     "data": {
      "text/html": [
       "<style>#sk-container-id-19 {color: black;background-color: white;}#sk-container-id-19 pre{padding: 0;}#sk-container-id-19 div.sk-toggleable {background-color: white;}#sk-container-id-19 label.sk-toggleable__label {cursor: pointer;display: block;width: 100%;margin-bottom: 0;padding: 0.3em;box-sizing: border-box;text-align: center;}#sk-container-id-19 label.sk-toggleable__label-arrow:before {content: \"▸\";float: left;margin-right: 0.25em;color: #696969;}#sk-container-id-19 label.sk-toggleable__label-arrow:hover:before {color: black;}#sk-container-id-19 div.sk-estimator:hover label.sk-toggleable__label-arrow:before {color: black;}#sk-container-id-19 div.sk-toggleable__content {max-height: 0;max-width: 0;overflow: hidden;text-align: left;background-color: #f0f8ff;}#sk-container-id-19 div.sk-toggleable__content pre {margin: 0.2em;color: black;border-radius: 0.25em;background-color: #f0f8ff;}#sk-container-id-19 input.sk-toggleable__control:checked~div.sk-toggleable__content {max-height: 200px;max-width: 100%;overflow: auto;}#sk-container-id-19 input.sk-toggleable__control:checked~label.sk-toggleable__label-arrow:before {content: \"▾\";}#sk-container-id-19 div.sk-estimator input.sk-toggleable__control:checked~label.sk-toggleable__label {background-color: #d4ebff;}#sk-container-id-19 div.sk-label input.sk-toggleable__control:checked~label.sk-toggleable__label {background-color: #d4ebff;}#sk-container-id-19 input.sk-hidden--visually {border: 0;clip: rect(1px 1px 1px 1px);clip: rect(1px, 1px, 1px, 1px);height: 1px;margin: -1px;overflow: hidden;padding: 0;position: absolute;width: 1px;}#sk-container-id-19 div.sk-estimator {font-family: monospace;background-color: #f0f8ff;border: 1px dotted black;border-radius: 0.25em;box-sizing: border-box;margin-bottom: 0.5em;}#sk-container-id-19 div.sk-estimator:hover {background-color: #d4ebff;}#sk-container-id-19 div.sk-parallel-item::after {content: \"\";width: 100%;border-bottom: 1px solid gray;flex-grow: 1;}#sk-container-id-19 div.sk-label:hover label.sk-toggleable__label {background-color: #d4ebff;}#sk-container-id-19 div.sk-serial::before {content: \"\";position: absolute;border-left: 1px solid gray;box-sizing: border-box;top: 0;bottom: 0;left: 50%;z-index: 0;}#sk-container-id-19 div.sk-serial {display: flex;flex-direction: column;align-items: center;background-color: white;padding-right: 0.2em;padding-left: 0.2em;position: relative;}#sk-container-id-19 div.sk-item {position: relative;z-index: 1;}#sk-container-id-19 div.sk-parallel {display: flex;align-items: stretch;justify-content: center;background-color: white;position: relative;}#sk-container-id-19 div.sk-item::before, #sk-container-id-19 div.sk-parallel-item::before {content: \"\";position: absolute;border-left: 1px solid gray;box-sizing: border-box;top: 0;bottom: 0;left: 50%;z-index: -1;}#sk-container-id-19 div.sk-parallel-item {display: flex;flex-direction: column;z-index: 1;position: relative;background-color: white;}#sk-container-id-19 div.sk-parallel-item:first-child::after {align-self: flex-end;width: 50%;}#sk-container-id-19 div.sk-parallel-item:last-child::after {align-self: flex-start;width: 50%;}#sk-container-id-19 div.sk-parallel-item:only-child::after {width: 0;}#sk-container-id-19 div.sk-dashed-wrapped {border: 1px dashed gray;margin: 0 0.4em 0.5em 0.4em;box-sizing: border-box;padding-bottom: 0.4em;background-color: white;}#sk-container-id-19 div.sk-label label {font-family: monospace;font-weight: bold;display: inline-block;line-height: 1.2em;}#sk-container-id-19 div.sk-label-container {text-align: center;}#sk-container-id-19 div.sk-container {/* jupyter's `normalize.less` sets `[hidden] { display: none; }` but bootstrap.min.css set `[hidden] { display: none !important; }` so we also need the `!important` here to be able to override the default hidden behavior on the sphinx rendered scikit-learn.org. See: https://github.com/scikit-learn/scikit-learn/issues/21755 */display: inline-block !important;position: relative;}#sk-container-id-19 div.sk-text-repr-fallback {display: none;}</style><div id=\"sk-container-id-19\" class=\"sk-top-container\"><div class=\"sk-text-repr-fallback\"><pre>GridSearchCV(cv=5,\n",
       "             estimator=SVC(kernel=&#x27;linear&#x27;, probability=True, random_state=10),\n",
       "             n_jobs=-1,\n",
       "             param_grid={&#x27;C&#x27;: [1, 1.5, 2, 2.5, 3, 3.5],\n",
       "                         &#x27;decision_function_shape&#x27;: [&#x27;ovo&#x27;, &#x27;ovr&#x27;],\n",
       "                         &#x27;gamma&#x27;: [&#x27;scale&#x27;, &#x27;auto&#x27;, 0.01, 0.1]},\n",
       "             scoring=&#x27;accuracy&#x27;)</pre><b>In a Jupyter environment, please rerun this cell to show the HTML representation or trust the notebook. <br />On GitHub, the HTML representation is unable to render, please try loading this page with nbviewer.org.</b></div><div class=\"sk-container\" hidden><div class=\"sk-item sk-dashed-wrapped\"><div class=\"sk-label-container\"><div class=\"sk-label sk-toggleable\"><input class=\"sk-toggleable__control sk-hidden--visually\" id=\"sk-estimator-id-40\" type=\"checkbox\" ><label for=\"sk-estimator-id-40\" class=\"sk-toggleable__label sk-toggleable__label-arrow\">GridSearchCV</label><div class=\"sk-toggleable__content\"><pre>GridSearchCV(cv=5,\n",
       "             estimator=SVC(kernel=&#x27;linear&#x27;, probability=True, random_state=10),\n",
       "             n_jobs=-1,\n",
       "             param_grid={&#x27;C&#x27;: [1, 1.5, 2, 2.5, 3, 3.5],\n",
       "                         &#x27;decision_function_shape&#x27;: [&#x27;ovo&#x27;, &#x27;ovr&#x27;],\n",
       "                         &#x27;gamma&#x27;: [&#x27;scale&#x27;, &#x27;auto&#x27;, 0.01, 0.1]},\n",
       "             scoring=&#x27;accuracy&#x27;)</pre></div></div></div><div class=\"sk-parallel\"><div class=\"sk-parallel-item\"><div class=\"sk-item\"><div class=\"sk-label-container\"><div class=\"sk-label sk-toggleable\"><input class=\"sk-toggleable__control sk-hidden--visually\" id=\"sk-estimator-id-41\" type=\"checkbox\" ><label for=\"sk-estimator-id-41\" class=\"sk-toggleable__label sk-toggleable__label-arrow\">estimator: SVC</label><div class=\"sk-toggleable__content\"><pre>SVC(kernel=&#x27;linear&#x27;, probability=True, random_state=10)</pre></div></div></div><div class=\"sk-serial\"><div class=\"sk-item\"><div class=\"sk-estimator sk-toggleable\"><input class=\"sk-toggleable__control sk-hidden--visually\" id=\"sk-estimator-id-42\" type=\"checkbox\" ><label for=\"sk-estimator-id-42\" class=\"sk-toggleable__label sk-toggleable__label-arrow\">SVC</label><div class=\"sk-toggleable__content\"><pre>SVC(kernel=&#x27;linear&#x27;, probability=True, random_state=10)</pre></div></div></div></div></div></div></div></div></div></div>"
      ],
      "text/plain": [
       "GridSearchCV(cv=5,\n",
       "             estimator=SVC(kernel='linear', probability=True, random_state=10),\n",
       "             n_jobs=-1,\n",
       "             param_grid={'C': [1, 1.5, 2, 2.5, 3, 3.5],\n",
       "                         'decision_function_shape': ['ovo', 'ovr'],\n",
       "                         'gamma': ['scale', 'auto', 0.01, 0.1]},\n",
       "             scoring='accuracy')"
      ]
     },
     "execution_count": 179,
     "metadata": {},
     "output_type": "execute_result"
    }
   ],
   "source": [
    "grid_search_svm_lK.fit(Xs_train,Ys_train)"
   ]
  },
  {
   "cell_type": "code",
   "execution_count": 180,
   "id": "e72e5df3",
   "metadata": {},
   "outputs": [
    {
     "data": {
      "text/html": [
       "<style>#sk-container-id-20 {color: black;background-color: white;}#sk-container-id-20 pre{padding: 0;}#sk-container-id-20 div.sk-toggleable {background-color: white;}#sk-container-id-20 label.sk-toggleable__label {cursor: pointer;display: block;width: 100%;margin-bottom: 0;padding: 0.3em;box-sizing: border-box;text-align: center;}#sk-container-id-20 label.sk-toggleable__label-arrow:before {content: \"▸\";float: left;margin-right: 0.25em;color: #696969;}#sk-container-id-20 label.sk-toggleable__label-arrow:hover:before {color: black;}#sk-container-id-20 div.sk-estimator:hover label.sk-toggleable__label-arrow:before {color: black;}#sk-container-id-20 div.sk-toggleable__content {max-height: 0;max-width: 0;overflow: hidden;text-align: left;background-color: #f0f8ff;}#sk-container-id-20 div.sk-toggleable__content pre {margin: 0.2em;color: black;border-radius: 0.25em;background-color: #f0f8ff;}#sk-container-id-20 input.sk-toggleable__control:checked~div.sk-toggleable__content {max-height: 200px;max-width: 100%;overflow: auto;}#sk-container-id-20 input.sk-toggleable__control:checked~label.sk-toggleable__label-arrow:before {content: \"▾\";}#sk-container-id-20 div.sk-estimator input.sk-toggleable__control:checked~label.sk-toggleable__label {background-color: #d4ebff;}#sk-container-id-20 div.sk-label input.sk-toggleable__control:checked~label.sk-toggleable__label {background-color: #d4ebff;}#sk-container-id-20 input.sk-hidden--visually {border: 0;clip: rect(1px 1px 1px 1px);clip: rect(1px, 1px, 1px, 1px);height: 1px;margin: -1px;overflow: hidden;padding: 0;position: absolute;width: 1px;}#sk-container-id-20 div.sk-estimator {font-family: monospace;background-color: #f0f8ff;border: 1px dotted black;border-radius: 0.25em;box-sizing: border-box;margin-bottom: 0.5em;}#sk-container-id-20 div.sk-estimator:hover {background-color: #d4ebff;}#sk-container-id-20 div.sk-parallel-item::after {content: \"\";width: 100%;border-bottom: 1px solid gray;flex-grow: 1;}#sk-container-id-20 div.sk-label:hover label.sk-toggleable__label {background-color: #d4ebff;}#sk-container-id-20 div.sk-serial::before {content: \"\";position: absolute;border-left: 1px solid gray;box-sizing: border-box;top: 0;bottom: 0;left: 50%;z-index: 0;}#sk-container-id-20 div.sk-serial {display: flex;flex-direction: column;align-items: center;background-color: white;padding-right: 0.2em;padding-left: 0.2em;position: relative;}#sk-container-id-20 div.sk-item {position: relative;z-index: 1;}#sk-container-id-20 div.sk-parallel {display: flex;align-items: stretch;justify-content: center;background-color: white;position: relative;}#sk-container-id-20 div.sk-item::before, #sk-container-id-20 div.sk-parallel-item::before {content: \"\";position: absolute;border-left: 1px solid gray;box-sizing: border-box;top: 0;bottom: 0;left: 50%;z-index: -1;}#sk-container-id-20 div.sk-parallel-item {display: flex;flex-direction: column;z-index: 1;position: relative;background-color: white;}#sk-container-id-20 div.sk-parallel-item:first-child::after {align-self: flex-end;width: 50%;}#sk-container-id-20 div.sk-parallel-item:last-child::after {align-self: flex-start;width: 50%;}#sk-container-id-20 div.sk-parallel-item:only-child::after {width: 0;}#sk-container-id-20 div.sk-dashed-wrapped {border: 1px dashed gray;margin: 0 0.4em 0.5em 0.4em;box-sizing: border-box;padding-bottom: 0.4em;background-color: white;}#sk-container-id-20 div.sk-label label {font-family: monospace;font-weight: bold;display: inline-block;line-height: 1.2em;}#sk-container-id-20 div.sk-label-container {text-align: center;}#sk-container-id-20 div.sk-container {/* jupyter's `normalize.less` sets `[hidden] { display: none; }` but bootstrap.min.css set `[hidden] { display: none !important; }` so we also need the `!important` here to be able to override the default hidden behavior on the sphinx rendered scikit-learn.org. See: https://github.com/scikit-learn/scikit-learn/issues/21755 */display: inline-block !important;position: relative;}#sk-container-id-20 div.sk-text-repr-fallback {display: none;}</style><div id=\"sk-container-id-20\" class=\"sk-top-container\"><div class=\"sk-text-repr-fallback\"><pre>SVC(C=2.5, decision_function_shape=&#x27;ovo&#x27;, kernel=&#x27;linear&#x27;, probability=True,\n",
       "    random_state=10)</pre><b>In a Jupyter environment, please rerun this cell to show the HTML representation or trust the notebook. <br />On GitHub, the HTML representation is unable to render, please try loading this page with nbviewer.org.</b></div><div class=\"sk-container\" hidden><div class=\"sk-item\"><div class=\"sk-estimator sk-toggleable\"><input class=\"sk-toggleable__control sk-hidden--visually\" id=\"sk-estimator-id-43\" type=\"checkbox\" checked><label for=\"sk-estimator-id-43\" class=\"sk-toggleable__label sk-toggleable__label-arrow\">SVC</label><div class=\"sk-toggleable__content\"><pre>SVC(C=2.5, decision_function_shape=&#x27;ovo&#x27;, kernel=&#x27;linear&#x27;, probability=True,\n",
       "    random_state=10)</pre></div></div></div></div></div>"
      ],
      "text/plain": [
       "SVC(C=2.5, decision_function_shape='ovo', kernel='linear', probability=True,\n",
       "    random_state=10)"
      ]
     },
     "execution_count": 180,
     "metadata": {},
     "output_type": "execute_result"
    }
   ],
   "source": [
    "best_svm_lK_model = grid_search_svm_lK.best_estimator_\n",
    "best_svm_lK_model"
   ]
  },
  {
   "cell_type": "code",
   "execution_count": 181,
   "id": "fca67727",
   "metadata": {},
   "outputs": [],
   "source": [
    "y_pred_svm_lK = best_svm_lK_model.predict(Xs_test)"
   ]
  },
  {
   "cell_type": "code",
   "execution_count": 182,
   "id": "59dbd361",
   "metadata": {},
   "outputs": [
    {
     "data": {
      "text/plain": [
       "0.9193181818181818"
      ]
     },
     "execution_count": 182,
     "metadata": {},
     "output_type": "execute_result"
    }
   ],
   "source": [
    "Accuracy_svm_lK= accuracy_score(Ys_test, y_pred_svm_lK)\n",
    "Accuracy_svm_lK"
   ]
  },
  {
   "cell_type": "code",
   "execution_count": 183,
   "id": "7559c4b4",
   "metadata": {},
   "outputs": [
    {
     "data": {
      "text/plain": [
       "0.9254734848484848"
      ]
     },
     "execution_count": 183,
     "metadata": {},
     "output_type": "execute_result"
    }
   ],
   "source": [
    "y_pred_svm_lK_train = best_svm_lK_model.predict(Xs_train)\n",
    "Accuracy_svm_lK_train = accuracy_score(Ys_train, y_pred_svm_lK_train)\n",
    "Accuracy_svm_lK_train"
   ]
  },
  {
   "cell_type": "markdown",
   "id": "cd5934ae",
   "metadata": {},
   "source": [
    "###"
   ]
  },
  {
   "cell_type": "code",
   "execution_count": 184,
   "id": "362cb032",
   "metadata": {},
   "outputs": [
    {
     "data": {
      "text/html": [
       "<div>\n",
       "<style scoped>\n",
       "    .dataframe tbody tr th:only-of-type {\n",
       "        vertical-align: middle;\n",
       "    }\n",
       "\n",
       "    .dataframe tbody tr th {\n",
       "        vertical-align: top;\n",
       "    }\n",
       "\n",
       "    .dataframe thead th {\n",
       "        text-align: right;\n",
       "    }\n",
       "</style>\n",
       "<table border=\"1\" class=\"dataframe\">\n",
       "  <thead>\n",
       "    <tr style=\"text-align: right;\">\n",
       "      <th></th>\n",
       "      <th>Kernal</th>\n",
       "      <th>Score</th>\n",
       "    </tr>\n",
       "  </thead>\n",
       "  <tbody>\n",
       "    <tr>\n",
       "      <th>0</th>\n",
       "      <td>Linear</td>\n",
       "      <td>0.919318</td>\n",
       "    </tr>\n",
       "    <tr>\n",
       "      <th>1</th>\n",
       "      <td>Polynomial</td>\n",
       "      <td>0.938258</td>\n",
       "    </tr>\n",
       "    <tr>\n",
       "      <th>2</th>\n",
       "      <td>RBF</td>\n",
       "      <td>0.936742</td>\n",
       "    </tr>\n",
       "    <tr>\n",
       "      <th>3</th>\n",
       "      <td>Sigmoid</td>\n",
       "      <td>0.917803</td>\n",
       "    </tr>\n",
       "  </tbody>\n",
       "</table>\n",
       "</div>"
      ],
      "text/plain": [
       "       Kernal     Score\n",
       "0      Linear  0.919318\n",
       "1  Polynomial  0.938258\n",
       "2         RBF  0.936742\n",
       "3     Sigmoid  0.917803"
      ]
     },
     "execution_count": 184,
     "metadata": {},
     "output_type": "execute_result"
    }
   ],
   "source": [
    "result_svm = pd.DataFrame({\n",
    "    'Kernal': ['Linear', 'Polynomial','RBF','Sigmoid'],\n",
    "    'Score': [Accuracy_svm_lK, Accuracy_svm_polyK,Accuracy_svm_rbfK,Accuracy_svm_sigK]\n",
    "})\n",
    "result_svm"
   ]
  },
  {
   "cell_type": "code",
   "execution_count": 185,
   "id": "e96de484",
   "metadata": {},
   "outputs": [
    {
     "data": {
      "image/png": "[encoded data removed]",
      "text/plain": [
       "<Figure size 1000x600 with 1 Axes>"
      ]
     },
     "metadata": {},
     "output_type": "display_data"
    }
   ],
   "source": [
    "result_svm.sort_values(by='Score', ascending=False, inplace=True)\n",
    "fig, ax = plt.subplots(1, 1, figsize=(10, 6))\n",
    "\n",
    "sns.barplot(x='Kernal', y='Score', data=result_svm, ax=ax)\n",
    "ax.bar_label(ax.containers[0], fmt='%.3f')\n",
    "ax.set_xticklabels(labels=result_svm.Kernal, rotation=45)\n",
    "plt.title('Kernal Performance Comparison')\n",
    "plt.ylabel('Accuracy Score')\n",
    "plt.show()"
   ]
  },
  {
   "cell_type": "markdown",
   "id": "99249768",
   "metadata": {},
   "source": [
    "###"
   ]
  },
  {
   "cell_type": "markdown",
   "id": "9b186e15",
   "metadata": {},
   "source": [
    "# Model Performance Comparisson"
   ]
  },
  {
   "cell_type": "code",
   "execution_count": 186,
   "id": "0b142c8f",
   "metadata": {},
   "outputs": [
    {
     "data": {
      "text/html": [
       "<div>\n",
       "<style scoped>\n",
       "    .dataframe tbody tr th:only-of-type {\n",
       "        vertical-align: middle;\n",
       "    }\n",
       "\n",
       "    .dataframe tbody tr th {\n",
       "        vertical-align: top;\n",
       "    }\n",
       "\n",
       "    .dataframe thead th {\n",
       "        text-align: right;\n",
       "    }\n",
       "</style>\n",
       "<table border=\"1\" class=\"dataframe\">\n",
       "  <thead>\n",
       "    <tr style=\"text-align: right;\">\n",
       "      <th></th>\n",
       "      <th>Algorithm</th>\n",
       "      <th>Score</th>\n",
       "    </tr>\n",
       "  </thead>\n",
       "  <tbody>\n",
       "    <tr>\n",
       "      <th>0</th>\n",
       "      <td>RandomForestClassifier</td>\n",
       "      <td>0.932197</td>\n",
       "    </tr>\n",
       "    <tr>\n",
       "      <th>1</th>\n",
       "      <td>LogisticRegression</td>\n",
       "      <td>0.913258</td>\n",
       "    </tr>\n",
       "    <tr>\n",
       "      <th>2</th>\n",
       "      <td>XGBoostClassifier</td>\n",
       "      <td>0.939015</td>\n",
       "    </tr>\n",
       "    <tr>\n",
       "      <th>3</th>\n",
       "      <td>GradientBoostClassifier</td>\n",
       "      <td>0.932197</td>\n",
       "    </tr>\n",
       "    <tr>\n",
       "      <th>4</th>\n",
       "      <td>AdaBoostClassifier</td>\n",
       "      <td>0.937879</td>\n",
       "    </tr>\n",
       "    <tr>\n",
       "      <th>5</th>\n",
       "      <td>SVM</td>\n",
       "      <td>0.936742</td>\n",
       "    </tr>\n",
       "  </tbody>\n",
       "</table>\n",
       "</div>"
      ],
      "text/plain": [
       "                 Algorithm     Score\n",
       "0   RandomForestClassifier  0.932197\n",
       "1       LogisticRegression  0.913258\n",
       "2        XGBoostClassifier  0.939015\n",
       "3  GradientBoostClassifier  0.932197\n",
       "4       AdaBoostClassifier  0.937879\n",
       "5                      SVM  0.936742"
      ]
     },
     "execution_count": 186,
     "metadata": {},
     "output_type": "execute_result"
    }
   ],
   "source": [
    "result = pd.DataFrame({\n",
    "    'Algorithm': ['RandomForestClassifier', 'LogisticRegression','XGBoostClassifier','GradientBoostClassifier','AdaBoostClassifier','SVM'],\n",
    "    'Score': [Accuracy_rf, Accuracy_logi,Accuracy_xgb,Accuracy_gbm,Accuracy_ada,Accuracy_svm_rbfK]\n",
    "})\n",
    "result"
   ]
  },
  {
   "cell_type": "code",
   "execution_count": 187,
   "id": "d62e5525",
   "metadata": {},
   "outputs": [
    {
     "data": {
      "image/png": "[encoded data removed]",
      "text/plain": [
       "<Figure size 1000x600 with 1 Axes>"
      ]
     },
     "metadata": {},
     "output_type": "display_data"
    }
   ],
   "source": [
    "result.sort_values(by='Score', ascending=False, inplace=True)\n",
    "fig, ax = plt.subplots(1, 1, figsize=(10, 6))\n",
    "\n",
    "sns.barplot(x='Algorithm', y='Score', data=result, ax=ax)\n",
    "ax.bar_label(ax.containers[0], fmt='%.3f')\n",
    "ax.set_xticklabels(labels=result.Algorithm, rotation=45)\n",
    "plt.title('Model Performance Comparison')\n",
    "plt.ylabel('Accuracy Score')\n",
    "plt.show()"
   ]
  },
  {
   "cell_type": "markdown",
   "id": "706c0f6b",
   "metadata": {},
   "source": [
    "## Variable Importance "
   ]
  },
  {
   "cell_type": "code",
   "execution_count": 188,
   "id": "6cec9726",
   "metadata": {
    "scrolled": true
   },
   "outputs": [
    {
     "data": {
      "image/png": "[encoded data removed]",
      "text/plain": [
       "<Figure size 640x480 with 1 Axes>"
      ]
     },
     "metadata": {},
     "output_type": "display_data"
    }
   ],
   "source": [
    "from xgboost import plot_importance\n",
    "from matplotlib import pyplot\n",
    "\n",
    "plot_importance(best_xgb_model)\n",
    "pyplot.show()"
   ]
  },
  {
   "cell_type": "code",
   "execution_count": null,
   "id": "0719cb35",
   "metadata": {
    "scrolled": true
   },
   "outputs": [],
   "source": [
    "from sklearn.feature_selection import SelectFromModel\n",
    "from numpy import sort\n",
    "\n",
    "thresholds = sort(best_xgb_model.feature_importances_)\n",
    "\n",
    "for thresh in thresholds:\n",
    "    selection = SelectFromModel(best_xgb_model, threshold=thresh, prefit=True)\n",
    "    select_X_train = selection.transform(X_train.values)\n",
    "    selection_model = xgb.XGBClassifier()\n",
    "    selection_model.fit(select_X_train, Y_train)\n",
    "    \n",
    "    select_X_test = selection.transform(X_test.values)  \n",
    "    y_pred = selection_model.predict(select_X_test)\n",
    "    \n",
    "    predictions = [round(value) for value in y_pred]\n",
    "    accuracy = accuracy_score(Y_test, predictions)\n",
    "    \n",
    "    print(\"Thresh=%.3f, n=%d, Accuracy: %.2f%%\" % (thresh, select_X_train.shape[1], accuracy * 100.0))"
   ]
  },
  {
   "cell_type": "code",
   "execution_count": 99,
   "id": "d45bb9f0",
   "metadata": {},
   "outputs": [
    {
     "name": "stdout",
     "output_type": "stream",
     "text": [
      "Index: 0, Feature Name: Temperature\n",
      "Index: 1, Feature Name: Humidity\n",
      "Index: 2, Feature Name: Wind_Speed\n",
      "Index: 3, Feature Name: Precipitation_percent\n",
      "Index: 4, Feature Name: Atmospheric_Pressure\n",
      "Index: 5, Feature Name: UV_Index\n",
      "Index: 6, Feature Name: Visibility_km\n",
      "Index: 7, Feature Name: Cloud_Cover_cloudy\n",
      "Index: 8, Feature Name: Cloud_Cover_overcast\n",
      "Index: 9, Feature Name: Cloud_Cover_partly cloudy\n",
      "Index: 10, Feature Name: Season_Spring\n",
      "Index: 11, Feature Name: Season_Summer\n",
      "Index: 12, Feature Name: Season_Winter\n",
      "Index: 13, Feature Name: Location_inland\n",
      "Index: 14, Feature Name: Location_mountain\n"
     ]
    }
   ],
   "source": [
    "feature_names = best_xgb_model.feature_names_in_\n",
    "for idx, name in enumerate(feature_names):\n",
    "    print(f\"Index: {idx}, Feature Name: {name}\")"
   ]
  },
  {
   "cell_type": "code",
   "execution_count": 97,
   "id": "56bc62d4",
   "metadata": {},
   "outputs": [],
   "source": [
    "from sklearn.inspection import PartialDependenceDisplay\n",
    "from matplotlib import pyplot as plt"
   ]
  },
  {
   "cell_type": "code",
   "execution_count": 101,
   "id": "66b37ef0",
   "metadata": {},
   "outputs": [
    {
     "name": "stdout",
     "output_type": "stream",
     "text": [
      "Selected feature indices: [0, 4, 3, 6, 5]\n"
     ]
    }
   ],
   "source": [
    "selected_features = ['Temperature', 'Atmospheric_Pressure', 'Precipitation_percent','Visibility_km']\n",
    "selected_indices = [list(feature_names).index(name) for name in selected_features]\n",
    "print(\"Selected feature indices:\", selected_indices)"
   ]
  },
  {
   "cell_type": "code",
   "execution_count": 104,
   "id": "03dbbbd5",
   "metadata": {},
   "outputs": [
    {
     "name": "stdout",
     "output_type": "stream",
     "text": [
      "Target Classes: [0 1 2 3]\n"
     ]
    }
   ],
   "source": [
    "target_classes = best_xgb_model.classes_\n",
    "print(\"Target Classes:\", target_classes)"
   ]
  },
  {
   "cell_type": "code",
   "execution_count": 108,
   "id": "ca26688d",
   "metadata": {},
   "outputs": [
    {
     "data": {
      "image/png": "[encoded data removed]",
      "text/plain": [
       "<Figure size 1000x600 with 6 Axes>"
      ]
     },
     "metadata": {},
     "output_type": "display_data"
    },
    {
     "data": {
      "image/png": "[encoded data removed]",
      "text/plain": [
       "<Figure size 1000x600 with 6 Axes>"
      ]
     },
     "metadata": {},
     "output_type": "display_data"
    },
    {
     "data": {
      "image/png": "[encoded data removed]",
      "text/plain": [
       "<Figure size 1000x600 with 6 Axes>"
      ]
     },
     "metadata": {},
     "output_type": "display_data"
    },
    {
     "data": {
      "image/png": "[encoded data removed]",
      "text/plain": [
       "<Figure size 1000x600 with 6 Axes>"
      ]
     },
     "metadata": {},
     "output_type": "display_data"
    }
   ],
   "source": [
    "for target_class in target_classes:\n",
    "    fig, ax = plt.subplots(figsize=(10, 6))\n",
    "    PartialDependenceDisplay.from_estimator(\n",
    "        estimator=best_xgb_model,\n",
    "        X=X_train,\n",
    "        features=selected_indices, \n",
    "        grid_resolution=50,\n",
    "        target=target_class,\n",
    "        ax=ax\n",
    "    )\n",
    "    \n",
    "    plt.title(f\"Partial Dependence Plot for Class {target_class}\")\n",
    "    plt.show()"
   ]
  },
  {
   "cell_type": "code",
   "execution_count": null,
   "id": "ff3caab8",
   "metadata": {},
   "outputs": [],
   "source": []
  },
  {
   "cell_type": "code",
   "execution_count": null,
   "id": "72f290b9",
   "metadata": {},
   "outputs": [],
   "source": []
  },
  {
   "cell_type": "code",
   "execution_count": null,
   "id": "c600e220",
   "metadata": {},
   "outputs": [],
   "source": []
  }
 ],
 "metadata": {
  "kernelspec": {
   "display_name": "Python 3 (ipykernel)",
   "language": "python",
   "name": "python3"
  },
  "language_info": {
   "codemirror_mode": {
    "name": "ipython",
    "version": 3
   },
   "file_extension": ".py",
   "mimetype": "text/x-python",
   "name": "python",
   "nbconvert_exporter": "python",
   "pygments_lexer": "ipython3",
   "version": "3.10.9"
  }
 },
 "nbformat": 4,
 "nbformat_minor": 5
}
